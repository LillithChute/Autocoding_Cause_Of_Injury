{
 "cells": [
  {
   "cell_type": "code",
   "execution_count": 3,
   "id": "b456b002",
   "metadata": {},
   "outputs": [],
   "source": [
    "import pandas as pd\n",
    "import numpy as np\n",
    "\n",
    "from sklearn.preprocessing import LabelEncoder\n",
    "from sklearn.model_selection import train_test_split\n",
    "import matplotlib.pyplot as plt\n",
    "import seaborn as sns\n",
    "import pickle \n",
    "import os\n",
    "os.environ['KMP_DUPLICATE_LIB_OK']='True'\n",
    "from sklearn.metrics import classification_report\n",
    "from xgboost import XGBClassifier\n",
    "from sklearn.metrics import accuracy_score\n",
    "from sklearn.metrics import confusion_matrix\n",
    "\n",
    "from sklearn.model_selection import GridSearchCV\n",
    "from sklearn.experimental import enable_halving_search_cv\n",
    "from sklearn.model_selection import HalvingGridSearchCV\n",
    "\n",
    "\n",
    "from sklearn.feature_extraction.text import TfidfVectorizer\n",
    "from sklearn.naive_bayes import MultinomialNB\n",
    "from sklearn.model_selection import train_test_split\n",
    "from sklearn.metrics import accuracy_score\n",
    "\n",
    "import xgboost as xgb\n",
    "from sklearn.tree import DecisionTreeClassifier\n",
    "from sklearn.ensemble import RandomForestClassifier\n",
    "from sklearn.ensemble import RandomForestRegressor"
   ]
  },
  {
   "cell_type": "code",
   "execution_count": 4,
   "id": "7f291d7e",
   "metadata": {},
   "outputs": [],
   "source": [
    "data = pd.read_excel(\"data/InjuryCauseTopThirteen.xlsx\")\n"
   ]
  },
  {
   "cell_type": "code",
   "execution_count": 5,
   "id": "b22b0864",
   "metadata": {},
   "outputs": [
    {
     "data": {
      "text/html": [
       "<div>\n",
       "<style scoped>\n",
       "    .dataframe tbody tr th:only-of-type {\n",
       "        vertical-align: middle;\n",
       "    }\n",
       "\n",
       "    .dataframe tbody tr th {\n",
       "        vertical-align: top;\n",
       "    }\n",
       "\n",
       "    .dataframe thead th {\n",
       "        text-align: right;\n",
       "    }\n",
       "</style>\n",
       "<table border=\"1\" class=\"dataframe\">\n",
       "  <thead>\n",
       "    <tr style=\"text-align: right;\">\n",
       "      <th></th>\n",
       "      <th>InjuryCauseDesc</th>\n",
       "      <th>InjuryDesc</th>\n",
       "    </tr>\n",
       "  </thead>\n",
       "  <tbody>\n",
       "    <tr>\n",
       "      <th>0</th>\n",
       "      <td>Struck by falling object</td>\n",
       "      <td>DOING SECURITY ON THE PIER FOR PAINTING OF WHA...</td>\n",
       "    </tr>\n",
       "    <tr>\n",
       "      <th>1</th>\n",
       "      <td>Bending, climbing, crawling, reaching, twisting</td>\n",
       "      <td>IW WAS MOVING A CARTON OF SHAVING CREAM AND HA...</td>\n",
       "    </tr>\n",
       "    <tr>\n",
       "      <th>2</th>\n",
       "      <td>Bending, climbing, crawling, reaching, twisting</td>\n",
       "      <td>PICKING UP BOXES OF FILES AND HURT LOWER BACK</td>\n",
       "    </tr>\n",
       "    <tr>\n",
       "      <th>3</th>\n",
       "      <td>Struck by falling object</td>\n",
       "      <td>BEAM SLIPPED AND STRUCK EE'S RIGHT WRIST.</td>\n",
       "    </tr>\n",
       "    <tr>\n",
       "      <th>4</th>\n",
       "      <td>Overexertion in lifting</td>\n",
       "      <td>EMPLOYEE STATED THAT HE FELT STRAIN IN HIS LOW...</td>\n",
       "    </tr>\n",
       "    <tr>\n",
       "      <th>...</th>\n",
       "      <td>...</td>\n",
       "      <td>...</td>\n",
       "    </tr>\n",
       "    <tr>\n",
       "      <th>101423</th>\n",
       "      <td>Struck by slipping handheld object</td>\n",
       "      <td>Employee was slicing food with a knife and it ...</td>\n",
       "    </tr>\n",
       "    <tr>\n",
       "      <th>101424</th>\n",
       "      <td>Rubbed or abraded by foreign matter in eye</td>\n",
       "      <td>Employee was cleaning the Davinci arm using th...</td>\n",
       "    </tr>\n",
       "    <tr>\n",
       "      <th>101425</th>\n",
       "      <td>Bending, climbing, crawling, reaching, twisting</td>\n",
       "      <td>allegedly tweaked her back While checking the ...</td>\n",
       "    </tr>\n",
       "    <tr>\n",
       "      <th>101426</th>\n",
       "      <td>Fall to floor, walkway, or other surface</td>\n",
       "      <td>Employee reports she was sitting in a chair an...</td>\n",
       "    </tr>\n",
       "    <tr>\n",
       "      <th>101427</th>\n",
       "      <td>Struck against stationary object</td>\n",
       "      <td>While performing regular duties, Ms. Salamanca...</td>\n",
       "    </tr>\n",
       "  </tbody>\n",
       "</table>\n",
       "<p>101428 rows × 2 columns</p>\n",
       "</div>"
      ],
      "text/plain": [
       "                                        InjuryCauseDesc  \\\n",
       "0                              Struck by falling object   \n",
       "1       Bending, climbing, crawling, reaching, twisting   \n",
       "2       Bending, climbing, crawling, reaching, twisting   \n",
       "3                              Struck by falling object   \n",
       "4                               Overexertion in lifting   \n",
       "...                                                 ...   \n",
       "101423               Struck by slipping handheld object   \n",
       "101424       Rubbed or abraded by foreign matter in eye   \n",
       "101425  Bending, climbing, crawling, reaching, twisting   \n",
       "101426         Fall to floor, walkway, or other surface   \n",
       "101427                 Struck against stationary object   \n",
       "\n",
       "                                               InjuryDesc  \n",
       "0       DOING SECURITY ON THE PIER FOR PAINTING OF WHA...  \n",
       "1       IW WAS MOVING A CARTON OF SHAVING CREAM AND HA...  \n",
       "2           PICKING UP BOXES OF FILES AND HURT LOWER BACK  \n",
       "3               BEAM SLIPPED AND STRUCK EE'S RIGHT WRIST.  \n",
       "4       EMPLOYEE STATED THAT HE FELT STRAIN IN HIS LOW...  \n",
       "...                                                   ...  \n",
       "101423  Employee was slicing food with a knife and it ...  \n",
       "101424  Employee was cleaning the Davinci arm using th...  \n",
       "101425  allegedly tweaked her back While checking the ...  \n",
       "101426  Employee reports she was sitting in a chair an...  \n",
       "101427  While performing regular duties, Ms. Salamanca...  \n",
       "\n",
       "[101428 rows x 2 columns]"
      ]
     },
     "execution_count": 5,
     "metadata": {},
     "output_type": "execute_result"
    }
   ],
   "source": [
    "data"
   ]
  },
  {
   "cell_type": "code",
   "execution_count": 6,
   "id": "0b9cf542",
   "metadata": {},
   "outputs": [],
   "source": [
    "from sklearn.preprocessing import LabelEncoder\n",
    "\n",
    "le = LabelEncoder()\n",
    "label = le.fit_transform(data.InjuryCauseDesc)\n",
    "data['label']=label"
   ]
  },
  {
   "cell_type": "code",
   "execution_count": 7,
   "id": "fc8f1049",
   "metadata": {},
   "outputs": [
    {
     "data": {
      "text/html": [
       "<div>\n",
       "<style scoped>\n",
       "    .dataframe tbody tr th:only-of-type {\n",
       "        vertical-align: middle;\n",
       "    }\n",
       "\n",
       "    .dataframe tbody tr th {\n",
       "        vertical-align: top;\n",
       "    }\n",
       "\n",
       "    .dataframe thead th {\n",
       "        text-align: right;\n",
       "    }\n",
       "</style>\n",
       "<table border=\"1\" class=\"dataframe\">\n",
       "  <thead>\n",
       "    <tr style=\"text-align: right;\">\n",
       "      <th></th>\n",
       "      <th>InjuryCauseDesc</th>\n",
       "      <th>InjuryDesc</th>\n",
       "      <th>label</th>\n",
       "    </tr>\n",
       "  </thead>\n",
       "  <tbody>\n",
       "    <tr>\n",
       "      <th>0</th>\n",
       "      <td>Struck by falling object</td>\n",
       "      <td>DOING SECURITY ON THE PIER FOR PAINTING OF WHA...</td>\n",
       "      <td>11</td>\n",
       "    </tr>\n",
       "    <tr>\n",
       "      <th>1</th>\n",
       "      <td>Bending, climbing, crawling, reaching, twisting</td>\n",
       "      <td>IW WAS MOVING A CARTON OF SHAVING CREAM AND HA...</td>\n",
       "      <td>0</td>\n",
       "    </tr>\n",
       "    <tr>\n",
       "      <th>2</th>\n",
       "      <td>Bending, climbing, crawling, reaching, twisting</td>\n",
       "      <td>PICKING UP BOXES OF FILES AND HURT LOWER BACK</td>\n",
       "      <td>0</td>\n",
       "    </tr>\n",
       "    <tr>\n",
       "      <th>3</th>\n",
       "      <td>Struck by falling object</td>\n",
       "      <td>BEAM SLIPPED AND STRUCK EE'S RIGHT WRIST.</td>\n",
       "      <td>11</td>\n",
       "    </tr>\n",
       "    <tr>\n",
       "      <th>4</th>\n",
       "      <td>Overexertion in lifting</td>\n",
       "      <td>EMPLOYEE STATED THAT HE FELT STRAIN IN HIS LOW...</td>\n",
       "      <td>5</td>\n",
       "    </tr>\n",
       "    <tr>\n",
       "      <th>...</th>\n",
       "      <td>...</td>\n",
       "      <td>...</td>\n",
       "      <td>...</td>\n",
       "    </tr>\n",
       "    <tr>\n",
       "      <th>101423</th>\n",
       "      <td>Struck by slipping handheld object</td>\n",
       "      <td>Employee was slicing food with a knife and it ...</td>\n",
       "      <td>12</td>\n",
       "    </tr>\n",
       "    <tr>\n",
       "      <th>101424</th>\n",
       "      <td>Rubbed or abraded by foreign matter in eye</td>\n",
       "      <td>Employee was cleaning the Davinci arm using th...</td>\n",
       "      <td>8</td>\n",
       "    </tr>\n",
       "    <tr>\n",
       "      <th>101425</th>\n",
       "      <td>Bending, climbing, crawling, reaching, twisting</td>\n",
       "      <td>allegedly tweaked her back While checking the ...</td>\n",
       "      <td>0</td>\n",
       "    </tr>\n",
       "    <tr>\n",
       "      <th>101426</th>\n",
       "      <td>Fall to floor, walkway, or other surface</td>\n",
       "      <td>Employee reports she was sitting in a chair an...</td>\n",
       "      <td>4</td>\n",
       "    </tr>\n",
       "    <tr>\n",
       "      <th>101427</th>\n",
       "      <td>Struck against stationary object</td>\n",
       "      <td>While performing regular duties, Ms. Salamanca...</td>\n",
       "      <td>10</td>\n",
       "    </tr>\n",
       "  </tbody>\n",
       "</table>\n",
       "<p>101428 rows × 3 columns</p>\n",
       "</div>"
      ],
      "text/plain": [
       "                                        InjuryCauseDesc  \\\n",
       "0                              Struck by falling object   \n",
       "1       Bending, climbing, crawling, reaching, twisting   \n",
       "2       Bending, climbing, crawling, reaching, twisting   \n",
       "3                              Struck by falling object   \n",
       "4                               Overexertion in lifting   \n",
       "...                                                 ...   \n",
       "101423               Struck by slipping handheld object   \n",
       "101424       Rubbed or abraded by foreign matter in eye   \n",
       "101425  Bending, climbing, crawling, reaching, twisting   \n",
       "101426         Fall to floor, walkway, or other surface   \n",
       "101427                 Struck against stationary object   \n",
       "\n",
       "                                               InjuryDesc  label  \n",
       "0       DOING SECURITY ON THE PIER FOR PAINTING OF WHA...     11  \n",
       "1       IW WAS MOVING A CARTON OF SHAVING CREAM AND HA...      0  \n",
       "2           PICKING UP BOXES OF FILES AND HURT LOWER BACK      0  \n",
       "3               BEAM SLIPPED AND STRUCK EE'S RIGHT WRIST.     11  \n",
       "4       EMPLOYEE STATED THAT HE FELT STRAIN IN HIS LOW...      5  \n",
       "...                                                   ...    ...  \n",
       "101423  Employee was slicing food with a knife and it ...     12  \n",
       "101424  Employee was cleaning the Davinci arm using th...      8  \n",
       "101425  allegedly tweaked her back While checking the ...      0  \n",
       "101426  Employee reports she was sitting in a chair an...      4  \n",
       "101427  While performing regular duties, Ms. Salamanca...     10  \n",
       "\n",
       "[101428 rows x 3 columns]"
      ]
     },
     "execution_count": 7,
     "metadata": {},
     "output_type": "execute_result"
    }
   ],
   "source": [
    "data"
   ]
  },
  {
   "cell_type": "code",
   "execution_count": 8,
   "id": "01ee930f",
   "metadata": {},
   "outputs": [],
   "source": [
    "# drop nan\n",
    "data.dropna(inplace=True)"
   ]
  },
  {
   "cell_type": "code",
   "execution_count": 9,
   "id": "78dd5a39",
   "metadata": {},
   "outputs": [
    {
     "data": {
      "text/plain": [
       "4     15882\n",
       "5     14716\n",
       "3     13317\n",
       "9      8953\n",
       "1      6972\n",
       "6      5868\n",
       "11     5796\n",
       "0      5674\n",
       "10     5329\n",
       "7      5257\n",
       "12     5102\n",
       "2      4509\n",
       "8      4037\n",
       "Name: label, dtype: int64"
      ]
     },
     "execution_count": 9,
     "metadata": {},
     "output_type": "execute_result"
    }
   ],
   "source": [
    "data.label.value_counts()"
   ]
  },
  {
   "cell_type": "code",
   "execution_count": 10,
   "id": "6d0f8a87",
   "metadata": {},
   "outputs": [
    {
     "data": {
      "image/png": "[encoded data removed]",
      "text/plain": [
       "<Figure size 640x480 with 1 Axes>"
      ]
     },
     "metadata": {},
     "output_type": "display_data"
    }
   ],
   "source": [
    "sns.countplot(x=data.label)\n",
    "plt.show()"
   ]
  },
  {
   "cell_type": "code",
   "execution_count": 11,
   "id": "63d156f4",
   "metadata": {},
   "outputs": [
    {
     "name": "stderr",
     "output_type": "stream",
     "text": [
      "[nltk_data] Downloading package omw-1.4 to\n",
      "[nltk_data]     /Users/adithyaabhishek/nltk_data...\n",
      "[nltk_data]   Package omw-1.4 is already up-to-date!\n",
      "[nltk_data] Downloading package stopwords to\n",
      "[nltk_data]     /Users/adithyaabhishek/nltk_data...\n",
      "[nltk_data]   Package stopwords is already up-to-date!\n",
      "[nltk_data] Downloading package wordnet to\n",
      "[nltk_data]     /Users/adithyaabhishek/nltk_data...\n",
      "[nltk_data]   Package wordnet is already up-to-date!\n",
      "[nltk_data] Downloading package words to\n",
      "[nltk_data]     /Users/adithyaabhishek/nltk_data...\n",
      "[nltk_data]   Package words is already up-to-date!\n"
     ]
    }
   ],
   "source": [
    "import nltk\n",
    "from nltk.corpus import stopwords\n",
    "from nltk.stem import PorterStemmer\n",
    "from nltk.tokenize import word_tokenize\n",
    "import string\n",
    "import pandas as pd\n",
    "import contractions\n",
    "import re\n",
    "import nltk\n",
    "nltk.download('omw-1.4')\n",
    "nltk.download('stopwords')\n",
    "nltk.download('wordnet')\n",
    "nltk.download('words')\n",
    "\n",
    "stopword = nltk.corpus.stopwords.words('english')\n",
    "wn = nltk.WordNetLemmatizer()\n",
    "ps = nltk.PorterStemmer()\n",
    "words = set(nltk.corpus.words.words())\n",
    "\n",
    "# From the first assignment\n",
    "def clean_text(review):\n",
    "    '''\n",
    "    Input:\n",
    "        review: a string containing a review.\n",
    "    Output:\n",
    "        review_cleaned: a processed review. \n",
    "\n",
    "    '''\n",
    "#     print(review)\n",
    "    review_cleaned = review.lower() #lowercase\n",
    "    review_cleaned = review_cleaned.replace(\"<br />\",\" \")\n",
    "    \n",
    "    #URLs\n",
    "    review_cleaned = re.sub(r\"http\\S+\",'', review_cleaned)\n",
    "    review_cleaned = re.sub(r\"www.\\S+\", \"\", review_cleaned) \n",
    "    \n",
    "#     numbers\n",
    "    review_cleaned = re.sub(r'\\d+', '', review_cleaned)\n",
    "    \n",
    "#     contractions\n",
    "    review_cleaned = contractions.fix(review_cleaned)\n",
    "    \n",
    "    #punctuations\n",
    "    \n",
    "    review_cleaned = \"\".join([char for char in review_cleaned if char not in string.punctuation])\n",
    "    \n",
    "    #stopwords\n",
    "    stopword = nltk.corpus.stopwords.words('english')\n",
    "    \n",
    "    review_cleaned = \" \".join([word for word in re.split('\\W+', review_cleaned)\n",
    "        if word not in stopword])\n",
    "    \n",
    "    #tokenize \n",
    "    \n",
    "    review_cleaned = word_tokenize(review_cleaned) # tokenize\n",
    "  \n",
    "    #lemmatizer\n",
    "    wn = nltk.WordNetLemmatizer()\n",
    "    review_cleaned = [wn.lemmatize(word) for word in review_cleaned]\n",
    "    \n",
    "    #Join tokens into string\n",
    "    review_cleaned = (\" \").join(review_cleaned)\n",
    "\n",
    "\n",
    "    return review_cleaned"
   ]
  },
  {
   "cell_type": "code",
   "execution_count": 12,
   "id": "d76d050f",
   "metadata": {},
   "outputs": [],
   "source": [
    "data.InjuryDesc = data.InjuryDesc.apply(clean_text)\n",
    "data.to_pickle(\"data/injury_descriptions_processed.pkl\")"
   ]
  },
  {
   "cell_type": "code",
   "execution_count": 13,
   "id": "9ffb0ede",
   "metadata": {},
   "outputs": [],
   "source": [
    "injury_df = pd.read_pickle(\"Data/injury_descriptions_processed.pkl\")"
   ]
  },
  {
   "cell_type": "code",
   "execution_count": 14,
   "id": "6d170e9f",
   "metadata": {},
   "outputs": [
    {
     "data": {
      "text/html": [
       "<div>\n",
       "<style scoped>\n",
       "    .dataframe tbody tr th:only-of-type {\n",
       "        vertical-align: middle;\n",
       "    }\n",
       "\n",
       "    .dataframe tbody tr th {\n",
       "        vertical-align: top;\n",
       "    }\n",
       "\n",
       "    .dataframe thead th {\n",
       "        text-align: right;\n",
       "    }\n",
       "</style>\n",
       "<table border=\"1\" class=\"dataframe\">\n",
       "  <thead>\n",
       "    <tr style=\"text-align: right;\">\n",
       "      <th></th>\n",
       "      <th>InjuryCauseDesc</th>\n",
       "      <th>InjuryDesc</th>\n",
       "      <th>label</th>\n",
       "    </tr>\n",
       "  </thead>\n",
       "  <tbody>\n",
       "    <tr>\n",
       "      <th>0</th>\n",
       "      <td>Struck by falling object</td>\n",
       "      <td>security pier painting whale mural keeping are...</td>\n",
       "      <td>11</td>\n",
       "    </tr>\n",
       "    <tr>\n",
       "      <th>1</th>\n",
       "      <td>Bending, climbing, crawling, reaching, twisting</td>\n",
       "      <td>iw moving carton shaving cream sudden onset lbp</td>\n",
       "      <td>0</td>\n",
       "    </tr>\n",
       "    <tr>\n",
       "      <th>2</th>\n",
       "      <td>Bending, climbing, crawling, reaching, twisting</td>\n",
       "      <td>picking box file hurt lower back</td>\n",
       "      <td>0</td>\n",
       "    </tr>\n",
       "    <tr>\n",
       "      <th>3</th>\n",
       "      <td>Struck by falling object</td>\n",
       "      <td>beam slipped struck ee right wrist</td>\n",
       "      <td>11</td>\n",
       "    </tr>\n",
       "    <tr>\n",
       "      <th>4</th>\n",
       "      <td>Overexertion in lifting</td>\n",
       "      <td>employee stated felt strain lower back groin l...</td>\n",
       "      <td>5</td>\n",
       "    </tr>\n",
       "    <tr>\n",
       "      <th>...</th>\n",
       "      <td>...</td>\n",
       "      <td>...</td>\n",
       "      <td>...</td>\n",
       "    </tr>\n",
       "    <tr>\n",
       "      <th>101423</th>\n",
       "      <td>Struck by slipping handheld object</td>\n",
       "      <td>employee slicing food knife slipped lacerated ...</td>\n",
       "      <td>12</td>\n",
       "    </tr>\n",
       "    <tr>\n",
       "      <th>101424</th>\n",
       "      <td>Rubbed or abraded by foreign matter in eye</td>\n",
       "      <td>employee cleaning davinci arm using psi liquid...</td>\n",
       "      <td>8</td>\n",
       "    </tr>\n",
       "    <tr>\n",
       "      <th>101425</th>\n",
       "      <td>Bending, climbing, crawling, reaching, twisting</td>\n",
       "      <td>allegedly tweaked back checking cavallaro order</td>\n",
       "      <td>0</td>\n",
       "    </tr>\n",
       "    <tr>\n",
       "      <th>101426</th>\n",
       "      <td>Fall to floor, walkway, or other surface</td>\n",
       "      <td>employee report sitting chair went get leaned ...</td>\n",
       "      <td>4</td>\n",
       "    </tr>\n",
       "    <tr>\n",
       "      <th>101427</th>\n",
       "      <td>Struck against stationary object</td>\n",
       "      <td>performing regular duty m salamanca lifted obj...</td>\n",
       "      <td>10</td>\n",
       "    </tr>\n",
       "  </tbody>\n",
       "</table>\n",
       "<p>101412 rows × 3 columns</p>\n",
       "</div>"
      ],
      "text/plain": [
       "                                        InjuryCauseDesc  \\\n",
       "0                              Struck by falling object   \n",
       "1       Bending, climbing, crawling, reaching, twisting   \n",
       "2       Bending, climbing, crawling, reaching, twisting   \n",
       "3                              Struck by falling object   \n",
       "4                               Overexertion in lifting   \n",
       "...                                                 ...   \n",
       "101423               Struck by slipping handheld object   \n",
       "101424       Rubbed or abraded by foreign matter in eye   \n",
       "101425  Bending, climbing, crawling, reaching, twisting   \n",
       "101426         Fall to floor, walkway, or other surface   \n",
       "101427                 Struck against stationary object   \n",
       "\n",
       "                                               InjuryDesc  label  \n",
       "0       security pier painting whale mural keeping are...     11  \n",
       "1         iw moving carton shaving cream sudden onset lbp      0  \n",
       "2                        picking box file hurt lower back      0  \n",
       "3                      beam slipped struck ee right wrist     11  \n",
       "4       employee stated felt strain lower back groin l...      5  \n",
       "...                                                   ...    ...  \n",
       "101423  employee slicing food knife slipped lacerated ...     12  \n",
       "101424  employee cleaning davinci arm using psi liquid...      8  \n",
       "101425    allegedly tweaked back checking cavallaro order      0  \n",
       "101426  employee report sitting chair went get leaned ...      4  \n",
       "101427  performing regular duty m salamanca lifted obj...     10  \n",
       "\n",
       "[101412 rows x 3 columns]"
      ]
     },
     "execution_count": 14,
     "metadata": {},
     "output_type": "execute_result"
    }
   ],
   "source": [
    "injury_df "
   ]
  },
  {
   "cell_type": "code",
   "execution_count": 16,
   "id": "7333000d",
   "metadata": {},
   "outputs": [],
   "source": [
    "X = injury_df.InjuryDesc\n",
    "y = injury_df.label"
   ]
  },
  {
   "cell_type": "code",
   "execution_count": 17,
   "id": "01f7ad99",
   "metadata": {},
   "outputs": [],
   "source": [
    "def token_process_split(data_local):\n",
    "    vectorizer = TfidfVectorizer(max_features=4000, decode_error=\"ignore\",ngram_range=(1,2))\n",
    "    Xvec = vectorizer.fit_transform(data_local.InjuryDesc)\n",
    "    y = data_local.label\n",
    "    \n",
    "    x_train,x_test,y_train,y_test = train_test_split(Xvec,y,test_size=0.2,random_state=42)\n",
    "    \n",
    "    return x_train,x_test,y_train,y_test"
   ]
  },
  {
   "cell_type": "markdown",
   "id": "59ec5bf3",
   "metadata": {},
   "source": [
    "## whole dataset"
   ]
  },
  {
   "cell_type": "code",
   "execution_count": 18,
   "id": "a385d6b0",
   "metadata": {},
   "outputs": [
    {
     "data": {
      "text/plain": [
       "(<81129x4000 sparse matrix of type '<class 'numpy.float64'>'\n",
       " \twith 1132047 stored elements in Compressed Sparse Row format>,\n",
       " <20283x4000 sparse matrix of type '<class 'numpy.float64'>'\n",
       " \twith 284247 stored elements in Compressed Sparse Row format>,\n",
       " 92879    12\n",
       " 56501     5\n",
       " 75937     0\n",
       " 69165     2\n",
       " 13576     4\n",
       "          ..\n",
       " 6266     12\n",
       " 54889     4\n",
       " 76824     2\n",
       " 860       1\n",
       " 15796     2\n",
       " Name: label, Length: 81129, dtype: int64,\n",
       " 43836     3\n",
       " 16671    12\n",
       " 54211     4\n",
       " 7210      9\n",
       " 47507     2\n",
       "          ..\n",
       " 41239     0\n",
       " 19810     2\n",
       " 57212     3\n",
       " 75789     1\n",
       " 93150     9\n",
       " Name: label, Length: 20283, dtype: int64)"
      ]
     },
     "execution_count": 18,
     "metadata": {},
     "output_type": "execute_result"
    }
   ],
   "source": [
    "x_train_w,x_test_w,y_train_w,y_test_w = token_process_split(data)\n",
    "x_train_w,x_test_w,y_train_w,y_test_w"
   ]
  },
  {
   "cell_type": "code",
   "execution_count": 19,
   "id": "f7bb824d",
   "metadata": {},
   "outputs": [
    {
     "data": {
      "text/html": [
       "<style>#sk-container-id-1 {color: black;background-color: white;}#sk-container-id-1 pre{padding: 0;}#sk-container-id-1 div.sk-toggleable {background-color: white;}#sk-container-id-1 label.sk-toggleable__label {cursor: pointer;display: block;width: 100%;margin-bottom: 0;padding: 0.3em;box-sizing: border-box;text-align: center;}#sk-container-id-1 label.sk-toggleable__label-arrow:before {content: \"▸\";float: left;margin-right: 0.25em;color: #696969;}#sk-container-id-1 label.sk-toggleable__label-arrow:hover:before {color: black;}#sk-container-id-1 div.sk-estimator:hover label.sk-toggleable__label-arrow:before {color: black;}#sk-container-id-1 div.sk-toggleable__content {max-height: 0;max-width: 0;overflow: hidden;text-align: left;background-color: #f0f8ff;}#sk-container-id-1 div.sk-toggleable__content pre {margin: 0.2em;color: black;border-radius: 0.25em;background-color: #f0f8ff;}#sk-container-id-1 input.sk-toggleable__control:checked~div.sk-toggleable__content {max-height: 200px;max-width: 100%;overflow: auto;}#sk-container-id-1 input.sk-toggleable__control:checked~label.sk-toggleable__label-arrow:before {content: \"▾\";}#sk-container-id-1 div.sk-estimator input.sk-toggleable__control:checked~label.sk-toggleable__label {background-color: #d4ebff;}#sk-container-id-1 div.sk-label input.sk-toggleable__control:checked~label.sk-toggleable__label {background-color: #d4ebff;}#sk-container-id-1 input.sk-hidden--visually {border: 0;clip: rect(1px 1px 1px 1px);clip: rect(1px, 1px, 1px, 1px);height: 1px;margin: -1px;overflow: hidden;padding: 0;position: absolute;width: 1px;}#sk-container-id-1 div.sk-estimator {font-family: monospace;background-color: #f0f8ff;border: 1px dotted black;border-radius: 0.25em;box-sizing: border-box;margin-bottom: 0.5em;}#sk-container-id-1 div.sk-estimator:hover {background-color: #d4ebff;}#sk-container-id-1 div.sk-parallel-item::after {content: \"\";width: 100%;border-bottom: 1px solid gray;flex-grow: 1;}#sk-container-id-1 div.sk-label:hover label.sk-toggleable__label {background-color: #d4ebff;}#sk-container-id-1 div.sk-serial::before {content: \"\";position: absolute;border-left: 1px solid gray;box-sizing: border-box;top: 0;bottom: 0;left: 50%;z-index: 0;}#sk-container-id-1 div.sk-serial {display: flex;flex-direction: column;align-items: center;background-color: white;padding-right: 0.2em;padding-left: 0.2em;position: relative;}#sk-container-id-1 div.sk-item {position: relative;z-index: 1;}#sk-container-id-1 div.sk-parallel {display: flex;align-items: stretch;justify-content: center;background-color: white;position: relative;}#sk-container-id-1 div.sk-item::before, #sk-container-id-1 div.sk-parallel-item::before {content: \"\";position: absolute;border-left: 1px solid gray;box-sizing: border-box;top: 0;bottom: 0;left: 50%;z-index: -1;}#sk-container-id-1 div.sk-parallel-item {display: flex;flex-direction: column;z-index: 1;position: relative;background-color: white;}#sk-container-id-1 div.sk-parallel-item:first-child::after {align-self: flex-end;width: 50%;}#sk-container-id-1 div.sk-parallel-item:last-child::after {align-self: flex-start;width: 50%;}#sk-container-id-1 div.sk-parallel-item:only-child::after {width: 0;}#sk-container-id-1 div.sk-dashed-wrapped {border: 1px dashed gray;margin: 0 0.4em 0.5em 0.4em;box-sizing: border-box;padding-bottom: 0.4em;background-color: white;}#sk-container-id-1 div.sk-label label {font-family: monospace;font-weight: bold;display: inline-block;line-height: 1.2em;}#sk-container-id-1 div.sk-label-container {text-align: center;}#sk-container-id-1 div.sk-container {/* jupyter's `normalize.less` sets `[hidden] { display: none; }` but bootstrap.min.css set `[hidden] { display: none !important; }` so we also need the `!important` here to be able to override the default hidden behavior on the sphinx rendered scikit-learn.org. See: https://github.com/scikit-learn/scikit-learn/issues/21755 */display: inline-block !important;position: relative;}#sk-container-id-1 div.sk-text-repr-fallback {display: none;}</style><div id=\"sk-container-id-1\" class=\"sk-top-container\"><div class=\"sk-text-repr-fallback\"><pre>MultinomialNB()</pre><b>In a Jupyter environment, please rerun this cell to show the HTML representation or trust the notebook. <br />On GitHub, the HTML representation is unable to render, please try loading this page with nbviewer.org.</b></div><div class=\"sk-container\" hidden><div class=\"sk-item\"><div class=\"sk-estimator sk-toggleable\"><input class=\"sk-toggleable__control sk-hidden--visually\" id=\"sk-estimator-id-1\" type=\"checkbox\" checked><label for=\"sk-estimator-id-1\" class=\"sk-toggleable__label sk-toggleable__label-arrow\">MultinomialNB</label><div class=\"sk-toggleable__content\"><pre>MultinomialNB()</pre></div></div></div></div></div>"
      ],
      "text/plain": [
       "MultinomialNB()"
      ]
     },
     "execution_count": 19,
     "metadata": {},
     "output_type": "execute_result"
    }
   ],
   "source": [
    "mng = MultinomialNB()\n",
    "mng.fit(x_train_w,y_train_w)"
   ]
  },
  {
   "cell_type": "code",
   "execution_count": 20,
   "id": "ffc609fe",
   "metadata": {},
   "outputs": [],
   "source": [
    "y_pred = mng.predict(x_test_w)"
   ]
  },
  {
   "cell_type": "code",
   "execution_count": 21,
   "id": "d7f5c775",
   "metadata": {},
   "outputs": [
    {
     "data": {
      "text/plain": [
       "0.6316619829413794"
      ]
     },
     "execution_count": 21,
     "metadata": {},
     "output_type": "execute_result"
    }
   ],
   "source": [
    "accuracy_score(y_test_w, y_pred)"
   ]
  },
  {
   "cell_type": "markdown",
   "id": "72808f2f",
   "metadata": {},
   "source": [
    "# Deleting problematic classes\n"
   ]
  },
  {
   "cell_type": "code",
   "execution_count": 40,
   "id": "428d3404",
   "metadata": {},
   "outputs": [],
   "source": [
    "injury_new_df = data[\n",
    "    ~data.InjuryCauseDesc.str.contains(\"Bodily reaction and exertion, unspecified\")]\n",
    "injuryDataFrame = data[~data.InjuryCauseDesc.str.contains(\"Bodily reaction, n.e.c.\")]"
   ]
  },
  {
   "cell_type": "code",
   "execution_count": 41,
   "id": "88a52dfe",
   "metadata": {},
   "outputs": [
    {
     "name": "stderr",
     "output_type": "stream",
     "text": [
      "/var/folders/gy/hjflsmyx53jch_h0701bpwdc0000gn/T/ipykernel_61780/3302687144.py:2: SettingWithCopyWarning: \n",
      "A value is trying to be set on a copy of a slice from a DataFrame\n",
      "\n",
      "See the caveats in the documentation: https://pandas.pydata.org/pandas-docs/stable/user_guide/indexing.html#returning-a-view-versus-a-copy\n",
      "  injury_new_df.drop(['index','label'], axis=1,inplace=True)\n"
     ]
    },
    {
     "data": {
      "text/html": [
       "<div>\n",
       "<style scoped>\n",
       "    .dataframe tbody tr th:only-of-type {\n",
       "        vertical-align: middle;\n",
       "    }\n",
       "\n",
       "    .dataframe tbody tr th {\n",
       "        vertical-align: top;\n",
       "    }\n",
       "\n",
       "    .dataframe thead th {\n",
       "        text-align: right;\n",
       "    }\n",
       "</style>\n",
       "<table border=\"1\" class=\"dataframe\">\n",
       "  <thead>\n",
       "    <tr style=\"text-align: right;\">\n",
       "      <th></th>\n",
       "      <th>InjuryCauseDesc</th>\n",
       "      <th>InjuryDesc</th>\n",
       "    </tr>\n",
       "  </thead>\n",
       "  <tbody>\n",
       "    <tr>\n",
       "      <th>0</th>\n",
       "      <td>Struck by falling object</td>\n",
       "      <td>security pier painting whale mural keeping are...</td>\n",
       "    </tr>\n",
       "    <tr>\n",
       "      <th>1</th>\n",
       "      <td>Bending, climbing, crawling, reaching, twisting</td>\n",
       "      <td>iw moving carton shaving cream sudden onset lbp</td>\n",
       "    </tr>\n",
       "    <tr>\n",
       "      <th>2</th>\n",
       "      <td>Bending, climbing, crawling, reaching, twisting</td>\n",
       "      <td>picking box file hurt lower back</td>\n",
       "    </tr>\n",
       "    <tr>\n",
       "      <th>3</th>\n",
       "      <td>Struck by falling object</td>\n",
       "      <td>beam slipped struck ee right wrist</td>\n",
       "    </tr>\n",
       "    <tr>\n",
       "      <th>4</th>\n",
       "      <td>Overexertion in lifting</td>\n",
       "      <td>employee stated felt strain lower back groin l...</td>\n",
       "    </tr>\n",
       "    <tr>\n",
       "      <th>...</th>\n",
       "      <td>...</td>\n",
       "      <td>...</td>\n",
       "    </tr>\n",
       "    <tr>\n",
       "      <th>94435</th>\n",
       "      <td>Struck by slipping handheld object</td>\n",
       "      <td>employee slicing food knife slipped lacerated ...</td>\n",
       "    </tr>\n",
       "    <tr>\n",
       "      <th>94436</th>\n",
       "      <td>Rubbed or abraded by foreign matter in eye</td>\n",
       "      <td>employee cleaning davinci arm using psi liquid...</td>\n",
       "    </tr>\n",
       "    <tr>\n",
       "      <th>94437</th>\n",
       "      <td>Bending, climbing, crawling, reaching, twisting</td>\n",
       "      <td>allegedly tweaked back checking cavallaro order</td>\n",
       "    </tr>\n",
       "    <tr>\n",
       "      <th>94438</th>\n",
       "      <td>Fall to floor, walkway, or other surface</td>\n",
       "      <td>employee report sitting chair went get leaned ...</td>\n",
       "    </tr>\n",
       "    <tr>\n",
       "      <th>94439</th>\n",
       "      <td>Struck against stationary object</td>\n",
       "      <td>performing regular duty m salamanca lifted obj...</td>\n",
       "    </tr>\n",
       "  </tbody>\n",
       "</table>\n",
       "<p>94440 rows × 2 columns</p>\n",
       "</div>"
      ],
      "text/plain": [
       "                                       InjuryCauseDesc  \\\n",
       "0                             Struck by falling object   \n",
       "1      Bending, climbing, crawling, reaching, twisting   \n",
       "2      Bending, climbing, crawling, reaching, twisting   \n",
       "3                             Struck by falling object   \n",
       "4                              Overexertion in lifting   \n",
       "...                                                ...   \n",
       "94435               Struck by slipping handheld object   \n",
       "94436       Rubbed or abraded by foreign matter in eye   \n",
       "94437  Bending, climbing, crawling, reaching, twisting   \n",
       "94438         Fall to floor, walkway, or other surface   \n",
       "94439                 Struck against stationary object   \n",
       "\n",
       "                                              InjuryDesc  \n",
       "0      security pier painting whale mural keeping are...  \n",
       "1        iw moving carton shaving cream sudden onset lbp  \n",
       "2                       picking box file hurt lower back  \n",
       "3                     beam slipped struck ee right wrist  \n",
       "4      employee stated felt strain lower back groin l...  \n",
       "...                                                  ...  \n",
       "94435  employee slicing food knife slipped lacerated ...  \n",
       "94436  employee cleaning davinci arm using psi liquid...  \n",
       "94437    allegedly tweaked back checking cavallaro order  \n",
       "94438  employee report sitting chair went get leaned ...  \n",
       "94439  performing regular duty m salamanca lifted obj...  \n",
       "\n",
       "[94440 rows x 2 columns]"
      ]
     },
     "execution_count": 41,
     "metadata": {},
     "output_type": "execute_result"
    }
   ],
   "source": [
    "injury_new_df.reset_index(inplace=True)\n",
    "injury_new_df.drop(['index','label'], axis=1,inplace=True)\n",
    "injury_new_df"
   ]
  },
  {
   "cell_type": "code",
   "execution_count": 42,
   "id": "dfa5ef51",
   "metadata": {},
   "outputs": [
    {
     "name": "stderr",
     "output_type": "stream",
     "text": [
      "/var/folders/gy/hjflsmyx53jch_h0701bpwdc0000gn/T/ipykernel_61780/3901781254.py:3: SettingWithCopyWarning: \n",
      "A value is trying to be set on a copy of a slice from a DataFrame.\n",
      "Try using .loc[row_indexer,col_indexer] = value instead\n",
      "\n",
      "See the caveats in the documentation: https://pandas.pydata.org/pandas-docs/stable/user_guide/indexing.html#returning-a-view-versus-a-copy\n",
      "  injury_new_df['label']=label\n"
     ]
    }
   ],
   "source": [
    "le = LabelEncoder()\n",
    "label = le.fit_transform(injury_new_df.InjuryCauseDesc)\n",
    "injury_new_df['label']=label\n"
   ]
  },
  {
   "cell_type": "code",
   "execution_count": 46,
   "id": "16cfe109",
   "metadata": {},
   "outputs": [
    {
     "data": {
      "text/plain": [
       "3     15882\n",
       "4     14716\n",
       "2     13317\n",
       "8      8953\n",
       "5      5868\n",
       "10     5796\n",
       "0      5674\n",
       "9      5329\n",
       "6      5257\n",
       "11     5102\n",
       "1      4509\n",
       "7      4037\n",
       "Name: label, dtype: int64"
      ]
     },
     "execution_count": 46,
     "metadata": {},
     "output_type": "execute_result"
    }
   ],
   "source": [
    "injury_new_df.label.value_counts()"
   ]
  },
  {
   "cell_type": "code",
   "execution_count": 248,
   "id": "ae7a98b4",
   "metadata": {},
   "outputs": [
    {
     "data": {
      "text/plain": [
       "(<75552x4000 sparse matrix of type '<class 'numpy.float64'>'\n",
       " \twith 1055770 stored elements in Compressed Sparse Row format>,\n",
       " <18888x4000 sparse matrix of type '<class 'numpy.float64'>'\n",
       " \twith 262210 stored elements in Compressed Sparse Row format>,\n",
       " 86020     9\n",
       " 1409      8\n",
       " 88986     3\n",
       " 56629     4\n",
       " 36873     3\n",
       "          ..\n",
       " 6265      0\n",
       " 54886    11\n",
       " 76820     2\n",
       " 860       2\n",
       " 15795     8\n",
       " Name: label, Length: 75552, dtype: int64,\n",
       " 78450    8\n",
       " 34191    0\n",
       " 58492    2\n",
       " 60737    2\n",
       " 83327    3\n",
       "         ..\n",
       " 30661    3\n",
       " 58290    6\n",
       " 55066    2\n",
       " 80358    6\n",
       " 21338    3\n",
       " Name: label, Length: 18888, dtype: int64)"
      ]
     },
     "execution_count": 248,
     "metadata": {},
     "output_type": "execute_result"
    }
   ],
   "source": [
    "x_train_w,x_test_w,y_train_w,y_test_w = token_process_split(injury_new_df)\n",
    "x_train_w,x_test_w,y_train_w,y_test_w"
   ]
  },
  {
   "cell_type": "code",
   "execution_count": 249,
   "id": "03939533",
   "metadata": {},
   "outputs": [
    {
     "name": "stdout",
     "output_type": "stream",
     "text": [
      "Accuracy testing 0.6760906395595087\n",
      "Accuracy training 0.7013182973316391\n",
      "              precision    recall  f1-score   support\n",
      "\n",
      "           0       0.65      0.40      0.50      1104\n",
      "           1       0.45      0.10      0.17       903\n",
      "           2       0.61      0.69      0.65      2722\n",
      "           3       0.71      0.88      0.79      3166\n",
      "           4       0.65      0.91      0.76      2937\n",
      "           5       0.73      0.45      0.56      1188\n",
      "           6       0.67      0.82      0.74      1037\n",
      "           7       0.90      0.91      0.91       779\n",
      "           8       0.63      0.49      0.55      1772\n",
      "           9       0.67      0.48      0.56      1051\n",
      "          10       0.77      0.67      0.71      1192\n",
      "          11       0.65      0.60      0.62      1037\n",
      "\n",
      "    accuracy                           0.68     18888\n",
      "   macro avg       0.68      0.62      0.63     18888\n",
      "weighted avg       0.67      0.68      0.66     18888\n",
      "\n"
     ]
    }
   ],
   "source": [
    "mng.fit(x_train_w,y_train_w)\n",
    "y_pred = mng.predict(x_test_w)\n",
    "y_train_pred = mng.predict(x_train_w)\n",
    "\n",
    "print('Accuracy testing',accuracy_score(y_test_w, y_pred))\n",
    "print('Accuracy training',accuracy_score(y_train_w, y_train_pred))\n",
    "\n",
    "print(classification_report(y_test_w, y_pred))\n"
   ]
  },
  {
   "cell_type": "code",
   "execution_count": 48,
   "id": "3bc9b75b",
   "metadata": {},
   "outputs": [
    {
     "data": {
      "image/png": "[encoded data removed]",
      "text/plain": [
       "<Figure size 800x700 with 2 Axes>"
      ]
     },
     "metadata": {},
     "output_type": "display_data"
    }
   ],
   "source": [
    "# Display heatmap confusion matrix\n",
    "conf_mat = confusion_matrix(y_test_w, y_pred)\n",
    "fig, ax = plt.subplots(figsize=(8, 7))\n",
    "sns.heatmap(conf_mat, annot=True, fmt='d')\n",
    "\n",
    "plt.ylabel('Actual')\n",
    "plt.xlabel('Predicted')\n",
    "plt.show()"
   ]
  },
  {
   "cell_type": "code",
   "execution_count": 49,
   "id": "9499a4fb",
   "metadata": {},
   "outputs": [],
   "source": [
    "# splitting classes for experimentation\n",
    "data = injury_new_df\n",
    "X0 = data[data.label == 0]\n",
    "X1 = data[data.label == 1]\n",
    "X2 = data[data.label == 2]\n",
    "X3 = data[data.label == 3]\n",
    "X4 = data[data.label == 4]\n",
    "X5 = data[data.label == 5]\n",
    "X6 = data[data.label == 6]\n",
    "X7 = data[data.label == 7]\n",
    "X8 = data[data.label == 8]\n",
    "X9 = data[data.label == 9]\n",
    "X10 = data[data.label == 10]\n",
    "X11 = data[data.label == 11]\n",
    "\n"
   ]
  },
  {
   "cell_type": "markdown",
   "id": "91ecdae1",
   "metadata": {},
   "source": [
    "# Test on top 3 classes"
   ]
  },
  {
   "cell_type": "code",
   "execution_count": 28,
   "id": "0687584f",
   "metadata": {},
   "outputs": [],
   "source": [
    "data_lrg = pd.concat([X3,X4,X5])\n"
   ]
  },
  {
   "cell_type": "code",
   "execution_count": 29,
   "id": "f5f42fe2",
   "metadata": {},
   "outputs": [
    {
     "data": {
      "text/html": [
       "<div>\n",
       "<style scoped>\n",
       "    .dataframe tbody tr th:only-of-type {\n",
       "        vertical-align: middle;\n",
       "    }\n",
       "\n",
       "    .dataframe tbody tr th {\n",
       "        vertical-align: top;\n",
       "    }\n",
       "\n",
       "    .dataframe thead th {\n",
       "        text-align: right;\n",
       "    }\n",
       "</style>\n",
       "<table border=\"1\" class=\"dataframe\">\n",
       "  <thead>\n",
       "    <tr style=\"text-align: right;\">\n",
       "      <th></th>\n",
       "      <th>InjuryCauseDesc</th>\n",
       "      <th>InjuryDesc</th>\n",
       "      <th>label</th>\n",
       "    </tr>\n",
       "  </thead>\n",
       "  <tbody>\n",
       "    <tr>\n",
       "      <th>15</th>\n",
       "      <td>Contact with objects and equipment, unspecified</td>\n",
       "      <td>employee cellulitis left knee infected abrasio...</td>\n",
       "      <td>3</td>\n",
       "    </tr>\n",
       "    <tr>\n",
       "      <th>35</th>\n",
       "      <td>Contact with objects and equipment, unspecified</td>\n",
       "      <td>tending patient sled behind something dug slid...</td>\n",
       "      <td>3</td>\n",
       "    </tr>\n",
       "    <tr>\n",
       "      <th>52</th>\n",
       "      <td>Contact with objects and equipment, unspecified</td>\n",
       "      <td>picked x laying table stuck lancet</td>\n",
       "      <td>3</td>\n",
       "    </tr>\n",
       "    <tr>\n",
       "      <th>58</th>\n",
       "      <td>Contact with objects and equipment, unspecified</td>\n",
       "      <td>employee scratched eye sometime work day</td>\n",
       "      <td>3</td>\n",
       "    </tr>\n",
       "    <tr>\n",
       "      <th>61</th>\n",
       "      <td>Contact with objects and equipment, unspecified</td>\n",
       "      <td>employee cut across finger left hand woth util...</td>\n",
       "      <td>3</td>\n",
       "    </tr>\n",
       "    <tr>\n",
       "      <th>...</th>\n",
       "      <td>...</td>\n",
       "      <td>...</td>\n",
       "      <td>...</td>\n",
       "    </tr>\n",
       "    <tr>\n",
       "      <th>101407</th>\n",
       "      <td>Overexertion in lifting</td>\n",
       "      <td>employee state moving heavy box one building d...</td>\n",
       "      <td>5</td>\n",
       "    </tr>\n",
       "    <tr>\n",
       "      <th>101408</th>\n",
       "      <td>Overexertion in lifting</td>\n",
       "      <td>employee lifting landscape block trailer felt ...</td>\n",
       "      <td>5</td>\n",
       "    </tr>\n",
       "    <tr>\n",
       "      <th>101413</th>\n",
       "      <td>Overexertion in lifting</td>\n",
       "      <td>employee lifting coworker heavy piece metal du...</td>\n",
       "      <td>5</td>\n",
       "    </tr>\n",
       "    <tr>\n",
       "      <th>101419</th>\n",
       "      <td>Overexertion in lifting</td>\n",
       "      <td>employee report hanging stand overhead weighed...</td>\n",
       "      <td>5</td>\n",
       "    </tr>\n",
       "    <tr>\n",
       "      <th>101422</th>\n",
       "      <td>Overexertion in lifting</td>\n",
       "      <td>employee lifting gallon bucket filled water pu...</td>\n",
       "      <td>5</td>\n",
       "    </tr>\n",
       "  </tbody>\n",
       "</table>\n",
       "<p>43915 rows × 3 columns</p>\n",
       "</div>"
      ],
      "text/plain": [
       "                                        InjuryCauseDesc  \\\n",
       "15      Contact with objects and equipment, unspecified   \n",
       "35      Contact with objects and equipment, unspecified   \n",
       "52      Contact with objects and equipment, unspecified   \n",
       "58      Contact with objects and equipment, unspecified   \n",
       "61      Contact with objects and equipment, unspecified   \n",
       "...                                                 ...   \n",
       "101407                          Overexertion in lifting   \n",
       "101408                          Overexertion in lifting   \n",
       "101413                          Overexertion in lifting   \n",
       "101419                          Overexertion in lifting   \n",
       "101422                          Overexertion in lifting   \n",
       "\n",
       "                                               InjuryDesc  label  \n",
       "15      employee cellulitis left knee infected abrasio...      3  \n",
       "35      tending patient sled behind something dug slid...      3  \n",
       "52                     picked x laying table stuck lancet      3  \n",
       "58               employee scratched eye sometime work day      3  \n",
       "61      employee cut across finger left hand woth util...      3  \n",
       "...                                                   ...    ...  \n",
       "101407  employee state moving heavy box one building d...      5  \n",
       "101408  employee lifting landscape block trailer felt ...      5  \n",
       "101413  employee lifting coworker heavy piece metal du...      5  \n",
       "101419  employee report hanging stand overhead weighed...      5  \n",
       "101422  employee lifting gallon bucket filled water pu...      5  \n",
       "\n",
       "[43915 rows x 3 columns]"
      ]
     },
     "execution_count": 29,
     "metadata": {},
     "output_type": "execute_result"
    }
   ],
   "source": [
    "data_lrg"
   ]
  },
  {
   "cell_type": "code",
   "execution_count": 30,
   "id": "4d4a752b",
   "metadata": {},
   "outputs": [
    {
     "data": {
      "text/plain": [
       "(<35132x4000 sparse matrix of type '<class 'numpy.float64'>'\n",
       " \twith 505217 stored elements in Compressed Sparse Row format>,\n",
       " <8783x4000 sparse matrix of type '<class 'numpy.float64'>'\n",
       " \twith 127076 stored elements in Compressed Sparse Row format>,\n",
       " 50017    4\n",
       " 84890    4\n",
       " 96123    3\n",
       " 9846     5\n",
       " 96983    4\n",
       "         ..\n",
       " 46716    3\n",
       " 80324    3\n",
       " 58354    5\n",
       " 8986     3\n",
       " 26929    4\n",
       " Name: label, Length: 35132, dtype: int64,\n",
       " 28659    4\n",
       " 39429    3\n",
       " 20170    5\n",
       " 89164    4\n",
       " 9359     4\n",
       "         ..\n",
       " 280      5\n",
       " 47388    4\n",
       " 55960    4\n",
       " 56189    5\n",
       " 76849    4\n",
       " Name: label, Length: 8783, dtype: int64)"
      ]
     },
     "execution_count": 30,
     "metadata": {},
     "output_type": "execute_result"
    }
   ],
   "source": [
    "x_train,x_test,y_train,y_test = token_process_split(data_lrg)\n",
    "x_train,x_test,y_train,y_test"
   ]
  },
  {
   "cell_type": "markdown",
   "id": "d47f2a78",
   "metadata": {},
   "source": [
    "# model"
   ]
  },
  {
   "cell_type": "code",
   "execution_count": 31,
   "id": "51275a82",
   "metadata": {},
   "outputs": [
    {
     "data": {
      "text/html": [
       "<style>#sk-container-id-2 {color: black;background-color: white;}#sk-container-id-2 pre{padding: 0;}#sk-container-id-2 div.sk-toggleable {background-color: white;}#sk-container-id-2 label.sk-toggleable__label {cursor: pointer;display: block;width: 100%;margin-bottom: 0;padding: 0.3em;box-sizing: border-box;text-align: center;}#sk-container-id-2 label.sk-toggleable__label-arrow:before {content: \"▸\";float: left;margin-right: 0.25em;color: #696969;}#sk-container-id-2 label.sk-toggleable__label-arrow:hover:before {color: black;}#sk-container-id-2 div.sk-estimator:hover label.sk-toggleable__label-arrow:before {color: black;}#sk-container-id-2 div.sk-toggleable__content {max-height: 0;max-width: 0;overflow: hidden;text-align: left;background-color: #f0f8ff;}#sk-container-id-2 div.sk-toggleable__content pre {margin: 0.2em;color: black;border-radius: 0.25em;background-color: #f0f8ff;}#sk-container-id-2 input.sk-toggleable__control:checked~div.sk-toggleable__content {max-height: 200px;max-width: 100%;overflow: auto;}#sk-container-id-2 input.sk-toggleable__control:checked~label.sk-toggleable__label-arrow:before {content: \"▾\";}#sk-container-id-2 div.sk-estimator input.sk-toggleable__control:checked~label.sk-toggleable__label {background-color: #d4ebff;}#sk-container-id-2 div.sk-label input.sk-toggleable__control:checked~label.sk-toggleable__label {background-color: #d4ebff;}#sk-container-id-2 input.sk-hidden--visually {border: 0;clip: rect(1px 1px 1px 1px);clip: rect(1px, 1px, 1px, 1px);height: 1px;margin: -1px;overflow: hidden;padding: 0;position: absolute;width: 1px;}#sk-container-id-2 div.sk-estimator {font-family: monospace;background-color: #f0f8ff;border: 1px dotted black;border-radius: 0.25em;box-sizing: border-box;margin-bottom: 0.5em;}#sk-container-id-2 div.sk-estimator:hover {background-color: #d4ebff;}#sk-container-id-2 div.sk-parallel-item::after {content: \"\";width: 100%;border-bottom: 1px solid gray;flex-grow: 1;}#sk-container-id-2 div.sk-label:hover label.sk-toggleable__label {background-color: #d4ebff;}#sk-container-id-2 div.sk-serial::before {content: \"\";position: absolute;border-left: 1px solid gray;box-sizing: border-box;top: 0;bottom: 0;left: 50%;z-index: 0;}#sk-container-id-2 div.sk-serial {display: flex;flex-direction: column;align-items: center;background-color: white;padding-right: 0.2em;padding-left: 0.2em;position: relative;}#sk-container-id-2 div.sk-item {position: relative;z-index: 1;}#sk-container-id-2 div.sk-parallel {display: flex;align-items: stretch;justify-content: center;background-color: white;position: relative;}#sk-container-id-2 div.sk-item::before, #sk-container-id-2 div.sk-parallel-item::before {content: \"\";position: absolute;border-left: 1px solid gray;box-sizing: border-box;top: 0;bottom: 0;left: 50%;z-index: -1;}#sk-container-id-2 div.sk-parallel-item {display: flex;flex-direction: column;z-index: 1;position: relative;background-color: white;}#sk-container-id-2 div.sk-parallel-item:first-child::after {align-self: flex-end;width: 50%;}#sk-container-id-2 div.sk-parallel-item:last-child::after {align-self: flex-start;width: 50%;}#sk-container-id-2 div.sk-parallel-item:only-child::after {width: 0;}#sk-container-id-2 div.sk-dashed-wrapped {border: 1px dashed gray;margin: 0 0.4em 0.5em 0.4em;box-sizing: border-box;padding-bottom: 0.4em;background-color: white;}#sk-container-id-2 div.sk-label label {font-family: monospace;font-weight: bold;display: inline-block;line-height: 1.2em;}#sk-container-id-2 div.sk-label-container {text-align: center;}#sk-container-id-2 div.sk-container {/* jupyter's `normalize.less` sets `[hidden] { display: none; }` but bootstrap.min.css set `[hidden] { display: none !important; }` so we also need the `!important` here to be able to override the default hidden behavior on the sphinx rendered scikit-learn.org. See: https://github.com/scikit-learn/scikit-learn/issues/21755 */display: inline-block !important;position: relative;}#sk-container-id-2 div.sk-text-repr-fallback {display: none;}</style><div id=\"sk-container-id-2\" class=\"sk-top-container\"><div class=\"sk-text-repr-fallback\"><pre>MultinomialNB()</pre><b>In a Jupyter environment, please rerun this cell to show the HTML representation or trust the notebook. <br />On GitHub, the HTML representation is unable to render, please try loading this page with nbviewer.org.</b></div><div class=\"sk-container\" hidden><div class=\"sk-item\"><div class=\"sk-estimator sk-toggleable\"><input class=\"sk-toggleable__control sk-hidden--visually\" id=\"sk-estimator-id-2\" type=\"checkbox\" checked><label for=\"sk-estimator-id-2\" class=\"sk-toggleable__label sk-toggleable__label-arrow\">MultinomialNB</label><div class=\"sk-toggleable__content\"><pre>MultinomialNB()</pre></div></div></div></div></div>"
      ],
      "text/plain": [
       "MultinomialNB()"
      ]
     },
     "execution_count": 31,
     "metadata": {},
     "output_type": "execute_result"
    }
   ],
   "source": [
    "mng = MultinomialNB()\n",
    "mng.fit(x_train,y_train)"
   ]
  },
  {
   "cell_type": "code",
   "execution_count": 32,
   "id": "bbcfe537",
   "metadata": {},
   "outputs": [],
   "source": [
    "y_pred = mng.predict(x_test)"
   ]
  },
  {
   "cell_type": "code",
   "execution_count": 34,
   "id": "e2e7b890",
   "metadata": {},
   "outputs": [
    {
     "name": "stdout",
     "output_type": "stream",
     "text": [
      "0.9524080610269839\n",
      "              precision    recall  f1-score   support\n",
      "\n",
      "           3       0.97      0.91      0.94      2704\n",
      "           4       0.94      0.96      0.95      3125\n",
      "           5       0.95      0.98      0.96      2954\n",
      "\n",
      "    accuracy                           0.95      8783\n",
      "   macro avg       0.95      0.95      0.95      8783\n",
      "weighted avg       0.95      0.95      0.95      8783\n",
      "\n"
     ]
    }
   ],
   "source": [
    "print(accuracy_score(y_test, y_pred))\n",
    "print(classification_report(y_test, y_pred))"
   ]
  },
  {
   "cell_type": "markdown",
   "id": "13d98a81",
   "metadata": {},
   "source": [
    "## test model with bracket 1 and 2"
   ]
  },
  {
   "cell_type": "code",
   "execution_count": 120,
   "id": "d0c726a2",
   "metadata": {},
   "outputs": [],
   "source": [
    "X3_ds = X3.sample(n=12000)\n",
    "X4_ds = X4.sample(n=12000)\n",
    "X2_ds = X2.sample(n=12000)\n",
    "\n",
    "x8_s = X8.sample(n=(10000-len(X9)))\n",
    "x5_s = X5.sample(n=(8000-len(X1)))\n",
    "x10_s = X10.sample(n=(8000-len(X6)))\n",
    "\n"
   ]
  },
  {
   "cell_type": "code",
   "execution_count": 121,
   "id": "6d4dc427",
   "metadata": {},
   "outputs": [],
   "source": [
    "data_lrg2 = pd.concat([X3_ds,X4_ds,X2_ds,X8,X5,X10,x8_s,x5_s,x10_s])"
   ]
  },
  {
   "cell_type": "code",
   "execution_count": 122,
   "id": "46e49f64",
   "metadata": {},
   "outputs": [],
   "source": [
    "x_train2,x_test2,y_train2,y_test2 = token_process_split(data_lrg2)\n"
   ]
  },
  {
   "cell_type": "code",
   "execution_count": 123,
   "id": "b43f0244",
   "metadata": {},
   "outputs": [
    {
     "data": {
      "text/html": [
       "<style>#sk-container-id-19 {color: black;background-color: white;}#sk-container-id-19 pre{padding: 0;}#sk-container-id-19 div.sk-toggleable {background-color: white;}#sk-container-id-19 label.sk-toggleable__label {cursor: pointer;display: block;width: 100%;margin-bottom: 0;padding: 0.3em;box-sizing: border-box;text-align: center;}#sk-container-id-19 label.sk-toggleable__label-arrow:before {content: \"▸\";float: left;margin-right: 0.25em;color: #696969;}#sk-container-id-19 label.sk-toggleable__label-arrow:hover:before {color: black;}#sk-container-id-19 div.sk-estimator:hover label.sk-toggleable__label-arrow:before {color: black;}#sk-container-id-19 div.sk-toggleable__content {max-height: 0;max-width: 0;overflow: hidden;text-align: left;background-color: #f0f8ff;}#sk-container-id-19 div.sk-toggleable__content pre {margin: 0.2em;color: black;border-radius: 0.25em;background-color: #f0f8ff;}#sk-container-id-19 input.sk-toggleable__control:checked~div.sk-toggleable__content {max-height: 200px;max-width: 100%;overflow: auto;}#sk-container-id-19 input.sk-toggleable__control:checked~label.sk-toggleable__label-arrow:before {content: \"▾\";}#sk-container-id-19 div.sk-estimator input.sk-toggleable__control:checked~label.sk-toggleable__label {background-color: #d4ebff;}#sk-container-id-19 div.sk-label input.sk-toggleable__control:checked~label.sk-toggleable__label {background-color: #d4ebff;}#sk-container-id-19 input.sk-hidden--visually {border: 0;clip: rect(1px 1px 1px 1px);clip: rect(1px, 1px, 1px, 1px);height: 1px;margin: -1px;overflow: hidden;padding: 0;position: absolute;width: 1px;}#sk-container-id-19 div.sk-estimator {font-family: monospace;background-color: #f0f8ff;border: 1px dotted black;border-radius: 0.25em;box-sizing: border-box;margin-bottom: 0.5em;}#sk-container-id-19 div.sk-estimator:hover {background-color: #d4ebff;}#sk-container-id-19 div.sk-parallel-item::after {content: \"\";width: 100%;border-bottom: 1px solid gray;flex-grow: 1;}#sk-container-id-19 div.sk-label:hover label.sk-toggleable__label {background-color: #d4ebff;}#sk-container-id-19 div.sk-serial::before {content: \"\";position: absolute;border-left: 1px solid gray;box-sizing: border-box;top: 0;bottom: 0;left: 50%;z-index: 0;}#sk-container-id-19 div.sk-serial {display: flex;flex-direction: column;align-items: center;background-color: white;padding-right: 0.2em;padding-left: 0.2em;position: relative;}#sk-container-id-19 div.sk-item {position: relative;z-index: 1;}#sk-container-id-19 div.sk-parallel {display: flex;align-items: stretch;justify-content: center;background-color: white;position: relative;}#sk-container-id-19 div.sk-item::before, #sk-container-id-19 div.sk-parallel-item::before {content: \"\";position: absolute;border-left: 1px solid gray;box-sizing: border-box;top: 0;bottom: 0;left: 50%;z-index: -1;}#sk-container-id-19 div.sk-parallel-item {display: flex;flex-direction: column;z-index: 1;position: relative;background-color: white;}#sk-container-id-19 div.sk-parallel-item:first-child::after {align-self: flex-end;width: 50%;}#sk-container-id-19 div.sk-parallel-item:last-child::after {align-self: flex-start;width: 50%;}#sk-container-id-19 div.sk-parallel-item:only-child::after {width: 0;}#sk-container-id-19 div.sk-dashed-wrapped {border: 1px dashed gray;margin: 0 0.4em 0.5em 0.4em;box-sizing: border-box;padding-bottom: 0.4em;background-color: white;}#sk-container-id-19 div.sk-label label {font-family: monospace;font-weight: bold;display: inline-block;line-height: 1.2em;}#sk-container-id-19 div.sk-label-container {text-align: center;}#sk-container-id-19 div.sk-container {/* jupyter's `normalize.less` sets `[hidden] { display: none; }` but bootstrap.min.css set `[hidden] { display: none !important; }` so we also need the `!important` here to be able to override the default hidden behavior on the sphinx rendered scikit-learn.org. See: https://github.com/scikit-learn/scikit-learn/issues/21755 */display: inline-block !important;position: relative;}#sk-container-id-19 div.sk-text-repr-fallback {display: none;}</style><div id=\"sk-container-id-19\" class=\"sk-top-container\"><div class=\"sk-text-repr-fallback\"><pre>MultinomialNB()</pre><b>In a Jupyter environment, please rerun this cell to show the HTML representation or trust the notebook. <br />On GitHub, the HTML representation is unable to render, please try loading this page with nbviewer.org.</b></div><div class=\"sk-container\" hidden><div class=\"sk-item\"><div class=\"sk-estimator sk-toggleable\"><input class=\"sk-toggleable__control sk-hidden--visually\" id=\"sk-estimator-id-27\" type=\"checkbox\" checked><label for=\"sk-estimator-id-27\" class=\"sk-toggleable__label sk-toggleable__label-arrow\">MultinomialNB</label><div class=\"sk-toggleable__content\"><pre>MultinomialNB()</pre></div></div></div></div></div>"
      ],
      "text/plain": [
       "MultinomialNB()"
      ]
     },
     "execution_count": 123,
     "metadata": {},
     "output_type": "execute_result"
    }
   ],
   "source": [
    "mng2 = MultinomialNB()\n",
    "mng2.fit(x_train2,y_train2)"
   ]
  },
  {
   "cell_type": "code",
   "execution_count": 124,
   "id": "ff948bc5",
   "metadata": {},
   "outputs": [],
   "source": [
    "y_pred2 = mng2.predict(x_test2)\n",
    "y_pred_train2 = mng2.predict(x_train2)"
   ]
  },
  {
   "cell_type": "code",
   "execution_count": 125,
   "id": "4384f077",
   "metadata": {},
   "outputs": [
    {
     "data": {
      "text/plain": [
       "0.7844502036282858"
      ]
     },
     "execution_count": 125,
     "metadata": {},
     "output_type": "execute_result"
    }
   ],
   "source": [
    "accuracy_score(y_test2, y_pred2)"
   ]
  },
  {
   "cell_type": "code",
   "execution_count": 126,
   "id": "8bd08040",
   "metadata": {},
   "outputs": [
    {
     "name": "stdout",
     "output_type": "stream",
     "text": [
      "testset acc: 0.80345076549975\n"
     ]
    }
   ],
   "source": [
    "print('testset acc:',accuracy_score(y_train2, y_pred_train2))"
   ]
  },
  {
   "cell_type": "markdown",
   "id": "68541641",
   "metadata": {},
   "source": [
    "## Using - Random forest on whole dataset"
   ]
  },
  {
   "cell_type": "code",
   "execution_count": 217,
   "id": "b446a916",
   "metadata": {},
   "outputs": [],
   "source": [
    "rfc2=RandomForestClassifier(random_state=161, max_depth=20,max_features=150)\n",
    "# rfc2=RandomForestClassifier(n_estimators= 150, criterion='gini')"
   ]
  },
  {
   "cell_type": "code",
   "execution_count": 218,
   "id": "9bc4967d",
   "metadata": {},
   "outputs": [
    {
     "data": {
      "text/html": [
       "<style>#sk-container-id-36 {color: black;background-color: white;}#sk-container-id-36 pre{padding: 0;}#sk-container-id-36 div.sk-toggleable {background-color: white;}#sk-container-id-36 label.sk-toggleable__label {cursor: pointer;display: block;width: 100%;margin-bottom: 0;padding: 0.3em;box-sizing: border-box;text-align: center;}#sk-container-id-36 label.sk-toggleable__label-arrow:before {content: \"▸\";float: left;margin-right: 0.25em;color: #696969;}#sk-container-id-36 label.sk-toggleable__label-arrow:hover:before {color: black;}#sk-container-id-36 div.sk-estimator:hover label.sk-toggleable__label-arrow:before {color: black;}#sk-container-id-36 div.sk-toggleable__content {max-height: 0;max-width: 0;overflow: hidden;text-align: left;background-color: #f0f8ff;}#sk-container-id-36 div.sk-toggleable__content pre {margin: 0.2em;color: black;border-radius: 0.25em;background-color: #f0f8ff;}#sk-container-id-36 input.sk-toggleable__control:checked~div.sk-toggleable__content {max-height: 200px;max-width: 100%;overflow: auto;}#sk-container-id-36 input.sk-toggleable__control:checked~label.sk-toggleable__label-arrow:before {content: \"▾\";}#sk-container-id-36 div.sk-estimator input.sk-toggleable__control:checked~label.sk-toggleable__label {background-color: #d4ebff;}#sk-container-id-36 div.sk-label input.sk-toggleable__control:checked~label.sk-toggleable__label {background-color: #d4ebff;}#sk-container-id-36 input.sk-hidden--visually {border: 0;clip: rect(1px 1px 1px 1px);clip: rect(1px, 1px, 1px, 1px);height: 1px;margin: -1px;overflow: hidden;padding: 0;position: absolute;width: 1px;}#sk-container-id-36 div.sk-estimator {font-family: monospace;background-color: #f0f8ff;border: 1px dotted black;border-radius: 0.25em;box-sizing: border-box;margin-bottom: 0.5em;}#sk-container-id-36 div.sk-estimator:hover {background-color: #d4ebff;}#sk-container-id-36 div.sk-parallel-item::after {content: \"\";width: 100%;border-bottom: 1px solid gray;flex-grow: 1;}#sk-container-id-36 div.sk-label:hover label.sk-toggleable__label {background-color: #d4ebff;}#sk-container-id-36 div.sk-serial::before {content: \"\";position: absolute;border-left: 1px solid gray;box-sizing: border-box;top: 0;bottom: 0;left: 50%;z-index: 0;}#sk-container-id-36 div.sk-serial {display: flex;flex-direction: column;align-items: center;background-color: white;padding-right: 0.2em;padding-left: 0.2em;position: relative;}#sk-container-id-36 div.sk-item {position: relative;z-index: 1;}#sk-container-id-36 div.sk-parallel {display: flex;align-items: stretch;justify-content: center;background-color: white;position: relative;}#sk-container-id-36 div.sk-item::before, #sk-container-id-36 div.sk-parallel-item::before {content: \"\";position: absolute;border-left: 1px solid gray;box-sizing: border-box;top: 0;bottom: 0;left: 50%;z-index: -1;}#sk-container-id-36 div.sk-parallel-item {display: flex;flex-direction: column;z-index: 1;position: relative;background-color: white;}#sk-container-id-36 div.sk-parallel-item:first-child::after {align-self: flex-end;width: 50%;}#sk-container-id-36 div.sk-parallel-item:last-child::after {align-self: flex-start;width: 50%;}#sk-container-id-36 div.sk-parallel-item:only-child::after {width: 0;}#sk-container-id-36 div.sk-dashed-wrapped {border: 1px dashed gray;margin: 0 0.4em 0.5em 0.4em;box-sizing: border-box;padding-bottom: 0.4em;background-color: white;}#sk-container-id-36 div.sk-label label {font-family: monospace;font-weight: bold;display: inline-block;line-height: 1.2em;}#sk-container-id-36 div.sk-label-container {text-align: center;}#sk-container-id-36 div.sk-container {/* jupyter's `normalize.less` sets `[hidden] { display: none; }` but bootstrap.min.css set `[hidden] { display: none !important; }` so we also need the `!important` here to be able to override the default hidden behavior on the sphinx rendered scikit-learn.org. See: https://github.com/scikit-learn/scikit-learn/issues/21755 */display: inline-block !important;position: relative;}#sk-container-id-36 div.sk-text-repr-fallback {display: none;}</style><div id=\"sk-container-id-36\" class=\"sk-top-container\"><div class=\"sk-text-repr-fallback\"><pre>RandomForestClassifier(max_depth=20, max_features=150, random_state=161)</pre><b>In a Jupyter environment, please rerun this cell to show the HTML representation or trust the notebook. <br />On GitHub, the HTML representation is unable to render, please try loading this page with nbviewer.org.</b></div><div class=\"sk-container\" hidden><div class=\"sk-item\"><div class=\"sk-estimator sk-toggleable\"><input class=\"sk-toggleable__control sk-hidden--visually\" id=\"sk-estimator-id-44\" type=\"checkbox\" checked><label for=\"sk-estimator-id-44\" class=\"sk-toggleable__label sk-toggleable__label-arrow\">RandomForestClassifier</label><div class=\"sk-toggleable__content\"><pre>RandomForestClassifier(max_depth=20, max_features=150, random_state=161)</pre></div></div></div></div></div>"
      ],
      "text/plain": [
       "RandomForestClassifier(max_depth=20, max_features=150, random_state=161)"
      ]
     },
     "execution_count": 218,
     "metadata": {},
     "output_type": "execute_result"
    }
   ],
   "source": [
    "rfc2.fit(x_train_w,y_train_w)"
   ]
  },
  {
   "cell_type": "code",
   "execution_count": 219,
   "id": "745d8697",
   "metadata": {},
   "outputs": [],
   "source": [
    "pred=rfc2.predict(x_test_w)\n",
    "train_pred = rfc2.predict(x_train_w)"
   ]
  },
  {
   "cell_type": "code",
   "execution_count": 220,
   "id": "ea8dc078",
   "metadata": {},
   "outputs": [
    {
     "name": "stdout",
     "output_type": "stream",
     "text": [
      "Accuracy for Random Forest on CV data:  0.6290766624311732\n"
     ]
    }
   ],
   "source": [
    "print(\"Accuracy for Random Forest on CV data: \",accuracy_score(y_test_w,pred))"
   ]
  },
  {
   "cell_type": "code",
   "execution_count": 221,
   "id": "865fc4c8",
   "metadata": {},
   "outputs": [
    {
     "name": "stdout",
     "output_type": "stream",
     "text": [
      "Accuracy Random Forest on CV ,training :  0.6759847522236341\n"
     ]
    }
   ],
   "source": [
    "print(\"Accuracy Random Forest on CV ,training : \",accuracy_score(y_train_w,train_pred))"
   ]
  },
  {
   "cell_type": "code",
   "execution_count": 222,
   "id": "c5298b3c",
   "metadata": {},
   "outputs": [
    {
     "name": "stdout",
     "output_type": "stream",
     "text": [
      "              precision    recall  f1-score   support\n",
      "\n",
      "           0       0.70      0.30      0.42      1104\n",
      "           1       0.62      0.03      0.05       903\n",
      "           2       0.50      0.78      0.60      2722\n",
      "           3       0.67      0.91      0.77      3166\n",
      "           4       0.58      0.90      0.71      2937\n",
      "           5       0.75      0.44      0.55      1188\n",
      "           6       0.75      0.58      0.65      1037\n",
      "           7       0.84      0.92      0.88       779\n",
      "           8       0.64      0.47      0.54      1772\n",
      "           9       0.69      0.32      0.44      1051\n",
      "          10       0.86      0.41      0.55      1192\n",
      "          11       0.69      0.40      0.51      1037\n",
      "\n",
      "    accuracy                           0.63     18888\n",
      "   macro avg       0.69      0.54      0.56     18888\n",
      "weighted avg       0.66      0.63      0.60     18888\n",
      "\n"
     ]
    }
   ],
   "source": [
    "print(classification_report(y_test_w,pred))"
   ]
  },
  {
   "cell_type": "code",
   "execution_count": 245,
   "id": "abb37b34",
   "metadata": {},
   "outputs": [
    {
     "name": "stdout",
     "output_type": "stream",
     "text": [
      ">15, train: 0.621, test: 0.593\n",
      ">16, train: 0.627, test: 0.596\n",
      ">17, train: 0.644, test: 0.610\n",
      ">18, train: 0.655, test: 0.617\n",
      ">19, train: 0.664, test: 0.621\n",
      ">20, train: 0.674, test: 0.626\n",
      ">21, train: 0.679, test: 0.627\n",
      ">22, train: 0.690, test: 0.632\n",
      ">23, train: 0.703, test: 0.639\n",
      ">24, train: 0.714, test: 0.643\n"
     ]
    },
    {
     "data": {
      "image/png": "[encoded data removed]",
      "text/plain": [
       "<Figure size 640x480 with 1 Axes>"
      ]
     },
     "metadata": {},
     "output_type": "display_data"
    }
   ],
   "source": [
    "from matplotlib import pyplot\n",
    "\n",
    "train_scores, test_scores = list(), list()\n",
    "# define the tree depths to evaluate\n",
    "values = [i for i in range(15, 25)]\n",
    "# evaluate a decision tree for each depth\n",
    "for i in values:\n",
    " # configure the model\n",
    "    model = RandomForestClassifier(max_depth=i,max_features=150)\n",
    " # fit model on the training dataset\n",
    "    model.fit(x_train_w, y_train_w)\n",
    " # evaluate on the train dataset\n",
    "    train_yhat = model.predict(x_train_w)\n",
    "    train_acc = accuracy_score(y_train_w, train_yhat)\n",
    "    train_scores.append(train_acc)\n",
    " # evaluate on the test dataset\n",
    "    test_yhat = model.predict(x_test_w)\n",
    "    test_acc = accuracy_score(y_test_w, test_yhat)\n",
    "    test_scores.append(test_acc) # summarize progress\n",
    "    print('>%d, train: %.3f, test: %.3f' % (i, train_acc, test_acc))\n",
    "# plot of train and test scores vs tree depth\n",
    "pyplot.plot(values, train_scores, '-o', label='Train')\n",
    "pyplot.plot(values, test_scores, '-o', label='Test')\n",
    "pyplot.legend()\n",
    "pyplot.show()"
   ]
  },
  {
   "cell_type": "markdown",
   "id": "0e4bf896",
   "metadata": {},
   "source": [
    "## Random forest decision tree top 3 classes"
   ]
  },
  {
   "cell_type": "code",
   "execution_count": 116,
   "id": "48721b5b",
   "metadata": {},
   "outputs": [],
   "source": [
    "rm_clf = RandomForestClassifier(max_depth=10, random_state=42)"
   ]
  },
  {
   "cell_type": "code",
   "execution_count": null,
   "id": "4524c011",
   "metadata": {},
   "outputs": [],
   "source": [
    "rm_clf.fit(x_train,y_train) "
   ]
  },
  {
   "cell_type": "code",
   "execution_count": null,
   "id": "d4d567b0",
   "metadata": {},
   "outputs": [],
   "source": [
    "y_pred_rm = rm_clf.predict(x_test)"
   ]
  },
  {
   "cell_type": "code",
   "execution_count": null,
   "id": "ad3b336e",
   "metadata": {},
   "outputs": [],
   "source": [
    "accuracy_score(y_test, y_pred_rm)"
   ]
  },
  {
   "cell_type": "code",
   "execution_count": null,
   "id": "1c12ea6a",
   "metadata": {},
   "outputs": [],
   "source": [
    "from sklearn.model_selection import GridSearchCV\n",
    "from sklearn.experimental import enable_halving_search_cv\n",
    "from sklearn.model_selection import HalvingGridSearchCV\n",
    "\n",
    "\n",
    "param_grid = { \n",
    "    'n_estimators': [100, 200],\n",
    "    'max_features': ['auto', 'sqrt', 'log2'],\n",
    "    'max_depth' : [10,20,50,80],\n",
    "    'criterion' :['gini', 'entropy']\n",
    "}\n",
    "\n",
    "# Create a based model\n",
    "rfc = RandomForestClassifier()\n",
    "\n",
    "# Instantiate the grid search model\n",
    "CV_rfc = GridSearchCV(estimator=rfc, param_grid=param_grid, cv= 3, verbose = 2)\n",
    "\n",
    "# halving_cv = HalvingGridSearchCV(rf, param_grid,random_state=42)\n",
    "\n",
    "CV_rfc.fit(x_train, y_train)"
   ]
  },
  {
   "cell_type": "code",
   "execution_count": null,
   "id": "e44d7fa8",
   "metadata": {},
   "outputs": [],
   "source": [
    "CV_rfc.best_params_"
   ]
  },
  {
   "cell_type": "markdown",
   "id": "c87ec016",
   "metadata": {},
   "source": [
    "On best parameters"
   ]
  },
  {
   "cell_type": "code",
   "execution_count": 59,
   "id": "1f4f594c",
   "metadata": {},
   "outputs": [],
   "source": [
    "rfc1=RandomForestClassifier(random_state=42, max_features='auto', n_estimators= 200, max_depth=80, criterion='gini')"
   ]
  },
  {
   "cell_type": "code",
   "execution_count": 89,
   "id": "4d671542",
   "metadata": {},
   "outputs": [
    {
     "name": "stderr",
     "output_type": "stream",
     "text": [
      "/Users/adithyaabhishek/opt/anaconda3/envs/nlpev/lib/python3.10/site-packages/sklearn/ensemble/_forest.py:427: FutureWarning: `max_features='auto'` has been deprecated in 1.1 and will be removed in 1.3. To keep the past behaviour, explicitly set `max_features='sqrt'` or remove this parameter as it is also the default value for RandomForestClassifiers and ExtraTreesClassifiers.\n",
      "  warn(\n"
     ]
    },
    {
     "data": {
      "text/html": [
       "<style>#sk-container-id-10 {color: black;background-color: white;}#sk-container-id-10 pre{padding: 0;}#sk-container-id-10 div.sk-toggleable {background-color: white;}#sk-container-id-10 label.sk-toggleable__label {cursor: pointer;display: block;width: 100%;margin-bottom: 0;padding: 0.3em;box-sizing: border-box;text-align: center;}#sk-container-id-10 label.sk-toggleable__label-arrow:before {content: \"▸\";float: left;margin-right: 0.25em;color: #696969;}#sk-container-id-10 label.sk-toggleable__label-arrow:hover:before {color: black;}#sk-container-id-10 div.sk-estimator:hover label.sk-toggleable__label-arrow:before {color: black;}#sk-container-id-10 div.sk-toggleable__content {max-height: 0;max-width: 0;overflow: hidden;text-align: left;background-color: #f0f8ff;}#sk-container-id-10 div.sk-toggleable__content pre {margin: 0.2em;color: black;border-radius: 0.25em;background-color: #f0f8ff;}#sk-container-id-10 input.sk-toggleable__control:checked~div.sk-toggleable__content {max-height: 200px;max-width: 100%;overflow: auto;}#sk-container-id-10 input.sk-toggleable__control:checked~label.sk-toggleable__label-arrow:before {content: \"▾\";}#sk-container-id-10 div.sk-estimator input.sk-toggleable__control:checked~label.sk-toggleable__label {background-color: #d4ebff;}#sk-container-id-10 div.sk-label input.sk-toggleable__control:checked~label.sk-toggleable__label {background-color: #d4ebff;}#sk-container-id-10 input.sk-hidden--visually {border: 0;clip: rect(1px 1px 1px 1px);clip: rect(1px, 1px, 1px, 1px);height: 1px;margin: -1px;overflow: hidden;padding: 0;position: absolute;width: 1px;}#sk-container-id-10 div.sk-estimator {font-family: monospace;background-color: #f0f8ff;border: 1px dotted black;border-radius: 0.25em;box-sizing: border-box;margin-bottom: 0.5em;}#sk-container-id-10 div.sk-estimator:hover {background-color: #d4ebff;}#sk-container-id-10 div.sk-parallel-item::after {content: \"\";width: 100%;border-bottom: 1px solid gray;flex-grow: 1;}#sk-container-id-10 div.sk-label:hover label.sk-toggleable__label {background-color: #d4ebff;}#sk-container-id-10 div.sk-serial::before {content: \"\";position: absolute;border-left: 1px solid gray;box-sizing: border-box;top: 0;bottom: 0;left: 50%;z-index: 0;}#sk-container-id-10 div.sk-serial {display: flex;flex-direction: column;align-items: center;background-color: white;padding-right: 0.2em;padding-left: 0.2em;position: relative;}#sk-container-id-10 div.sk-item {position: relative;z-index: 1;}#sk-container-id-10 div.sk-parallel {display: flex;align-items: stretch;justify-content: center;background-color: white;position: relative;}#sk-container-id-10 div.sk-item::before, #sk-container-id-10 div.sk-parallel-item::before {content: \"\";position: absolute;border-left: 1px solid gray;box-sizing: border-box;top: 0;bottom: 0;left: 50%;z-index: -1;}#sk-container-id-10 div.sk-parallel-item {display: flex;flex-direction: column;z-index: 1;position: relative;background-color: white;}#sk-container-id-10 div.sk-parallel-item:first-child::after {align-self: flex-end;width: 50%;}#sk-container-id-10 div.sk-parallel-item:last-child::after {align-self: flex-start;width: 50%;}#sk-container-id-10 div.sk-parallel-item:only-child::after {width: 0;}#sk-container-id-10 div.sk-dashed-wrapped {border: 1px dashed gray;margin: 0 0.4em 0.5em 0.4em;box-sizing: border-box;padding-bottom: 0.4em;background-color: white;}#sk-container-id-10 div.sk-label label {font-family: monospace;font-weight: bold;display: inline-block;line-height: 1.2em;}#sk-container-id-10 div.sk-label-container {text-align: center;}#sk-container-id-10 div.sk-container {/* jupyter's `normalize.less` sets `[hidden] { display: none; }` but bootstrap.min.css set `[hidden] { display: none !important; }` so we also need the `!important` here to be able to override the default hidden behavior on the sphinx rendered scikit-learn.org. See: https://github.com/scikit-learn/scikit-learn/issues/21755 */display: inline-block !important;position: relative;}#sk-container-id-10 div.sk-text-repr-fallback {display: none;}</style><div id=\"sk-container-id-10\" class=\"sk-top-container\"><div class=\"sk-text-repr-fallback\"><pre>RandomForestClassifier(max_depth=80, max_features=&#x27;auto&#x27;, n_estimators=200,\n",
       "                       random_state=42)</pre><b>In a Jupyter environment, please rerun this cell to show the HTML representation or trust the notebook. <br />On GitHub, the HTML representation is unable to render, please try loading this page with nbviewer.org.</b></div><div class=\"sk-container\" hidden><div class=\"sk-item\"><div class=\"sk-estimator sk-toggleable\"><input class=\"sk-toggleable__control sk-hidden--visually\" id=\"sk-estimator-id-10\" type=\"checkbox\" checked><label for=\"sk-estimator-id-10\" class=\"sk-toggleable__label sk-toggleable__label-arrow\">RandomForestClassifier</label><div class=\"sk-toggleable__content\"><pre>RandomForestClassifier(max_depth=80, max_features=&#x27;auto&#x27;, n_estimators=200,\n",
       "                       random_state=42)</pre></div></div></div></div></div>"
      ],
      "text/plain": [
       "RandomForestClassifier(max_depth=80, max_features='auto', n_estimators=200,\n",
       "                       random_state=42)"
      ]
     },
     "execution_count": 89,
     "metadata": {},
     "output_type": "execute_result"
    }
   ],
   "source": [
    "rfc1.fit(x_train, y_train)"
   ]
  },
  {
   "cell_type": "code",
   "execution_count": 90,
   "id": "3e9298d8",
   "metadata": {},
   "outputs": [],
   "source": [
    "pred=rfc1.predict(x_test)"
   ]
  },
  {
   "cell_type": "code",
   "execution_count": 91,
   "id": "2cfc9550",
   "metadata": {},
   "outputs": [
    {
     "name": "stdout",
     "output_type": "stream",
     "text": [
      "Accuracy for Random Forest on CV data:  0.9560514630536263\n",
      "              precision    recall  f1-score   support\n",
      "\n",
      "           3       0.96      0.93      0.94      2704\n",
      "           4       0.95      0.97      0.96      3125\n",
      "           5       0.96      0.96      0.96      2954\n",
      "\n",
      "    accuracy                           0.96      8783\n",
      "   macro avg       0.96      0.95      0.96      8783\n",
      "weighted avg       0.96      0.96      0.96      8783\n",
      "\n"
     ]
    }
   ],
   "source": [
    "print(\"Accuracy for Random Forest on CV data: \",accuracy_score(y_test,pred))\n",
    "\n",
    "print(classification_report(y_test, pred))"
   ]
  },
  {
   "cell_type": "code",
   "execution_count": 94,
   "id": "ba90b3b6",
   "metadata": {},
   "outputs": [
    {
     "name": "stdout",
     "output_type": "stream",
     "text": [
      "Accuracy traininh:  0.9941363998633724\n",
      "              precision    recall  f1-score   support\n",
      "\n",
      "           3       0.96      0.93      0.94      2704\n",
      "           4       0.95      0.97      0.96      3125\n",
      "           5       0.96      0.96      0.96      2954\n",
      "\n",
      "    accuracy                           0.96      8783\n",
      "   macro avg       0.96      0.95      0.96      8783\n",
      "weighted avg       0.96      0.96      0.96      8783\n",
      "\n"
     ]
    }
   ],
   "source": [
    "train_pred=rfc1.predict(x_train)\n",
    "print(\"Accuracy traininh: \",accuracy_score(y_train,train_pred))\n"
   ]
  },
  {
   "cell_type": "markdown",
   "id": "06aaab1d",
   "metadata": {},
   "source": [
    "#  Bracket 1 and 2 - 6 classes "
   ]
  },
  {
   "cell_type": "code",
   "execution_count": 172,
   "id": "85d15206",
   "metadata": {},
   "outputs": [
    {
     "data": {
      "text/html": [
       "<style>#sk-container-id-28 {color: black;background-color: white;}#sk-container-id-28 pre{padding: 0;}#sk-container-id-28 div.sk-toggleable {background-color: white;}#sk-container-id-28 label.sk-toggleable__label {cursor: pointer;display: block;width: 100%;margin-bottom: 0;padding: 0.3em;box-sizing: border-box;text-align: center;}#sk-container-id-28 label.sk-toggleable__label-arrow:before {content: \"▸\";float: left;margin-right: 0.25em;color: #696969;}#sk-container-id-28 label.sk-toggleable__label-arrow:hover:before {color: black;}#sk-container-id-28 div.sk-estimator:hover label.sk-toggleable__label-arrow:before {color: black;}#sk-container-id-28 div.sk-toggleable__content {max-height: 0;max-width: 0;overflow: hidden;text-align: left;background-color: #f0f8ff;}#sk-container-id-28 div.sk-toggleable__content pre {margin: 0.2em;color: black;border-radius: 0.25em;background-color: #f0f8ff;}#sk-container-id-28 input.sk-toggleable__control:checked~div.sk-toggleable__content {max-height: 200px;max-width: 100%;overflow: auto;}#sk-container-id-28 input.sk-toggleable__control:checked~label.sk-toggleable__label-arrow:before {content: \"▾\";}#sk-container-id-28 div.sk-estimator input.sk-toggleable__control:checked~label.sk-toggleable__label {background-color: #d4ebff;}#sk-container-id-28 div.sk-label input.sk-toggleable__control:checked~label.sk-toggleable__label {background-color: #d4ebff;}#sk-container-id-28 input.sk-hidden--visually {border: 0;clip: rect(1px 1px 1px 1px);clip: rect(1px, 1px, 1px, 1px);height: 1px;margin: -1px;overflow: hidden;padding: 0;position: absolute;width: 1px;}#sk-container-id-28 div.sk-estimator {font-family: monospace;background-color: #f0f8ff;border: 1px dotted black;border-radius: 0.25em;box-sizing: border-box;margin-bottom: 0.5em;}#sk-container-id-28 div.sk-estimator:hover {background-color: #d4ebff;}#sk-container-id-28 div.sk-parallel-item::after {content: \"\";width: 100%;border-bottom: 1px solid gray;flex-grow: 1;}#sk-container-id-28 div.sk-label:hover label.sk-toggleable__label {background-color: #d4ebff;}#sk-container-id-28 div.sk-serial::before {content: \"\";position: absolute;border-left: 1px solid gray;box-sizing: border-box;top: 0;bottom: 0;left: 50%;z-index: 0;}#sk-container-id-28 div.sk-serial {display: flex;flex-direction: column;align-items: center;background-color: white;padding-right: 0.2em;padding-left: 0.2em;position: relative;}#sk-container-id-28 div.sk-item {position: relative;z-index: 1;}#sk-container-id-28 div.sk-parallel {display: flex;align-items: stretch;justify-content: center;background-color: white;position: relative;}#sk-container-id-28 div.sk-item::before, #sk-container-id-28 div.sk-parallel-item::before {content: \"\";position: absolute;border-left: 1px solid gray;box-sizing: border-box;top: 0;bottom: 0;left: 50%;z-index: -1;}#sk-container-id-28 div.sk-parallel-item {display: flex;flex-direction: column;z-index: 1;position: relative;background-color: white;}#sk-container-id-28 div.sk-parallel-item:first-child::after {align-self: flex-end;width: 50%;}#sk-container-id-28 div.sk-parallel-item:last-child::after {align-self: flex-start;width: 50%;}#sk-container-id-28 div.sk-parallel-item:only-child::after {width: 0;}#sk-container-id-28 div.sk-dashed-wrapped {border: 1px dashed gray;margin: 0 0.4em 0.5em 0.4em;box-sizing: border-box;padding-bottom: 0.4em;background-color: white;}#sk-container-id-28 div.sk-label label {font-family: monospace;font-weight: bold;display: inline-block;line-height: 1.2em;}#sk-container-id-28 div.sk-label-container {text-align: center;}#sk-container-id-28 div.sk-container {/* jupyter's `normalize.less` sets `[hidden] { display: none; }` but bootstrap.min.css set `[hidden] { display: none !important; }` so we also need the `!important` here to be able to override the default hidden behavior on the sphinx rendered scikit-learn.org. See: https://github.com/scikit-learn/scikit-learn/issues/21755 */display: inline-block !important;position: relative;}#sk-container-id-28 div.sk-text-repr-fallback {display: none;}</style><div id=\"sk-container-id-28\" class=\"sk-top-container\"><div class=\"sk-text-repr-fallback\"><pre>RandomForestClassifier(max_depth=20, random_state=161)</pre><b>In a Jupyter environment, please rerun this cell to show the HTML representation or trust the notebook. <br />On GitHub, the HTML representation is unable to render, please try loading this page with nbviewer.org.</b></div><div class=\"sk-container\" hidden><div class=\"sk-item\"><div class=\"sk-estimator sk-toggleable\"><input class=\"sk-toggleable__control sk-hidden--visually\" id=\"sk-estimator-id-36\" type=\"checkbox\" checked><label for=\"sk-estimator-id-36\" class=\"sk-toggleable__label sk-toggleable__label-arrow\">RandomForestClassifier</label><div class=\"sk-toggleable__content\"><pre>RandomForestClassifier(max_depth=20, random_state=161)</pre></div></div></div></div></div>"
      ],
      "text/plain": [
       "RandomForestClassifier(max_depth=20, random_state=161)"
      ]
     },
     "execution_count": 172,
     "metadata": {},
     "output_type": "execute_result"
    }
   ],
   "source": [
    "rfc_2 = RandomForestClassifier(random_state=161, max_depth=20)\n",
    "rfc_2.fit(x_train2, y_train2)"
   ]
  },
  {
   "cell_type": "code",
   "execution_count": 173,
   "id": "025cd6b0",
   "metadata": {},
   "outputs": [],
   "source": [
    "pred2=rfc_2.predict(x_test2)\n",
    "train_pred2 = rfc_2.predict(x_train2)"
   ]
  },
  {
   "cell_type": "code",
   "execution_count": 174,
   "id": "b5c7df23",
   "metadata": {},
   "outputs": [
    {
     "name": "stdout",
     "output_type": "stream",
     "text": [
      "Accuracy testing Random Forest:  0.7628285820066641\n",
      "Accuracy training:  0.8011922172649351\n",
      "              precision    recall  f1-score   support\n",
      "\n",
      "           2       0.74      0.87      0.80      2409\n",
      "           3       0.73      0.72      0.73      2353\n",
      "           4       0.74      0.90      0.81      2362\n",
      "           5       0.88      0.60      0.72      1888\n",
      "           8       0.73      0.76      0.75      2800\n",
      "          10       0.87      0.66      0.75      1693\n",
      "\n",
      "    accuracy                           0.76     13505\n",
      "   macro avg       0.78      0.75      0.76     13505\n",
      "weighted avg       0.77      0.76      0.76     13505\n",
      "\n"
     ]
    }
   ],
   "source": [
    "print(\"Accuracy testing Random Forest: \",accuracy_score(y_test2,pred2))\n",
    "print(\"Accuracy training: \",accuracy_score(y_train2,train_pred2))\n",
    "print(classification_report(y_test2,pred2))"
   ]
  },
  {
   "cell_type": "code",
   "execution_count": 101,
   "id": "d93fd8ba",
   "metadata": {},
   "outputs": [
    {
     "name": "stdout",
     "output_type": "stream",
     "text": [
      "Fitting 3 folds for each of 8 candidates, totalling 24 fits\n",
      "[CV] END .......................criterion=gini, max_depth=10; total time=   1.0s\n",
      "[CV] END .......................criterion=gini, max_depth=10; total time=   0.9s\n",
      "[CV] END .......................criterion=gini, max_depth=10; total time=   0.9s\n",
      "[CV] END .......................criterion=gini, max_depth=20; total time=   2.1s\n",
      "[CV] END .......................criterion=gini, max_depth=20; total time=   2.2s\n",
      "[CV] END .......................criterion=gini, max_depth=20; total time=   2.1s\n",
      "[CV] END .......................criterion=gini, max_depth=30; total time=   4.1s\n",
      "[CV] END .......................criterion=gini, max_depth=30; total time=   3.9s\n",
      "[CV] END .......................criterion=gini, max_depth=30; total time=   4.0s\n",
      "[CV] END .......................criterion=gini, max_depth=40; total time=   6.2s\n",
      "[CV] END .......................criterion=gini, max_depth=40; total time=   6.2s\n",
      "[CV] END .......................criterion=gini, max_depth=40; total time=   6.4s\n",
      "[CV] END ....................criterion=entropy, max_depth=10; total time=   1.2s\n",
      "[CV] END ....................criterion=entropy, max_depth=10; total time=   1.2s\n",
      "[CV] END ....................criterion=entropy, max_depth=10; total time=   1.3s\n",
      "[CV] END ....................criterion=entropy, max_depth=20; total time=   3.1s\n",
      "[CV] END ....................criterion=entropy, max_depth=20; total time=   2.8s\n",
      "[CV] END ....................criterion=entropy, max_depth=20; total time=   2.8s\n",
      "[CV] END ....................criterion=entropy, max_depth=30; total time=   5.1s\n",
      "[CV] END ....................criterion=entropy, max_depth=30; total time=   5.2s\n",
      "[CV] END ....................criterion=entropy, max_depth=30; total time=   5.3s\n",
      "[CV] END ....................criterion=entropy, max_depth=40; total time=   7.9s\n",
      "[CV] END ....................criterion=entropy, max_depth=40; total time=   7.9s\n",
      "[CV] END ....................criterion=entropy, max_depth=40; total time=   7.9s\n"
     ]
    },
    {
     "data": {
      "text/html": [
       "<style>#sk-container-id-14 {color: black;background-color: white;}#sk-container-id-14 pre{padding: 0;}#sk-container-id-14 div.sk-toggleable {background-color: white;}#sk-container-id-14 label.sk-toggleable__label {cursor: pointer;display: block;width: 100%;margin-bottom: 0;padding: 0.3em;box-sizing: border-box;text-align: center;}#sk-container-id-14 label.sk-toggleable__label-arrow:before {content: \"▸\";float: left;margin-right: 0.25em;color: #696969;}#sk-container-id-14 label.sk-toggleable__label-arrow:hover:before {color: black;}#sk-container-id-14 div.sk-estimator:hover label.sk-toggleable__label-arrow:before {color: black;}#sk-container-id-14 div.sk-toggleable__content {max-height: 0;max-width: 0;overflow: hidden;text-align: left;background-color: #f0f8ff;}#sk-container-id-14 div.sk-toggleable__content pre {margin: 0.2em;color: black;border-radius: 0.25em;background-color: #f0f8ff;}#sk-container-id-14 input.sk-toggleable__control:checked~div.sk-toggleable__content {max-height: 200px;max-width: 100%;overflow: auto;}#sk-container-id-14 input.sk-toggleable__control:checked~label.sk-toggleable__label-arrow:before {content: \"▾\";}#sk-container-id-14 div.sk-estimator input.sk-toggleable__control:checked~label.sk-toggleable__label {background-color: #d4ebff;}#sk-container-id-14 div.sk-label input.sk-toggleable__control:checked~label.sk-toggleable__label {background-color: #d4ebff;}#sk-container-id-14 input.sk-hidden--visually {border: 0;clip: rect(1px 1px 1px 1px);clip: rect(1px, 1px, 1px, 1px);height: 1px;margin: -1px;overflow: hidden;padding: 0;position: absolute;width: 1px;}#sk-container-id-14 div.sk-estimator {font-family: monospace;background-color: #f0f8ff;border: 1px dotted black;border-radius: 0.25em;box-sizing: border-box;margin-bottom: 0.5em;}#sk-container-id-14 div.sk-estimator:hover {background-color: #d4ebff;}#sk-container-id-14 div.sk-parallel-item::after {content: \"\";width: 100%;border-bottom: 1px solid gray;flex-grow: 1;}#sk-container-id-14 div.sk-label:hover label.sk-toggleable__label {background-color: #d4ebff;}#sk-container-id-14 div.sk-serial::before {content: \"\";position: absolute;border-left: 1px solid gray;box-sizing: border-box;top: 0;bottom: 0;left: 50%;z-index: 0;}#sk-container-id-14 div.sk-serial {display: flex;flex-direction: column;align-items: center;background-color: white;padding-right: 0.2em;padding-left: 0.2em;position: relative;}#sk-container-id-14 div.sk-item {position: relative;z-index: 1;}#sk-container-id-14 div.sk-parallel {display: flex;align-items: stretch;justify-content: center;background-color: white;position: relative;}#sk-container-id-14 div.sk-item::before, #sk-container-id-14 div.sk-parallel-item::before {content: \"\";position: absolute;border-left: 1px solid gray;box-sizing: border-box;top: 0;bottom: 0;left: 50%;z-index: -1;}#sk-container-id-14 div.sk-parallel-item {display: flex;flex-direction: column;z-index: 1;position: relative;background-color: white;}#sk-container-id-14 div.sk-parallel-item:first-child::after {align-self: flex-end;width: 50%;}#sk-container-id-14 div.sk-parallel-item:last-child::after {align-self: flex-start;width: 50%;}#sk-container-id-14 div.sk-parallel-item:only-child::after {width: 0;}#sk-container-id-14 div.sk-dashed-wrapped {border: 1px dashed gray;margin: 0 0.4em 0.5em 0.4em;box-sizing: border-box;padding-bottom: 0.4em;background-color: white;}#sk-container-id-14 div.sk-label label {font-family: monospace;font-weight: bold;display: inline-block;line-height: 1.2em;}#sk-container-id-14 div.sk-label-container {text-align: center;}#sk-container-id-14 div.sk-container {/* jupyter's `normalize.less` sets `[hidden] { display: none; }` but bootstrap.min.css set `[hidden] { display: none !important; }` so we also need the `!important` here to be able to override the default hidden behavior on the sphinx rendered scikit-learn.org. See: https://github.com/scikit-learn/scikit-learn/issues/21755 */display: inline-block !important;position: relative;}#sk-container-id-14 div.sk-text-repr-fallback {display: none;}</style><div id=\"sk-container-id-14\" class=\"sk-top-container\"><div class=\"sk-text-repr-fallback\"><pre>GridSearchCV(cv=3, estimator=RandomForestClassifier(),\n",
       "             param_grid={&#x27;criterion&#x27;: [&#x27;gini&#x27;, &#x27;entropy&#x27;],\n",
       "                         &#x27;max_depth&#x27;: [10, 20, 30, 40]},\n",
       "             verbose=2)</pre><b>In a Jupyter environment, please rerun this cell to show the HTML representation or trust the notebook. <br />On GitHub, the HTML representation is unable to render, please try loading this page with nbviewer.org.</b></div><div class=\"sk-container\" hidden><div class=\"sk-item sk-dashed-wrapped\"><div class=\"sk-label-container\"><div class=\"sk-label sk-toggleable\"><input class=\"sk-toggleable__control sk-hidden--visually\" id=\"sk-estimator-id-20\" type=\"checkbox\" ><label for=\"sk-estimator-id-20\" class=\"sk-toggleable__label sk-toggleable__label-arrow\">GridSearchCV</label><div class=\"sk-toggleable__content\"><pre>GridSearchCV(cv=3, estimator=RandomForestClassifier(),\n",
       "             param_grid={&#x27;criterion&#x27;: [&#x27;gini&#x27;, &#x27;entropy&#x27;],\n",
       "                         &#x27;max_depth&#x27;: [10, 20, 30, 40]},\n",
       "             verbose=2)</pre></div></div></div><div class=\"sk-parallel\"><div class=\"sk-parallel-item\"><div class=\"sk-item\"><div class=\"sk-label-container\"><div class=\"sk-label sk-toggleable\"><input class=\"sk-toggleable__control sk-hidden--visually\" id=\"sk-estimator-id-21\" type=\"checkbox\" ><label for=\"sk-estimator-id-21\" class=\"sk-toggleable__label sk-toggleable__label-arrow\">estimator: RandomForestClassifier</label><div class=\"sk-toggleable__content\"><pre>RandomForestClassifier()</pre></div></div></div><div class=\"sk-serial\"><div class=\"sk-item\"><div class=\"sk-estimator sk-toggleable\"><input class=\"sk-toggleable__control sk-hidden--visually\" id=\"sk-estimator-id-22\" type=\"checkbox\" ><label for=\"sk-estimator-id-22\" class=\"sk-toggleable__label sk-toggleable__label-arrow\">RandomForestClassifier</label><div class=\"sk-toggleable__content\"><pre>RandomForestClassifier()</pre></div></div></div></div></div></div></div></div></div></div>"
      ],
      "text/plain": [
       "GridSearchCV(cv=3, estimator=RandomForestClassifier(),\n",
       "             param_grid={'criterion': ['gini', 'entropy'],\n",
       "                         'max_depth': [10, 20, 30, 40]},\n",
       "             verbose=2)"
      ]
     },
     "execution_count": 101,
     "metadata": {},
     "output_type": "execute_result"
    }
   ],
   "source": [
    "from sklearn.model_selection import GridSearchCV\n",
    "from sklearn.experimental import enable_halving_search_cv\n",
    "from sklearn.model_selection import HalvingGridSearchCV\n",
    "\n",
    "\n",
    "param_grid = { \n",
    "    'max_depth' : [10,20,30,40],\n",
    "    'criterion' :['gini', 'entropy']\n",
    "}\n",
    "\n",
    "# Create a based model\n",
    "rfc = RandomForestClassifier()\n",
    "\n",
    "# Instantiate the grid search model\n",
    "CV_rfc = GridSearchCV(estimator=rfc, param_grid=param_grid, cv= 3, verbose = 2)\n",
    "\n",
    "# halving_cv = HalvingGridSearchCV(rf, param_grid,random_state=42)\n",
    "\n",
    "CV_rfc.fit(x_train2, y_train2)"
   ]
  },
  {
   "cell_type": "code",
   "execution_count": 102,
   "id": "31657e72",
   "metadata": {},
   "outputs": [
    {
     "data": {
      "text/plain": [
       "{'criterion': 'gini', 'max_depth': 40}"
      ]
     },
     "execution_count": 102,
     "metadata": {},
     "output_type": "execute_result"
    }
   ],
   "source": [
    "CV_rfc.best_params_"
   ]
  },
  {
   "cell_type": "code",
   "execution_count": 103,
   "id": "fbb85fa2",
   "metadata": {},
   "outputs": [
    {
     "data": {
      "text/html": [
       "<style>#sk-container-id-15 {color: black;background-color: white;}#sk-container-id-15 pre{padding: 0;}#sk-container-id-15 div.sk-toggleable {background-color: white;}#sk-container-id-15 label.sk-toggleable__label {cursor: pointer;display: block;width: 100%;margin-bottom: 0;padding: 0.3em;box-sizing: border-box;text-align: center;}#sk-container-id-15 label.sk-toggleable__label-arrow:before {content: \"▸\";float: left;margin-right: 0.25em;color: #696969;}#sk-container-id-15 label.sk-toggleable__label-arrow:hover:before {color: black;}#sk-container-id-15 div.sk-estimator:hover label.sk-toggleable__label-arrow:before {color: black;}#sk-container-id-15 div.sk-toggleable__content {max-height: 0;max-width: 0;overflow: hidden;text-align: left;background-color: #f0f8ff;}#sk-container-id-15 div.sk-toggleable__content pre {margin: 0.2em;color: black;border-radius: 0.25em;background-color: #f0f8ff;}#sk-container-id-15 input.sk-toggleable__control:checked~div.sk-toggleable__content {max-height: 200px;max-width: 100%;overflow: auto;}#sk-container-id-15 input.sk-toggleable__control:checked~label.sk-toggleable__label-arrow:before {content: \"▾\";}#sk-container-id-15 div.sk-estimator input.sk-toggleable__control:checked~label.sk-toggleable__label {background-color: #d4ebff;}#sk-container-id-15 div.sk-label input.sk-toggleable__control:checked~label.sk-toggleable__label {background-color: #d4ebff;}#sk-container-id-15 input.sk-hidden--visually {border: 0;clip: rect(1px 1px 1px 1px);clip: rect(1px, 1px, 1px, 1px);height: 1px;margin: -1px;overflow: hidden;padding: 0;position: absolute;width: 1px;}#sk-container-id-15 div.sk-estimator {font-family: monospace;background-color: #f0f8ff;border: 1px dotted black;border-radius: 0.25em;box-sizing: border-box;margin-bottom: 0.5em;}#sk-container-id-15 div.sk-estimator:hover {background-color: #d4ebff;}#sk-container-id-15 div.sk-parallel-item::after {content: \"\";width: 100%;border-bottom: 1px solid gray;flex-grow: 1;}#sk-container-id-15 div.sk-label:hover label.sk-toggleable__label {background-color: #d4ebff;}#sk-container-id-15 div.sk-serial::before {content: \"\";position: absolute;border-left: 1px solid gray;box-sizing: border-box;top: 0;bottom: 0;left: 50%;z-index: 0;}#sk-container-id-15 div.sk-serial {display: flex;flex-direction: column;align-items: center;background-color: white;padding-right: 0.2em;padding-left: 0.2em;position: relative;}#sk-container-id-15 div.sk-item {position: relative;z-index: 1;}#sk-container-id-15 div.sk-parallel {display: flex;align-items: stretch;justify-content: center;background-color: white;position: relative;}#sk-container-id-15 div.sk-item::before, #sk-container-id-15 div.sk-parallel-item::before {content: \"\";position: absolute;border-left: 1px solid gray;box-sizing: border-box;top: 0;bottom: 0;left: 50%;z-index: -1;}#sk-container-id-15 div.sk-parallel-item {display: flex;flex-direction: column;z-index: 1;position: relative;background-color: white;}#sk-container-id-15 div.sk-parallel-item:first-child::after {align-self: flex-end;width: 50%;}#sk-container-id-15 div.sk-parallel-item:last-child::after {align-self: flex-start;width: 50%;}#sk-container-id-15 div.sk-parallel-item:only-child::after {width: 0;}#sk-container-id-15 div.sk-dashed-wrapped {border: 1px dashed gray;margin: 0 0.4em 0.5em 0.4em;box-sizing: border-box;padding-bottom: 0.4em;background-color: white;}#sk-container-id-15 div.sk-label label {font-family: monospace;font-weight: bold;display: inline-block;line-height: 1.2em;}#sk-container-id-15 div.sk-label-container {text-align: center;}#sk-container-id-15 div.sk-container {/* jupyter's `normalize.less` sets `[hidden] { display: none; }` but bootstrap.min.css set `[hidden] { display: none !important; }` so we also need the `!important` here to be able to override the default hidden behavior on the sphinx rendered scikit-learn.org. See: https://github.com/scikit-learn/scikit-learn/issues/21755 */display: inline-block !important;position: relative;}#sk-container-id-15 div.sk-text-repr-fallback {display: none;}</style><div id=\"sk-container-id-15\" class=\"sk-top-container\"><div class=\"sk-text-repr-fallback\"><pre>RandomForestClassifier(max_depth=40, random_state=42)</pre><b>In a Jupyter environment, please rerun this cell to show the HTML representation or trust the notebook. <br />On GitHub, the HTML representation is unable to render, please try loading this page with nbviewer.org.</b></div><div class=\"sk-container\" hidden><div class=\"sk-item\"><div class=\"sk-estimator sk-toggleable\"><input class=\"sk-toggleable__control sk-hidden--visually\" id=\"sk-estimator-id-23\" type=\"checkbox\" checked><label for=\"sk-estimator-id-23\" class=\"sk-toggleable__label sk-toggleable__label-arrow\">RandomForestClassifier</label><div class=\"sk-toggleable__content\"><pre>RandomForestClassifier(max_depth=40, random_state=42)</pre></div></div></div></div></div>"
      ],
      "text/plain": [
       "RandomForestClassifier(max_depth=40, random_state=42)"
      ]
     },
     "execution_count": 103,
     "metadata": {},
     "output_type": "execute_result"
    }
   ],
   "source": [
    "rfc_2cv = RandomForestClassifier(random_state=42,criterion= CV_rfc.best_params_['criterion'], max_depth= CV_rfc.best_params_['max_depth'])\n",
    "rfc_2cv.fit(x_train2, y_train2)"
   ]
  },
  {
   "cell_type": "code",
   "execution_count": 104,
   "id": "901bb96a",
   "metadata": {},
   "outputs": [],
   "source": [
    "pred2=rfc_2cv.predict(x_test2)\n",
    "train_pred2 = rfc_2cv.predict(x_train2)"
   ]
  },
  {
   "cell_type": "code",
   "execution_count": 105,
   "id": "668d6ffb",
   "metadata": {},
   "outputs": [
    {
     "name": "stdout",
     "output_type": "stream",
     "text": [
      "Accuracy for Random Forest on CV data:  0.8295744078512787\n",
      "              precision    recall  f1-score   support\n",
      "\n",
      "           2       0.87      0.89      0.88      1935\n",
      "           3       0.80      0.74      0.77      2047\n",
      "           4       0.86      0.84      0.85      1958\n",
      "           5       0.84      0.82      0.83      1875\n",
      "           8       0.79      0.85      0.82      2782\n",
      "\n",
      "    accuracy                           0.83     10597\n",
      "   macro avg       0.83      0.83      0.83     10597\n",
      "weighted avg       0.83      0.83      0.83     10597\n",
      "\n"
     ]
    }
   ],
   "source": [
    "print(\"Accuracy for Random Forest on CV data: \",accuracy_score(y_test2,pred2))\n",
    "print(classification_report(y_test2,pred2))"
   ]
  },
  {
   "cell_type": "code",
   "execution_count": 106,
   "id": "3e22c0a4",
   "metadata": {},
   "outputs": [
    {
     "name": "stdout",
     "output_type": "stream",
     "text": [
      "Accuracy training:  0.9178030481762847\n"
     ]
    }
   ],
   "source": [
    "print(\"Accuracy training: \",accuracy_score(y_train2,train_pred2))"
   ]
  }
 ],
 "metadata": {
  "kernelspec": {
   "display_name": "Python 3 (ipykernel)",
   "language": "python",
   "name": "python3"
  },
  "language_info": {
   "codemirror_mode": {
    "name": "ipython",
    "version": 3
   },
   "file_extension": ".py",
   "mimetype": "text/x-python",
   "name": "python",
   "nbconvert_exporter": "python",
   "pygments_lexer": "ipython3",
   "version": "3.9.15"
  },
  "vscode": {
   "interpreter": {
    "hash": "b0fa6594d8f4cbf19f97940f81e996739fb7646882a419484c72d19e05852a7e"
   }
  }
 },
 "nbformat": 4,
 "nbformat_minor": 5
}
