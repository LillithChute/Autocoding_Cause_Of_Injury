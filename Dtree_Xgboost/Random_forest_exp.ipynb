{
 "cells": [
  {
   "cell_type": "code",
   "execution_count": 3,
   "id": "0dd63fb4",
   "metadata": {},
   "outputs": [],
   "source": [
    "import pandas as pd\n",
    "import numpy as np\n",
    "\n",
    "from sklearn.preprocessing import LabelEncoder\n",
    "from sklearn.model_selection import train_test_split\n",
    "import matplotlib.pyplot as plt\n",
    "import seaborn as sns\n",
    "import pickle \n",
    "import os\n",
    "os.environ['KMP_DUPLICATE_LIB_OK']='True'\n",
    "from sklearn.metrics import classification_report\n",
    "from xgboost import XGBClassifier\n",
    "from sklearn.metrics import accuracy_score\n",
    "from sklearn.metrics import confusion_matrix\n",
    "\n",
    "from sklearn.model_selection import GridSearchCV\n",
    "from sklearn.experimental import enable_halving_search_cv\n",
    "from sklearn.model_selection import HalvingGridSearchCV\n",
    "\n",
    "\n",
    "from sklearn.feature_extraction.text import TfidfVectorizer\n",
    "from sklearn.naive_bayes import MultinomialNB\n",
    "from sklearn.model_selection import train_test_split\n",
    "from sklearn.metrics import accuracy_score\n",
    "\n",
    "import xgboost as xgb\n",
    "from sklearn.tree import DecisionTreeClassifier\n",
    "from sklearn.ensemble import RandomForestClassifier\n",
    "from sklearn.ensemble import RandomForestRegressor"
   ]
  },
  {
   "cell_type": "markdown",
   "id": "21cf4e0a",
   "metadata": {},
   "source": [
    "# Load preprocessed Dataset"
   ]
  },
  {
   "cell_type": "code",
   "execution_count": 4,
   "id": "a2499dad",
   "metadata": {},
   "outputs": [
    {
     "name": "stderr",
     "output_type": "stream",
     "text": [
      "/var/folders/gy/hjflsmyx53jch_h0701bpwdc0000gn/T/ipykernel_63917/2651487592.py:7: SettingWithCopyWarning: \n",
      "A value is trying to be set on a copy of a slice from a DataFrame\n",
      "\n",
      "See the caveats in the documentation: https://pandas.pydata.org/pandas-docs/stable/user_guide/indexing.html#returning-a-view-versus-a-copy\n",
      "  injury_new_df.drop(['index','label'], axis=1,inplace=True)\n",
      "/var/folders/gy/hjflsmyx53jch_h0701bpwdc0000gn/T/ipykernel_63917/2651487592.py:11: SettingWithCopyWarning: \n",
      "A value is trying to be set on a copy of a slice from a DataFrame.\n",
      "Try using .loc[row_indexer,col_indexer] = value instead\n",
      "\n",
      "See the caveats in the documentation: https://pandas.pydata.org/pandas-docs/stable/user_guide/indexing.html#returning-a-view-versus-a-copy\n",
      "  injury_new_df['label']=label\n"
     ]
    }
   ],
   "source": [
    "injury_df = pd.read_pickle(\"Data/injury_descriptions_processed.pkl\")\n",
    "injury_new_df = injury_df[\n",
    "    ~injury_df.InjuryCauseDesc.str.contains(\"Bodily reaction and exertion, unspecified\")]\n",
    "injuryDataFrame = injury_df[~injury_df.InjuryCauseDesc.str.contains(\"Bodily reaction, n.e.c.\")]\n",
    "\n",
    "injury_new_df.reset_index(inplace=True)\n",
    "injury_new_df.drop(['index','label'], axis=1,inplace=True)\n",
    "\n",
    "le = LabelEncoder()\n",
    "label = le.fit_transform(injury_new_df.InjuryCauseDesc)\n",
    "injury_new_df['label']=label"
   ]
  },
  {
   "cell_type": "code",
   "execution_count": 62,
   "id": "6f7525e5",
   "metadata": {},
   "outputs": [],
   "source": [
    "# splitting classes for experimentation\n",
    "data = injury_new_df\n",
    "X0 = data[data.label == 0]\n",
    "X1 = data[data.label == 1]\n",
    "X2 = data[data.label == 2]\n",
    "X3 = data[data.label == 3]\n",
    "X4 = data[data.label == 4]\n",
    "X5 = data[data.label == 5]\n",
    "X6 = data[data.label == 6]\n",
    "X7 = data[data.label == 7]\n",
    "X8 = data[data.label == 8]\n",
    "X9 = data[data.label == 9]\n",
    "X10 = data[data.label == 10]\n",
    "X11 = data[data.label == 11]\n",
    "\n",
    "X3_ds = X3.sample(n=10000)\n",
    "X4_ds = X4.sample(n=10000)\n",
    "X2_ds = X2.sample(n=10000)\n",
    "\n",
    "x8_s = X8.sample(n=(10000-len(X9)))\n",
    "x5_s = X5.sample(n=(8000-len(X1)))\n",
    "x10_s = X10.sample(n=(8000-len(X6)))\n"
   ]
  },
  {
   "cell_type": "markdown",
   "id": "dcb9f594",
   "metadata": {},
   "source": [
    "# tokenize"
   ]
  },
  {
   "cell_type": "code",
   "execution_count": 5,
   "id": "d44a6e43",
   "metadata": {},
   "outputs": [],
   "source": [
    "def token_process_split(data_local):\n",
    "    vectorizer = TfidfVectorizer(max_features=4000, decode_error=\"ignore\",ngram_range=(1,2))\n",
    "    Xvec = vectorizer.fit_transform(data_local.InjuryDesc)\n",
    "    y = data_local.label\n",
    "    \n",
    "    x_train,x_test,y_train,y_test = train_test_split(Xvec,y,test_size=0.2,random_state=42)\n",
    "    \n",
    "    return x_train,x_test,y_train,y_test"
   ]
  },
  {
   "cell_type": "code",
   "execution_count": 6,
   "id": "282f72e4",
   "metadata": {},
   "outputs": [
    {
     "data": {
      "text/plain": [
       "(<75552x4000 sparse matrix of type '<class 'numpy.float64'>'\n",
       " \twith 1055770 stored elements in Compressed Sparse Row format>,\n",
       " <18888x4000 sparse matrix of type '<class 'numpy.float64'>'\n",
       " \twith 262210 stored elements in Compressed Sparse Row format>,\n",
       " 86020     9\n",
       " 1409      8\n",
       " 88986     3\n",
       " 56629     4\n",
       " 36873     3\n",
       "          ..\n",
       " 6265      0\n",
       " 54886    11\n",
       " 76820     2\n",
       " 860       2\n",
       " 15795     8\n",
       " Name: label, Length: 75552, dtype: int64,\n",
       " 78450    8\n",
       " 34191    0\n",
       " 58492    2\n",
       " 60737    2\n",
       " 83327    3\n",
       "         ..\n",
       " 30661    3\n",
       " 58290    6\n",
       " 55066    2\n",
       " 80358    6\n",
       " 21338    3\n",
       " Name: label, Length: 18888, dtype: int64)"
      ]
     },
     "execution_count": 6,
     "metadata": {},
     "output_type": "execute_result"
    }
   ],
   "source": [
    "x_train_w,x_test_w,y_train_w,y_test_w = token_process_split(injury_new_df)\n",
    "x_train_w,x_test_w,y_train_w,y_test_w"
   ]
  },
  {
   "cell_type": "markdown",
   "id": "f7a8570e",
   "metadata": {},
   "source": [
    "## Using - Random forest on whole dataset"
   ]
  },
  {
   "cell_type": "code",
   "execution_count": 7,
   "id": "06dfc60f",
   "metadata": {},
   "outputs": [],
   "source": [
    "rfc2=RandomForestClassifier(random_state=161, max_depth=20,max_features=150)\n"
   ]
  },
  {
   "cell_type": "code",
   "execution_count": 8,
   "id": "9c529968",
   "metadata": {},
   "outputs": [
    {
     "data": {
      "text/plain": [
       "RandomForestClassifier(max_depth=20, max_features=150, random_state=161)"
      ]
     },
     "execution_count": 8,
     "metadata": {},
     "output_type": "execute_result"
    }
   ],
   "source": [
    "rfc2.fit(x_train_w,y_train_w)"
   ]
  },
  {
   "cell_type": "code",
   "execution_count": 9,
   "id": "15de7115",
   "metadata": {},
   "outputs": [],
   "source": [
    "pred=rfc2.predict(x_test_w)\n",
    "train_pred = rfc2.predict(x_train_w)"
   ]
  },
  {
   "cell_type": "code",
   "execution_count": 10,
   "id": "0d21e47b",
   "metadata": {},
   "outputs": [
    {
     "name": "stdout",
     "output_type": "stream",
     "text": [
      "Accuracy for Random Forest on CV data:  0.6290766624311732\n",
      "Accuracy Random Forest on CV ,training :  0.6759847522236341\n"
     ]
    }
   ],
   "source": [
    "print(\"Accuracy for Random Forest on CV data: \",accuracy_score(y_test_w,pred))\n",
    "print(\"Accuracy Random Forest on CV ,training : \",accuracy_score(y_train_w,train_pred))"
   ]
  },
  {
   "cell_type": "code",
   "execution_count": 11,
   "id": "9d68de87",
   "metadata": {},
   "outputs": [
    {
     "name": "stdout",
     "output_type": "stream",
     "text": [
      "              precision    recall  f1-score   support\n",
      "\n",
      "           0       0.70      0.30      0.42      1104\n",
      "           1       0.62      0.03      0.05       903\n",
      "           2       0.50      0.78      0.60      2722\n",
      "           3       0.67      0.91      0.77      3166\n",
      "           4       0.58      0.90      0.71      2937\n",
      "           5       0.75      0.44      0.55      1188\n",
      "           6       0.75      0.58      0.65      1037\n",
      "           7       0.84      0.92      0.88       779\n",
      "           8       0.64      0.47      0.54      1772\n",
      "           9       0.69      0.32      0.44      1051\n",
      "          10       0.86      0.41      0.55      1192\n",
      "          11       0.69      0.40      0.51      1037\n",
      "\n",
      "    accuracy                           0.63     18888\n",
      "   macro avg       0.69      0.54      0.56     18888\n",
      "weighted avg       0.66      0.63      0.60     18888\n",
      "\n"
     ]
    }
   ],
   "source": [
    "print(classification_report(y_test_w,pred))"
   ]
  },
  {
   "cell_type": "code",
   "execution_count": 12,
   "id": "23094c18",
   "metadata": {},
   "outputs": [
    {
     "name": "stdout",
     "output_type": "stream",
     "text": [
      ">15, train: 0.622, test: 0.597\n",
      ">16, train: 0.636, test: 0.607\n",
      ">17, train: 0.640, test: 0.606\n",
      ">18, train: 0.656, test: 0.614\n",
      ">19, train: 0.668, test: 0.622\n",
      ">20, train: 0.669, test: 0.623\n",
      ">21, train: 0.683, test: 0.631\n",
      ">22, train: 0.692, test: 0.635\n",
      ">23, train: 0.700, test: 0.635\n",
      ">24, train: 0.710, test: 0.644\n"
     ]
    },
    {
     "data": {
      "image/png": "[encoded data removed]",
      "text/plain": [
       "<Figure size 640x480 with 1 Axes>"
      ]
     },
     "metadata": {},
     "output_type": "display_data"
    }
   ],
   "source": [
    "from matplotlib import pyplot\n",
    "\n",
    "train_scores, test_scores = list(), list()\n",
    "# define the tree depths to evaluate\n",
    "values = [i for i in range(15, 25)]\n",
    "# evaluate a decision tree for each depth\n",
    "for i in values:\n",
    " # configure the model\n",
    "    model = RandomForestClassifier(max_depth=i,max_features=150)\n",
    " # fit model on the training dataset\n",
    "    model.fit(x_train_w, y_train_w)\n",
    " # evaluate on the train dataset\n",
    "    train_yhat = model.predict(x_train_w)\n",
    "    train_acc = accuracy_score(y_train_w, train_yhat)\n",
    "    train_scores.append(train_acc)\n",
    " # evaluate on the test dataset\n",
    "    test_yhat = model.predict(x_test_w)\n",
    "    test_acc = accuracy_score(y_test_w, test_yhat)\n",
    "    test_scores.append(test_acc) # summarize progress\n",
    "    print('>%d, train: %.3f, test: %.3f' % (i, train_acc, test_acc))\n",
    "# plot of train and test scores vs tree depth\n",
    "pyplot.plot(values, train_scores, '-o', label='Train')\n",
    "pyplot.plot(values, test_scores, '-o', label='Test')\n",
    "pyplot.legend()\n",
    "pyplot.show()"
   ]
  },
  {
   "cell_type": "markdown",
   "id": "3e687709",
   "metadata": {},
   "source": [
    "## Random forest decision tree top 3 classes"
   ]
  },
  {
   "cell_type": "code",
   "execution_count": 45,
   "id": "f4413268",
   "metadata": {},
   "outputs": [
    {
     "data": {
      "text/plain": [
       "(<35132x4000 sparse matrix of type '<class 'numpy.float64'>'\n",
       " \twith 505217 stored elements in Compressed Sparse Row format>,\n",
       " <8783x4000 sparse matrix of type '<class 'numpy.float64'>'\n",
       " \twith 127076 stored elements in Compressed Sparse Row format>,\n",
       " 46258    3\n",
       " 78711    3\n",
       " 89287    2\n",
       " 8910     4\n",
       " 90089    3\n",
       "         ..\n",
       " 43143    2\n",
       " 74484    2\n",
       " 53972    4\n",
       " 8117     2\n",
       " 24361    3\n",
       " Name: label, Length: 35132, dtype: int64,\n",
       " 25983    3\n",
       " 36207    2\n",
       " 18033    4\n",
       " 82708    3\n",
       " 8458     3\n",
       "         ..\n",
       " 234      4\n",
       " 43768    3\n",
       " 51769    3\n",
       " 51986    4\n",
       " 71262    3\n",
       " Name: label, Length: 8783, dtype: int64)"
      ]
     },
     "execution_count": 45,
     "metadata": {},
     "output_type": "execute_result"
    }
   ],
   "source": [
    "\n",
    "data_lrg = pd.concat([X2,X3,X4])\n",
    "x_train,x_test,y_train,y_test = token_process_split(data_lrg)\n",
    "x_train,x_test,y_train,y_test"
   ]
  },
  {
   "cell_type": "code",
   "execution_count": 46,
   "id": "d3cd9e64",
   "metadata": {},
   "outputs": [],
   "source": [
    "rm_clf = RandomForestClassifier(max_depth=10, random_state=42)"
   ]
  },
  {
   "cell_type": "code",
   "execution_count": 47,
   "id": "9f8212d3",
   "metadata": {},
   "outputs": [
    {
     "data": {
      "text/plain": [
       "RandomForestClassifier(max_depth=10, random_state=42)"
      ]
     },
     "execution_count": 47,
     "metadata": {},
     "output_type": "execute_result"
    }
   ],
   "source": [
    "rm_clf.fit(x_train,y_train) "
   ]
  },
  {
   "cell_type": "code",
   "execution_count": 48,
   "id": "16396e3b",
   "metadata": {},
   "outputs": [
    {
     "data": {
      "text/plain": [
       "0.9320277809404531"
      ]
     },
     "execution_count": 48,
     "metadata": {},
     "output_type": "execute_result"
    }
   ],
   "source": [
    "y_pred_rm = rm_clf.predict(x_test)\n",
    "accuracy_score(y_test, y_pred_rm)"
   ]
  },
  {
   "cell_type": "code",
   "execution_count": null,
   "id": "e7d1dc20",
   "metadata": {},
   "outputs": [],
   "source": [
    "from sklearn.model_selection import GridSearchCV\n",
    "from sklearn.experimental import enable_halving_search_cv\n",
    "from sklearn.model_selection import HalvingGridSearchCV\n",
    "\n",
    "\n",
    "param_grid = { \n",
    "    'n_estimators': [100, 200],\n",
    "    'max_features': ['auto', 'sqrt', 'log2'],\n",
    "    'max_depth' : [10,20,50,80],\n",
    "    'criterion' :['gini', 'entropy']\n",
    "}\n",
    "\n",
    "# Create a based model\n",
    "rfc = RandomForestClassifier()\n",
    "\n",
    "# Instantiate the grid search model\n",
    "CV_rfc = GridSearchCV(estimator=rfc, param_grid=param_grid, cv= 3, verbose = 2)\n",
    "\n",
    "# halving_cv = HalvingGridSearchCV(rf, param_grid,random_state=42)\n",
    "\n",
    "CV_rfc.fit(x_train, y_train)"
   ]
  },
  {
   "cell_type": "code",
   "execution_count": 49,
   "id": "fc02a944",
   "metadata": {},
   "outputs": [],
   "source": [
    "rfc1=RandomForestClassifier(random_state=42, max_features='auto', n_estimators= 200, max_depth=80, criterion='gini')"
   ]
  },
  {
   "cell_type": "code",
   "execution_count": 50,
   "id": "8b89a948",
   "metadata": {},
   "outputs": [
    {
     "data": {
      "text/plain": [
       "RandomForestClassifier(max_depth=80, n_estimators=200, random_state=42)"
      ]
     },
     "execution_count": 50,
     "metadata": {},
     "output_type": "execute_result"
    }
   ],
   "source": [
    "rfc1.fit(x_train, y_train)"
   ]
  },
  {
   "cell_type": "code",
   "execution_count": 51,
   "id": "ee8bd188",
   "metadata": {},
   "outputs": [],
   "source": [
    "pred=rfc1.predict(x_test)"
   ]
  },
  {
   "cell_type": "code",
   "execution_count": 52,
   "id": "6d6d335f",
   "metadata": {},
   "outputs": [
    {
     "name": "stdout",
     "output_type": "stream",
     "text": [
      "Accuracy for Random Forest on CV data:  0.9560514630536263\n",
      "              precision    recall  f1-score   support\n",
      "\n",
      "           2       0.96      0.93      0.94      2704\n",
      "           3       0.95      0.97      0.96      3125\n",
      "           4       0.96      0.96      0.96      2954\n",
      "\n",
      "    accuracy                           0.96      8783\n",
      "   macro avg       0.96      0.95      0.96      8783\n",
      "weighted avg       0.96      0.96      0.96      8783\n",
      "\n"
     ]
    }
   ],
   "source": [
    "print(\"Accuracy for Random Forest on CV data: \",accuracy_score(y_test,pred))\n",
    "\n",
    "print(classification_report(y_test, pred))"
   ]
  },
  {
   "cell_type": "code",
   "execution_count": 53,
   "id": "22d90303",
   "metadata": {},
   "outputs": [
    {
     "name": "stdout",
     "output_type": "stream",
     "text": [
      "Accuracy traininh:  0.9941363998633724\n"
     ]
    }
   ],
   "source": [
    "train_pred=rfc1.predict(x_train)\n",
    "print(\"Accuracy traininh: \",accuracy_score(y_train,train_pred))\n"
   ]
  },
  {
   "cell_type": "markdown",
   "id": "542d0a32",
   "metadata": {},
   "source": [
    "## Bracket 1 and 2 - 6 classes¶"
   ]
  },
  {
   "cell_type": "code",
   "execution_count": 63,
   "id": "866635de",
   "metadata": {},
   "outputs": [],
   "source": [
    "data_lrg2 = pd.concat([X3_ds,X4_ds,X2_ds,X8,X5,X10,x8_s,x5_s,x10_s])"
   ]
  },
  {
   "cell_type": "code",
   "execution_count": 64,
   "id": "09356683",
   "metadata": {},
   "outputs": [],
   "source": [
    "x_train2,x_test2,y_train2,y_test2 = token_process_split(data_lrg2)"
   ]
  },
  {
   "cell_type": "code",
   "execution_count": 65,
   "id": "753ca5f0",
   "metadata": {},
   "outputs": [
    {
     "data": {
      "text/plain": [
       "RandomForestClassifier(max_depth=20, random_state=161)"
      ]
     },
     "execution_count": 65,
     "metadata": {},
     "output_type": "execute_result"
    }
   ],
   "source": [
    "rfc_2 = RandomForestClassifier(random_state=161, max_depth=20)\n",
    "rfc_2.fit(x_train2, y_train2)"
   ]
  },
  {
   "cell_type": "code",
   "execution_count": 66,
   "id": "31098795",
   "metadata": {},
   "outputs": [],
   "source": [
    "pred2=rfc_2.predict(x_test2)\n",
    "train_pred2 = rfc_2.predict(x_train2)"
   ]
  },
  {
   "cell_type": "code",
   "execution_count": 67,
   "id": "a33ae6ce",
   "metadata": {},
   "outputs": [
    {
     "name": "stdout",
     "output_type": "stream",
     "text": [
      "Accuracy testing Random Forest:  0.7533522958147094\n",
      "Accuracy training:  0.804742263851921\n",
      "              precision    recall  f1-score   support\n",
      "\n",
      "           2       0.72      0.85      0.78      1941\n",
      "           3       0.73      0.61      0.67      2000\n",
      "           4       0.81      0.80      0.80      1975\n",
      "           5       0.82      0.71      0.76      1890\n",
      "           8       0.69      0.81      0.75      2801\n",
      "          10       0.83      0.71      0.77      1698\n",
      "\n",
      "    accuracy                           0.75     12305\n",
      "   macro avg       0.77      0.75      0.75     12305\n",
      "weighted avg       0.76      0.75      0.75     12305\n",
      "\n"
     ]
    }
   ],
   "source": [
    "print(\"Accuracy testing Random Forest: \",accuracy_score(y_test2,pred2))\n",
    "print(\"Accuracy training: \",accuracy_score(y_train2,train_pred2))\n",
    "print(classification_report(y_test2,pred2))"
   ]
  },
  {
   "cell_type": "code",
   "execution_count": 68,
   "id": "6eebf8ad",
   "metadata": {},
   "outputs": [
    {
     "name": "stdout",
     "output_type": "stream",
     "text": [
      "Fitting 3 folds for each of 8 candidates, totalling 24 fits\n",
      "[CV] END .......................criterion=gini, max_depth=10; total time=   1.3s\n",
      "[CV] END .......................criterion=gini, max_depth=10; total time=   1.2s\n",
      "[CV] END .......................criterion=gini, max_depth=10; total time=   1.2s\n",
      "[CV] END .......................criterion=gini, max_depth=20; total time=   2.5s\n",
      "[CV] END .......................criterion=gini, max_depth=20; total time=   2.7s\n",
      "[CV] END .......................criterion=gini, max_depth=20; total time=   2.6s\n",
      "[CV] END .......................criterion=gini, max_depth=30; total time=   5.4s\n",
      "[CV] END .......................criterion=gini, max_depth=30; total time=   5.1s\n",
      "[CV] END .......................criterion=gini, max_depth=30; total time=   5.3s\n",
      "[CV] END .......................criterion=gini, max_depth=40; total time=   8.2s\n",
      "[CV] END .......................criterion=gini, max_depth=40; total time=   8.2s\n",
      "[CV] END .......................criterion=gini, max_depth=40; total time=   8.7s\n",
      "[CV] END ....................criterion=entropy, max_depth=10; total time=   1.7s\n",
      "[CV] END ....................criterion=entropy, max_depth=10; total time=   1.6s\n",
      "[CV] END ....................criterion=entropy, max_depth=10; total time=   1.7s\n",
      "[CV] END ....................criterion=entropy, max_depth=20; total time=   3.7s\n",
      "[CV] END ....................criterion=entropy, max_depth=20; total time=   3.8s\n",
      "[CV] END ....................criterion=entropy, max_depth=20; total time=   3.7s\n",
      "[CV] END ....................criterion=entropy, max_depth=30; total time=   6.9s\n",
      "[CV] END ....................criterion=entropy, max_depth=30; total time=   7.5s\n",
      "[CV] END ....................criterion=entropy, max_depth=30; total time=   7.4s\n",
      "[CV] END ....................criterion=entropy, max_depth=40; total time=  11.2s\n",
      "[CV] END ....................criterion=entropy, max_depth=40; total time=  10.6s\n",
      "[CV] END ....................criterion=entropy, max_depth=40; total time=  10.6s\n"
     ]
    },
    {
     "data": {
      "text/plain": [
       "GridSearchCV(cv=3, estimator=RandomForestClassifier(),\n",
       "             param_grid={'criterion': ['gini', 'entropy'],\n",
       "                         'max_depth': [10, 20, 30, 40]},\n",
       "             verbose=2)"
      ]
     },
     "execution_count": 68,
     "metadata": {},
     "output_type": "execute_result"
    }
   ],
   "source": [
    "from sklearn.model_selection import GridSearchCV\n",
    "from sklearn.experimental import enable_halving_search_cv\n",
    "from sklearn.model_selection import HalvingGridSearchCV\n",
    "\n",
    "\n",
    "param_grid = { \n",
    "    'max_depth' : [10,20,30,40],\n",
    "    'criterion' :['gini', 'entropy']\n",
    "}\n",
    "\n",
    "# Create a based model\n",
    "rfc = RandomForestClassifier()\n",
    "\n",
    "# Instantiate the grid search model\n",
    "CV_rfc = GridSearchCV(estimator=rfc, param_grid=param_grid, cv= 3, verbose = 2)\n",
    "\n",
    "# halving_cv = HalvingGridSearchCV(rf, param_grid,random_state=42)\n",
    "\n",
    "CV_rfc.fit(x_train2, y_train2)"
   ]
  },
  {
   "cell_type": "code",
   "execution_count": 71,
   "id": "e019db63",
   "metadata": {},
   "outputs": [
    {
     "data": {
      "text/plain": [
       "RandomForestClassifier(max_depth=40, random_state=42)"
      ]
     },
     "execution_count": 71,
     "metadata": {},
     "output_type": "execute_result"
    }
   ],
   "source": [
    "rfc_2cv = RandomForestClassifier(random_state=42,criterion= CV_rfc.best_params_['criterion'], max_depth= CV_rfc.best_params_['max_depth'])\n",
    "rfc_2cv.fit(x_train2, y_train2)\n",
    "\n"
   ]
  },
  {
   "cell_type": "code",
   "execution_count": 72,
   "id": "c58981ab",
   "metadata": {},
   "outputs": [],
   "source": [
    "pred2=rfc_2cv.predict(x_test2)\n",
    "train_pred2 = rfc_2cv.predict(x_train2)"
   ]
  },
  {
   "cell_type": "code",
   "execution_count": 74,
   "id": "69ba06d3",
   "metadata": {},
   "outputs": [
    {
     "name": "stdout",
     "output_type": "stream",
     "text": [
      "Accuracy for Random Forest on CV data:  0.8073953677366924\n",
      "Accuracy training:  0.9147042688501941\n",
      "              precision    recall  f1-score   support\n",
      "\n",
      "           2       0.79      0.85      0.82      1941\n",
      "           3       0.80      0.67      0.73      2000\n",
      "           4       0.85      0.84      0.84      1975\n",
      "           5       0.83      0.81      0.82      1890\n",
      "           8       0.77      0.85      0.81      2801\n",
      "          10       0.83      0.82      0.83      1698\n",
      "\n",
      "    accuracy                           0.81     12305\n",
      "   macro avg       0.81      0.81      0.81     12305\n",
      "weighted avg       0.81      0.81      0.81     12305\n",
      "\n"
     ]
    }
   ],
   "source": [
    "print(\"Accuracy for Random Forest on CV data: \",accuracy_score(y_test2,pred2))\n",
    "print(\"Accuracy training: \",accuracy_score(y_train2,train_pred2))\n",
    "\n",
    "print(classification_report(y_test2,pred2))\n"
   ]
  },
  {
   "cell_type": "code",
   "execution_count": null,
   "id": "02ca5ac3",
   "metadata": {},
   "outputs": [],
   "source": []
  }
 ],
 "metadata": {
  "kernelspec": {
   "display_name": "Python 3 (ipykernel)",
   "language": "python",
   "name": "python3"
  },
  "language_info": {
   "codemirror_mode": {
    "name": "ipython",
    "version": 3
   },
   "file_extension": ".py",
   "mimetype": "text/x-python",
   "name": "python",
   "nbconvert_exporter": "python",
   "pygments_lexer": "ipython3",
   "version": "3.9.15"
  }
 },
 "nbformat": 4,
 "nbformat_minor": 5
}
