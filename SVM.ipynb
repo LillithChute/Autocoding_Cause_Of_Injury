{
 "cells": [
  {
   "cell_type": "code",
   "execution_count": 1,
   "id": "8e7d2455",
   "metadata": {},
   "outputs": [],
   "source": [
    "import numpy as np\n",
    "import pickle\n",
    "import math\n",
    "import pandas as pd\n",
    "from nltk.corpus import stopwords\n",
    "from nltk.stem import PorterStemmer\n",
    "from nltk.tokenize import word_tokenize\n",
    "from nltk.stem import WordNetLemmatizer\n",
    "from sklearn.naive_bayes import MultinomialNB\n",
    "from sklearn.pipeline import Pipeline\n",
    "from sklearn.metrics import classification_report\n",
    "from sklearn.feature_extraction.text import TfidfVectorizer\n",
    "from sklearn.feature_extraction.text import CountVectorizer\n",
    "from sklearn.svm import SVC"
   ]
  },
  {
   "cell_type": "code",
   "execution_count": 2,
   "id": "a48902b9",
   "metadata": {},
   "outputs": [],
   "source": [
    "#################################################################################################\n",
    "#                                                                                               #\n",
    "# Preprocessing functions that can be useful for NLP projects.  I have broken out all of the    #\n",
    "# individual functions so each can be independently tested if we want to.  I have created a     #\n",
    "# normalize function that does the basic combination of proprocessing steps like lowercase,     #\n",
    "# whitespace cleaning, etc.  I then created a Preprocessing function that uses normalize and    #\n",
    "# then removes the stopwords and lemmatizes.                                                    #\n",
    "#################################################################################################\n",
    "\n",
    "# import the necessary libraries\n",
    "import re\n",
    "import string\n",
    "\n",
    "import contractions\n",
    "import inflect\n",
    "from nltk.corpus import stopwords\n",
    "from nltk.tokenize import word_tokenize\n",
    "from nltk.stem import WordNetLemmatizer\n",
    "import nltk\n",
    "import matplotlib.pyplot as plt\n",
    "import seaborn as sns\n",
    "#nltk.download('wordnet')\n",
    "#nltk.download('omw-1.4')\n",
    "\n",
    "\n",
    "# Lowercase the text function\n",
    "def text_lowercase(text):\n",
    "    return text.lower()\n",
    "\n",
    "\n",
    "# Remove numbers\n",
    "def remove_numbers(text):\n",
    "    result = re.sub(r'\\d+', '', text)\n",
    "    return result\n",
    "\n",
    "\n",
    "# convert numbers into words\n",
    "def convert_number(text):\n",
    "    inflect_engine = inflect.engine()\n",
    "\n",
    "    # split string into list of words\n",
    "    temp_str = text.split()\n",
    "    # initialise empty list\n",
    "    new_string = []\n",
    "\n",
    "    for word in temp_str:\n",
    "        # if word is a digit, convert the digit\n",
    "        # to numbers and append into the new_string list\n",
    "        if word.isdigit():\n",
    "            temp = inflect_engine.number_to_words(word)\n",
    "            new_string.append(temp)\n",
    "\n",
    "        # append the word as it is\n",
    "        else:\n",
    "            new_string.append(word)\n",
    "\n",
    "    # join the words of new_string to form a string\n",
    "    temp_str = ' '.join(new_string)\n",
    "    return temp_str\n",
    "\n",
    "\n",
    "# remove punctuation\n",
    "def remove_punctuation(text):\n",
    "    translator = str.maketrans('', '', string.punctuation)\n",
    "    return text.translate(translator)\n",
    "\n",
    "\n",
    "# remove whitespace from text\n",
    "def remove_whitespace(text):\n",
    "    return \" \".join(text.split())\n",
    "\n",
    "\n",
    "# Replace contractions in string of text\n",
    "def replace_contractions(text):\n",
    "    return contractions.fix(text)\n",
    "\n",
    "\n",
    "# Remove URLs from a sample string\n",
    "def remove_URL(sample):\n",
    "    result = sample\n",
    "    if type(sample) != str:\n",
    "        result= str(sample)\n",
    "    return re.sub(r\"http\\S+\", \"\", result)\n",
    "    \n",
    "\n",
    "# remove stopwords function\n",
    "def remove_stopwords(text):\n",
    "    stop_words = set(stopwords.words(\"english\"))\n",
    "    word_tokens = word_tokenize(text)\n",
    "    filtered_text = [word for word in word_tokens if word not in stop_words]\n",
    "    return filtered_text\n",
    "\n",
    "\n",
    "# Check if each character in string is ASCII\n",
    "# The first 128 unicode code points represent the ASCII characters.\n",
    "def remove_non_ascii(text):\n",
    "    return ''.join(char for char in text if ord(char) < 128)\n",
    "\n",
    "\n",
    "# Lemmatize verbs in list of tokenized words\n",
    "def lemmatize_verbs(words):\n",
    "    lemmatizer = WordNetLemmatizer()\n",
    "    lemmas = []\n",
    "\n",
    "    for word in words:\n",
    "        lemma = lemmatizer.lemmatize(word, pos='v')\n",
    "        lemmas.append(lemma)\n",
    "\n",
    "    return lemmas\n",
    "\n",
    "\n",
    "def normalize(words):\n",
    "    words = remove_URL(words)\n",
    "    words = remove_non_ascii(words)\n",
    "    words = text_lowercase(words)\n",
    "    words = remove_punctuation(words)\n",
    "    words = remove_whitespace(words)\n",
    "    words = replace_contractions(words)\n",
    "    words = remove_numbers(words)\n",
    "\n",
    "    return words\n",
    "\n",
    "\n",
    "# Preprocess text\n",
    "def preprocess_text(corpus):\n",
    "    # Normalize all the text\n",
    "    text = normalize(corpus)\n",
    "\n",
    "    # Remove the stop words\n",
    "    text = remove_stopwords(text)\n",
    "    #\n",
    "    # # Lemmatize and tokenize the text\n",
    "    text = lemmatize_verbs(text)\n",
    "\n",
    "    return text"
   ]
  },
  {
   "cell_type": "code",
   "execution_count": 3,
   "id": "4f381df9",
   "metadata": {},
   "outputs": [
    {
     "name": "stdout",
     "output_type": "stream",
     "text": [
      "rdy\n"
     ]
    }
   ],
   "source": [
    "unclean_insurance_data = pd.read_csv(\".\\data\\InjuryCauseTopThirteen.csv\")\n",
    "print(\"rdy\")"
   ]
  },
  {
   "cell_type": "code",
   "execution_count": 4,
   "id": "43378897",
   "metadata": {},
   "outputs": [
    {
     "data": {
      "image/png": "[encoded data removed]",
      "text/plain": [
       "<Figure size 640x480 with 1 Axes>"
      ]
     },
     "metadata": {},
     "output_type": "display_data"
    }
   ],
   "source": [
    "#Bar Chart of the labels\n",
    "plt.figure(figsize = None)\n",
    "chart = sns.countplot(x = 'injuryCauseDesc', data = unclean_insurance_data)\n",
    "plt.title(\"Injury labels with counts\", fontsize = 15)\n",
    "\n",
    "plt.xticks(\n",
    "    rotation=45, \n",
    "    horizontalalignment='right',\n",
    "    fontweight='light',\n",
    "    fontsize='x-large'  \n",
    ")\n",
    "\n",
    "plt.show()"
   ]
  },
  {
   "cell_type": "code",
   "execution_count": 5,
   "id": "29ae50b7",
   "metadata": {},
   "outputs": [
    {
     "data": {
      "text/plain": [
       "Fall to floor, walkway, or other surface           15882\n",
       "Overexertion in lifting                            14716\n",
       "Contact with objects and equipment, unspecified    13317\n",
       "Slip, trip, loss of balance--without fall           8953\n",
       "Bodily reaction and exertion, unspecified           6972\n",
       "Overexertion in pulling or pushing objects          5868\n",
       "Struck by falling object                            5796\n",
       "Bending, climbing, crawling, reaching, twisting     5673\n",
       "Struck against stationary object                    5329\n",
       "Repetitive motion, unspecified                      5257\n",
       "Struck by slipping handheld object                  5102\n",
       "Bodily reaction, n.e.c.                             4509\n",
       "Rubbed or abraded by foreign matter in eye          4037\n",
       "Name: injuryCauseDesc, dtype: int64"
      ]
     },
     "execution_count": 5,
     "metadata": {},
     "output_type": "execute_result"
    }
   ],
   "source": [
    "unclean_insurance_data.injuryCauseDesc.value_counts()"
   ]
  },
  {
   "cell_type": "code",
   "execution_count": 6,
   "id": "4651d70b",
   "metadata": {},
   "outputs": [
    {
     "name": "stdout",
     "output_type": "stream",
     "text": [
      "rdy\n"
     ]
    }
   ],
   "source": [
    "#minimize data to lowest value\n",
    "min_samples = 4037\n",
    "\n",
    "fall  = unclean_insurance_data[unclean_insurance_data['injuryCauseDesc'] =='Fall to floor, walkway, or other surface'].sample(min_samples, random_state = 2022)\n",
    "over_lift = unclean_insurance_data[unclean_insurance_data['injuryCauseDesc'] =='Overexertion in lifting'].sample(min_samples, random_state = 2022)\n",
    "contact  = unclean_insurance_data[unclean_insurance_data['injuryCauseDesc'] =='Contact with objects and equipment, unspecified'].sample(min_samples, random_state = 2022)\n",
    "slip = unclean_insurance_data[unclean_insurance_data['injuryCauseDesc'] =='Slip, trip, loss of balance--without fall'].sample(min_samples, random_state = 2022)\n",
    "bodily = unclean_insurance_data[unclean_insurance_data['injuryCauseDesc'] =='Bodily reaction and exertion, unspecified'].sample(min_samples, random_state = 2022)\n",
    "over_pull = unclean_insurance_data[unclean_insurance_data['injuryCauseDesc'] =='Overexertion in pulling or pushing objects'].sample(min_samples, random_state = 2022)\n",
    "struck_fall = unclean_insurance_data[unclean_insurance_data['injuryCauseDesc'] =='Struck by falling object'].sample(min_samples, random_state = 2022)\n",
    "bending = unclean_insurance_data[unclean_insurance_data['injuryCauseDesc'] =='Bending, climbing, crawling, reaching, twisting'].sample(min_samples, random_state = 2022)\n",
    "struck_against = unclean_insurance_data[unclean_insurance_data['injuryCauseDesc'] =='Struck against stationary object'].sample(min_samples, random_state = 2022)\n",
    "repetitive_motion  = unclean_insurance_data[unclean_insurance_data['injuryCauseDesc'] =='Repetitive motion, unspecified'].sample(min_samples, random_state = 2022)\n",
    "struck_slip  = unclean_insurance_data[unclean_insurance_data['injuryCauseDesc'] =='Struck by slipping handheld object'].sample(min_samples, random_state = 2022)\n",
    "bodily_reaction  = unclean_insurance_data[unclean_insurance_data['injuryCauseDesc'] =='Bodily reaction, n.e.c.'].sample(min_samples, random_state = 2022)\n",
    "rubbed = unclean_insurance_data[unclean_insurance_data['injuryCauseDesc'] =='Rubbed or abraded by foreign matter in eye'].sample(min_samples, random_state = 2022)\n",
    "\n",
    "print('rdy')"
   ]
  },
  {
   "cell_type": "code",
   "execution_count": null,
   "id": "7b0ff43e",
   "metadata": {},
   "outputs": [],
   "source": [
    "#oversampling method\n",
    "oversampled = []\n",
    "df_majority = bodily \n",
    "\n",
    "listie = [fall, over_lift, contact, bodily, over_pull, struck_fall, bending,\n",
    "          struck_against, repetitive_motion, struck_slip, bodily_reaction, rubbed]\n",
    "\n",
    "\n",
    "for category in listie: \n",
    "    \n",
    "    df_minority = category\n",
    "    over_sample = resample(df_minority, replace = True, \n",
    "                        n_samples = df_majority.shape[0],\n",
    "                        random_state = 101)\n",
    "    \n",
    "    oversampled.append(over_sample)"
   ]
  },
  {
   "cell_type": "code",
   "execution_count": 7,
   "id": "64cd0bf6",
   "metadata": {},
   "outputs": [
    {
     "data": {
      "text/plain": [
       "Fall to floor, walkway, or other surface           4037\n",
       "Overexertion in lifting                            4037\n",
       "Contact with objects and equipment, unspecified    4037\n",
       "Slip, trip, loss of balance--without fall          4037\n",
       "Overexertion in pulling or pushing objects         4037\n",
       "Struck by falling object                           4037\n",
       "Bending, climbing, crawling, reaching, twisting    4037\n",
       "Struck against stationary object                   4037\n",
       "Repetitive motion, unspecified                     4037\n",
       "Struck by slipping handheld object                 4037\n",
       "Rubbed or abraded by foreign matter in eye         4037\n",
       "Name: injuryCauseDesc, dtype: int64"
      ]
     },
     "execution_count": 7,
     "metadata": {},
     "output_type": "execute_result"
    }
   ],
   "source": [
    "#combine all the categories\n",
    "balanced_insurance_df = pd.concat([fall, over_lift, contact, slip,  over_pull, \n",
    "                                   struck_fall, bending, struck_against, repetitive_motion,\n",
    "                                   struck_slip, rubbed])\n",
    "balanced_insurance_df.injuryCauseDesc.value_counts()"
   ]
  },
  {
   "cell_type": "code",
   "execution_count": 8,
   "id": "988660de",
   "metadata": {},
   "outputs": [
    {
     "name": "stdout",
     "output_type": "stream",
     "text": [
      "rdy\n"
     ]
    }
   ],
   "source": [
    "#map categories\n",
    "target = {'Fall to floor, walkway, or other surface': 0,\n",
    "          'Overexertion in lifting': 1,\n",
    "          'Contact with objects and equipment, unspecified': 2,\n",
    "          'Slip, trip, loss of balance--without fall': 3,\n",
    "          'Bodily reaction and exertion, unspecified': 4,\n",
    "          'Overexertion in pulling or pushing objects': 5,\n",
    "          'Struck by falling object': 6,\n",
    "          'Bending, climbing, crawling, reaching, twisting': 7,\n",
    "          'Struck against stationary object': 8,\n",
    "          'Repetitive motion, unspecified': 9,\n",
    "          'Struck by slipping handheld object': 10,\n",
    "          'Bodily reaction, n.e.c.': 11,\n",
    "          'Rubbed or abraded by foreign matter in eye': 12,\n",
    "         }\n",
    "          \n",
    "balanced_insurance_df['injuryCauseDesc_num']  = balanced_insurance_df.injuryCauseDesc.map(target)\n",
    "\n",
    "print('rdy')"
   ]
  },
  {
   "cell_type": "code",
   "execution_count": 9,
   "id": "74ae46d0",
   "metadata": {},
   "outputs": [
    {
     "name": "stdout",
     "output_type": "stream",
     "text": [
      "rdy\n"
     ]
    }
   ],
   "source": [
    "#split\n",
    "from sklearn.model_selection import train_test_split \n",
    "\n",
    "X_train, X_test, y_train, y_test = train_test_split(\n",
    "    balanced_insurance_df.InjuryDesc,\n",
    "    balanced_insurance_df.injuryCauseDesc_num,\n",
    "    test_size = 0.2,\n",
    "    random_state = 2022,\n",
    "    #stratify=balanced_insurance_df.injuryCauseDesc_num\n",
    "    )\n",
    "\n",
    "print('rdy')"
   ]
  },
  {
   "cell_type": "code",
   "execution_count": 10,
   "id": "313b783c",
   "metadata": {},
   "outputs": [
    {
     "name": "stdout",
     "output_type": "stream",
     "text": [
      "DATA: TEST + Balanced-Down, MODEL: SVM, VECTORIZER: TF-IDF\n",
      "\n",
      "              precision    recall  f1-score   support\n",
      "\n",
      "           0       0.71      0.77      0.74       777\n",
      "           1       0.76      0.79      0.78       793\n",
      "           2       0.51      0.51      0.51       771\n",
      "           3       0.72      0.67      0.69       817\n",
      "           5       0.73      0.73      0.73       787\n",
      "           6       0.83      0.82      0.82       844\n",
      "           7       0.72      0.70      0.71       811\n",
      "           8       0.74      0.66      0.70       836\n",
      "           9       0.84      0.89      0.86       807\n",
      "          10       0.77      0.83      0.80       815\n",
      "          12       0.95      0.92      0.93       824\n",
      "\n",
      "    accuracy                           0.75      8882\n",
      "   macro avg       0.75      0.75      0.75      8882\n",
      "weighted avg       0.75      0.75      0.75      8882\n",
      "\n"
     ]
    }
   ],
   "source": [
    "#Run first default SVM\n",
    "\n",
    "from sklearn import svm\n",
    "\n",
    "from sklearn.naive_bayes import MultinomialNB\n",
    "from sklearn.pipeline import Pipeline\n",
    "from sklearn.metrics import classification_report\n",
    "from sklearn.feature_extraction.text import TfidfVectorizer\n",
    "from sklearn.feature_extraction.text import CountVectorizer\n",
    "\n",
    "vectorizer = TfidfVectorizer()\n",
    "vectorizer.fit(X_train)\n",
    "\n",
    "cls = SVC()\n",
    "\n",
    "# transform the list of text to tf-idf before passing it to the model\n",
    "cls.fit(vectorizer.transform(X_train), y_train)\n",
    "\n",
    "y_pred = cls.predict(vectorizer.transform(X_test))\n",
    "\n",
    "# Display metrics\n",
    "\n",
    "print(\"DATA: TEST + Balanced-Down, MODEL: SVM, VECTORIZER: TF-IDF\\n\")\n",
    "print(classification_report(y_test, y_pred))"
   ]
  },
  {
   "cell_type": "code",
   "execution_count": 32,
   "id": "ef7a9e5c",
   "metadata": {},
   "outputs": [
    {
     "name": "stdout",
     "output_type": "stream",
     "text": [
      "DATA: Training + Balanced-Down, MODEL: SVM, VECTORIZER: TF-IDF\n",
      "\n",
      "              precision    recall  f1-score   support\n",
      "\n",
      "           0       0.91      0.96      0.94      3260\n",
      "           1       0.94      0.96      0.95      3244\n",
      "           2       0.88      0.81      0.85      3266\n",
      "           3       0.94      0.91      0.92      3220\n",
      "           5       0.95      0.96      0.95      3250\n",
      "           6       0.96      0.97      0.96      3193\n",
      "           7       0.96      0.92      0.94      3226\n",
      "           8       0.95      0.91      0.93      3201\n",
      "           9       0.97      0.98      0.97      3230\n",
      "          10       0.89      0.95      0.92      3222\n",
      "          12       0.98      0.99      0.98      3213\n",
      "\n",
      "    accuracy                           0.94     35525\n",
      "   macro avg       0.94      0.94      0.94     35525\n",
      "weighted avg       0.94      0.94      0.94     35525\n",
      "\n"
     ]
    }
   ],
   "source": [
    "#Test for overfitting\n",
    "\n",
    "\n",
    "from sklearn import svm\n",
    "from sklearn.naive_bayes import MultinomialNB\n",
    "from sklearn.pipeline import Pipeline\n",
    "from sklearn.metrics import classification_report\n",
    "from sklearn.feature_extraction.text import TfidfVectorizer\n",
    "from sklearn.feature_extraction.text import CountVectorizer\n",
    "\n",
    "vectorizer = TfidfVectorizer()\n",
    "vectorizer.fit(X_train)\n",
    "\n",
    "cls = SVC()\n",
    "\n",
    "# transform the list of text to tf-idf before passing it to the model\n",
    "cls.fit(vectorizer.transform(X_train), y_train)\n",
    "\n",
    "y_pred = cls.predict(vectorizer.transform(X_train))\n",
    "\n",
    "# Display metrics\n",
    "\n",
    "print(\"DATA: Training + Balanced-Down, MODEL: SVM, VECTORIZER: TF-IDF\\n\")\n",
    "print(classification_report(y_train, y_pred))"
   ]
  },
  {
   "cell_type": "code",
   "execution_count": 12,
   "id": "f7e2cf9b",
   "metadata": {},
   "outputs": [],
   "source": [
    "#SVM is overfitting with default hyper-parameters\n",
    "# cls = SVC(kernel='linear', C= .1) potential to resolve overfitting"
   ]
  },
  {
   "cell_type": "code",
   "execution_count": 28,
   "id": "63096a9c",
   "metadata": {},
   "outputs": [
    {
     "name": "stdout",
     "output_type": "stream",
     "text": [
      "DATA: Test + Balanced-Down, MODEL: SVM (kernel='linear', C= 0.1), VECTORIZER: TF-IDF + ngram_range =(1,3)\n",
      "\n",
      "              precision    recall  f1-score   support\n",
      "\n",
      "           0       0.74      0.72      0.73       777\n",
      "           1       0.82      0.68      0.75       793\n",
      "           2       0.47      0.56      0.51       771\n",
      "           3       0.70      0.67      0.69       817\n",
      "           5       0.66      0.72      0.69       787\n",
      "           6       0.77      0.84      0.81       844\n",
      "           7       0.63      0.68      0.66       811\n",
      "           8       0.76      0.63      0.69       836\n",
      "           9       0.82      0.87      0.84       807\n",
      "          10       0.79      0.73      0.76       815\n",
      "          12       0.95      0.91      0.93       824\n",
      "\n",
      "    accuracy                           0.73      8882\n",
      "   macro avg       0.74      0.73      0.73      8882\n",
      "weighted avg       0.74      0.73      0.73      8882\n",
      "\n"
     ]
    }
   ],
   "source": [
    "vectorizer = TfidfVectorizer(ngram_range =(1,3))\n",
    "vectorizer.fit(X_train)\n",
    "\n",
    "cls = SVC(kernel='linear', C= .1)\n",
    "\n",
    "# transform the list of text to tf-idf before passing it to the model\n",
    "cls.fit(vectorizer.transform(X_train), y_train)\n",
    "\n",
    "y_pred = cls.predict(vectorizer.transform(X_test))\n",
    "\n",
    "\n",
    "\n",
    "print(\"DATA: Test + Balanced-Down, MODEL: SVM (kernel='linear', C= 0.1), VECTORIZER: TF-IDF + ngram_range =(1,3)\\n\")\n",
    "print(classification_report(y_test, y_pred))"
   ]
  },
  {
   "cell_type": "code",
   "execution_count": 33,
   "id": "5cbd2db6",
   "metadata": {},
   "outputs": [
    {
     "name": "stdout",
     "output_type": "stream",
     "text": [
      "DATA: Test + Balanced-Down, MODEL: SVM (kernel='linear', C= 0.2), VECTORIZER: TF-IDF + ngram_range =(1,3)\n",
      "\n",
      "              precision    recall  f1-score   support\n",
      "\n",
      "           0       0.73      0.77      0.75       777\n",
      "           1       0.80      0.76      0.78       793\n",
      "           2       0.51      0.54      0.53       771\n",
      "           3       0.71      0.68      0.70       817\n",
      "           5       0.70      0.72      0.71       787\n",
      "           6       0.82      0.86      0.84       844\n",
      "           7       0.68      0.67      0.67       811\n",
      "           8       0.78      0.65      0.71       836\n",
      "           9       0.81      0.88      0.84       807\n",
      "          10       0.79      0.80      0.79       815\n",
      "          12       0.95      0.92      0.93       824\n",
      "\n",
      "    accuracy                           0.75      8882\n",
      "   macro avg       0.75      0.75      0.75      8882\n",
      "weighted avg       0.75      0.75      0.75      8882\n",
      "\n"
     ]
    }
   ],
   "source": [
    "vectorizer = TfidfVectorizer(ngram_range =(1,3))\n",
    "vectorizer.fit(X_train)\n",
    "\n",
    "cls = SVC(kernel='linear', C= .2)\n",
    "\n",
    "# transform the list of text to tf-idf before passing it to the model\n",
    "cls.fit(vectorizer.transform(X_train), y_train)\n",
    "\n",
    "y_pred = cls.predict(vectorizer.transform(X_test))\n",
    "\n",
    "\n",
    "\n",
    "print(\"DATA: Test + Balanced-Down, MODEL: SVM (kernel='linear', C= 0.2), VECTORIZER: TF-IDF + ngram_range =(1,3)\\n\")\n",
    "print(classification_report(y_test, y_pred))"
   ]
  },
  {
   "cell_type": "code",
   "execution_count": 30,
   "id": "4b50fdc0",
   "metadata": {},
   "outputs": [
    {
     "name": "stdout",
     "output_type": "stream",
     "text": [
      "DATA: Test + Balanced-Down, MODEL: SVM (kernel='linear', C= 0.2), VECTORIZER: TF-IDF + ngram_range =(1,2)\n",
      "\n",
      "              precision    recall  f1-score   support\n",
      "\n",
      "           0       0.73      0.76      0.75       777\n",
      "           1       0.80      0.77      0.78       793\n",
      "           2       0.50      0.53      0.52       771\n",
      "           3       0.72      0.69      0.70       817\n",
      "           5       0.71      0.73      0.72       787\n",
      "           6       0.84      0.86      0.85       844\n",
      "           7       0.69      0.69      0.69       811\n",
      "           8       0.78      0.66      0.72       836\n",
      "           9       0.81      0.89      0.85       807\n",
      "          10       0.78      0.80      0.79       815\n",
      "          12       0.95      0.92      0.93       824\n",
      "\n",
      "    accuracy                           0.76      8882\n",
      "   macro avg       0.76      0.75      0.75      8882\n",
      "weighted avg       0.76      0.76      0.76      8882\n",
      "\n"
     ]
    }
   ],
   "source": [
    "#Best hyperparameter combination found here\n",
    "\n",
    "\n",
    "\n",
    "\n",
    "vectorizer = TfidfVectorizer(ngram_range =(1,2))\n",
    "vectorizer.fit(X_train)\n",
    "\n",
    "cls = SVC(kernel='linear', C= .2)\n",
    "\n",
    "# transform the list of text to tf-idf before passing it to the model\n",
    "cls.fit(vectorizer.transform(X_train), y_train)\n",
    "\n",
    "y_pred = cls.predict(vectorizer.transform(X_test))\n",
    "\n",
    "\n",
    "\n",
    "print(\"DATA: Test + Balanced-Down, MODEL: SVM (kernel='linear', C= 0.2), VECTORIZER: TF-IDF + ngram_range =(1,2)\\n\")\n",
    "print(classification_report(y_test, y_pred))"
   ]
  },
  {
   "cell_type": "code",
   "execution_count": 31,
   "id": "28a3ffed",
   "metadata": {},
   "outputs": [
    {
     "name": "stdout",
     "output_type": "stream",
     "text": [
      "DATA: TRAIN + Balanced-Down, MODEL: SVM (kernel='linear', C= 0.2), VECTORIZER: TF-IDF + ngram_range =(1,2)\n",
      "\n",
      "              precision    recall  f1-score   support\n",
      "\n",
      "           0       0.82      0.81      0.82      3260\n",
      "           1       0.86      0.83      0.84      3244\n",
      "           2       0.60      0.67      0.63      3266\n",
      "           3       0.77      0.77      0.77      3220\n",
      "           5       0.82      0.84      0.83      3250\n",
      "           6       0.88      0.91      0.89      3193\n",
      "           7       0.77      0.79      0.78      3226\n",
      "           8       0.85      0.72      0.78      3201\n",
      "           9       0.87      0.92      0.89      3230\n",
      "          10       0.83      0.80      0.81      3222\n",
      "          12       0.96      0.94      0.95      3213\n",
      "\n",
      "    accuracy                           0.82     35525\n",
      "   macro avg       0.82      0.82      0.82     35525\n",
      "weighted avg       0.82      0.82      0.82     35525\n",
      "\n"
     ]
    }
   ],
   "source": [
    "#Test to check if model is overfitting. \n",
    "\n",
    "\n",
    "vectorizer = TfidfVectorizer(ngram_range =(1,2))\n",
    "vectorizer.fit(X_train)\n",
    "\n",
    "cls = SVC(kernel='linear', C= .2)\n",
    "\n",
    "# transform the list of text to tf-idf before passing it to the model\n",
    "cls.fit(vectorizer.transform(X_train), y_train)\n",
    "\n",
    "y_pred = cls.predict(vectorizer.transform(X_train))\n",
    "\n",
    "\n",
    "\n",
    "print(\"DATA: TRAIN + Balanced-Down, MODEL: SVM (kernel='linear', C= 0.2), VECTORIZER: TF-IDF + ngram_range =(1,2)\\n\")\n",
    "print(classification_report(y_train, y_pred))"
   ]
  },
  {
   "cell_type": "code",
   "execution_count": null,
   "id": "175345b0",
   "metadata": {},
   "outputs": [],
   "source": []
  },
  {
   "cell_type": "code",
   "execution_count": null,
   "id": "57db9cf0",
   "metadata": {},
   "outputs": [],
   "source": [
    "#Various hyperparameters experiments below. "
   ]
  },
  {
   "cell_type": "code",
   "execution_count": null,
   "id": "56f99b21",
   "metadata": {},
   "outputs": [],
   "source": []
  },
  {
   "cell_type": "code",
   "execution_count": null,
   "id": "724bb8c7",
   "metadata": {},
   "outputs": [],
   "source": [
    "unclean_insurance_data"
   ]
  },
  {
   "cell_type": "code",
   "execution_count": 40,
   "id": "908eae0d",
   "metadata": {},
   "outputs": [
    {
     "name": "stdout",
     "output_type": "stream",
     "text": [
      "rdy\n"
     ]
    }
   ],
   "source": [
    "target = {'Fall to floor, walkway, or other surface': 0,\n",
    "          'Overexertion in lifting': 1,\n",
    "          'Contact with objects and equipment, unspecified': 2,\n",
    "          'Slip, trip, loss of balance--without fall': 3,\n",
    "          'Bodily reaction and exertion, unspecified': 4,\n",
    "          'Overexertion in pulling or pushing objects': 5,\n",
    "          'Struck by falling object': 6,\n",
    "          'Bending, climbing, crawling, reaching, twisting': 7,\n",
    "          'Struck against stationary object': 8,\n",
    "          'Repetitive motion, unspecified': 9,\n",
    "          'Struck by slipping handheld object': 10,\n",
    "          'Bodily reaction, n.e.c.': 11,\n",
    "          'Rubbed or abraded by foreign matter in eye': 12,\n",
    "         }\n",
    "          \n",
    "unclean_insurance_data['injuryCauseDesc_num']  = unclean_insurance_data.injuryCauseDesc.map(target)\n",
    "\n",
    "print('rdy')"
   ]
  },
  {
   "cell_type": "code",
   "execution_count": 41,
   "id": "276727d4",
   "metadata": {},
   "outputs": [
    {
     "name": "stdout",
     "output_type": "stream",
     "text": [
      "rdy\n"
     ]
    }
   ],
   "source": [
    "from sklearn.model_selection import train_test_split \n",
    "\n",
    "X_train, X_test, y_train, y_test = train_test_split(\n",
    "    unclean_insurance_data.InjuryDesc,\n",
    "    unclean_insurance_data.injuryCauseDesc_num,\n",
    "    test_size = 0.2,\n",
    "    random_state = 2022,\n",
    "    #stratify=balanced_insurance_df.injuryCauseDesc_num\n",
    "    )\n",
    "\n",
    "print('rdy')"
   ]
  },
  {
   "cell_type": "code",
   "execution_count": 42,
   "id": "cfb9c9df",
   "metadata": {},
   "outputs": [
    {
     "name": "stdout",
     "output_type": "stream",
     "text": [
      "DATA: Test + Balanced-Down, MODEL: SVM (kernel='linear', C= 0.2), VECTORIZER: TF-IDF + ngram_range =(1,2)\n",
      "\n",
      "              precision    recall  f1-score   support\n",
      "\n",
      "           0       0.79      0.90      0.84      3132\n",
      "           1       0.67      0.89      0.76      2962\n",
      "           2       0.59      0.75      0.66      2714\n",
      "           3       0.68      0.60      0.64      1776\n",
      "           4       0.35      0.34      0.34      1433\n",
      "           5       0.75      0.53      0.62      1173\n",
      "           6       0.84      0.77      0.80      1137\n",
      "           7       0.64      0.45      0.53      1145\n",
      "           8       0.73      0.48      0.58      1083\n",
      "           9       0.68      0.75      0.71      1043\n",
      "          10       0.68      0.54      0.60      1003\n",
      "          11       0.62      0.13      0.21       906\n",
      "          12       0.86      0.93      0.90       776\n",
      "\n",
      "    accuracy                           0.68     20283\n",
      "   macro avg       0.68      0.62      0.63     20283\n",
      "weighted avg       0.68      0.68      0.66     20283\n",
      "\n"
     ]
    }
   ],
   "source": [
    "vectorizer = TfidfVectorizer(ngram_range =(1,2))\n",
    "vectorizer.fit(X_train)\n",
    "\n",
    "cls = SVC(kernel='linear', C= .2)\n",
    "\n",
    "# transform the list of text to tf-idf before passing it to the model\n",
    "cls.fit(vectorizer.transform(X_train), y_train)\n",
    "\n",
    "y_pred = cls.predict(vectorizer.transform(X_test))\n",
    "\n",
    "\n",
    "\n",
    "print(\"DATA: Test + Balanced-Down, MODEL: SVM (kernel='linear', C= 0.2), VECTORIZER: TF-IDF + ngram_range =(1,2)\\n\")\n",
    "print(classification_report(y_test, y_pred))"
   ]
  },
  {
   "cell_type": "code",
   "execution_count": null,
   "id": "cbfa6f25",
   "metadata": {},
   "outputs": [],
   "source": []
  },
  {
   "cell_type": "code",
   "execution_count": null,
   "id": "f28d8450",
   "metadata": {},
   "outputs": [],
   "source": []
  },
  {
   "cell_type": "code",
   "execution_count": null,
   "id": "de3d1e8d",
   "metadata": {},
   "outputs": [],
   "source": [
    "## experiments below"
   ]
  },
  {
   "cell_type": "code",
   "execution_count": 15,
   "id": "bb2b940c",
   "metadata": {},
   "outputs": [
    {
     "name": "stdout",
     "output_type": "stream",
     "text": [
      "DATA: TEST + Balanced-Down, MODEL: SVM (kernel='linear', C= 500.0), VECTORIZER: TF-IDF\n",
      "\n",
      "              precision    recall  f1-score   support\n",
      "\n",
      "           0       0.59      0.66      0.62       777\n",
      "           1       0.63      0.70      0.66       793\n",
      "           2       0.34      0.45      0.39       771\n",
      "           3       0.58      0.55      0.56       817\n",
      "           5       0.63      0.62      0.62       787\n",
      "           6       0.79      0.73      0.76       844\n",
      "           7       0.59      0.56      0.57       811\n",
      "           8       0.64      0.54      0.58       836\n",
      "           9       0.81      0.82      0.82       807\n",
      "          10       0.70      0.61      0.65       815\n",
      "          12       0.94      0.86      0.90       824\n",
      "\n",
      "    accuracy                           0.65      8882\n",
      "   macro avg       0.66      0.65      0.65      8882\n",
      "weighted avg       0.66      0.65      0.65      8882\n",
      "\n"
     ]
    }
   ],
   "source": [
    "vectorizer = TfidfVectorizer()\n",
    "vectorizer.fit(X_train)\n",
    "\n",
    "cls = SVC(kernel='linear', C= 500.0)\n",
    "\n",
    "# transform the list of text to tf-idf before passing it to the model\n",
    "cls.fit(vectorizer.transform(X_train), y_train)\n",
    "\n",
    "y_pred = cls.predict(vectorizer.transform(X_test))\n",
    "\n",
    "\n",
    "\n",
    "print(\"DATA: TEST + Balanced-Down, MODEL: SVM (kernel='linear', C= 500.0), VECTORIZER: TF-IDF\\n\")\n",
    "print(classification_report(y_test, y_pred))\n"
   ]
  },
  {
   "cell_type": "code",
   "execution_count": 16,
   "id": "b3733e1a",
   "metadata": {},
   "outputs": [
    {
     "name": "stdout",
     "output_type": "stream",
     "text": [
      "DATA: Training + Balanced-Down, MODEL: SVM (kernel='linear', C= 500.0), VECTORIZER: TF-IDF\n",
      "\n",
      "              precision    recall  f1-score   support\n",
      "\n",
      "           0       0.97      0.98      0.97      3260\n",
      "           1       0.99      1.00      1.00      3244\n",
      "           2       0.97      0.94      0.96      3266\n",
      "           3       0.97      0.96      0.97      3220\n",
      "           5       1.00      1.00      1.00      3250\n",
      "           6       1.00      1.00      1.00      3193\n",
      "           7       1.00      0.99      1.00      3226\n",
      "           8       0.99      0.99      0.99      3201\n",
      "           9       0.99      1.00      1.00      3230\n",
      "          10       0.95      0.98      0.96      3222\n",
      "          12       1.00      1.00      1.00      3213\n",
      "\n",
      "    accuracy                           0.99     35525\n",
      "   macro avg       0.99      0.99      0.99     35525\n",
      "weighted avg       0.99      0.99      0.99     35525\n",
      "\n"
     ]
    }
   ],
   "source": [
    "vectorizer = TfidfVectorizer()\n",
    "vectorizer.fit(X_train)\n",
    "\n",
    "cls = SVC(kernel='linear', C= 500.0)\n",
    "\n",
    "# transform the list of text to tf-idf before passing it to the model\n",
    "cls.fit(vectorizer.transform(X_train), y_train)\n",
    "\n",
    "y_pred = cls.predict(vectorizer.transform(X_train))\n",
    "\n",
    "\n",
    "\n",
    "print(\"DATA: Training + Balanced-Down, MODEL: SVM (kernel='linear', C= 500.0), VECTORIZER: TF-IDF\\n\")\n",
    "print(classification_report(y_train, y_pred))"
   ]
  },
  {
   "cell_type": "code",
   "execution_count": 17,
   "id": "d7dd84f6",
   "metadata": {},
   "outputs": [
    {
     "name": "stdout",
     "output_type": "stream",
     "text": [
      "DATA: TEST + Balanced-Down, MODEL: SVM (kernel='linear', C= 50.0), VECTORIZER: TF-IDF\n",
      "\n",
      "              precision    recall  f1-score   support\n",
      "\n",
      "           0       0.64      0.69      0.66       777\n",
      "           1       0.65      0.73      0.69       793\n",
      "           2       0.37      0.45      0.41       771\n",
      "           3       0.62      0.60      0.61       817\n",
      "           5       0.65      0.63      0.64       787\n",
      "           6       0.80      0.75      0.77       844\n",
      "           7       0.65      0.61      0.63       811\n",
      "           8       0.68      0.58      0.63       836\n",
      "           9       0.82      0.85      0.83       807\n",
      "          10       0.72      0.68      0.70       815\n",
      "          12       0.94      0.89      0.91       824\n",
      "\n",
      "    accuracy                           0.68      8882\n",
      "   macro avg       0.68      0.68      0.68      8882\n",
      "weighted avg       0.69      0.68      0.68      8882\n",
      "\n"
     ]
    }
   ],
   "source": [
    "vectorizer = TfidfVectorizer()\n",
    "vectorizer.fit(X_train)\n",
    "\n",
    "cls = SVC(kernel='linear', C= 50.0)\n",
    "\n",
    "# transform the list of text to tf-idf before passing it to the model\n",
    "cls.fit(vectorizer.transform(X_train), y_train)\n",
    "\n",
    "y_pred = cls.predict(vectorizer.transform(X_test))\n",
    "\n",
    "\n",
    "\n",
    "print(\"DATA: TEST + Balanced-Down, MODEL: SVM (kernel='linear', C= 50.0), VECTORIZER: TF-IDF\\n\")\n",
    "print(classification_report(y_test, y_pred))"
   ]
  },
  {
   "cell_type": "code",
   "execution_count": 18,
   "id": "4a7a8f60",
   "metadata": {},
   "outputs": [
    {
     "name": "stdout",
     "output_type": "stream",
     "text": [
      "DATA: TRAIN + Balanced-Down, MODEL: SVM (kernel='linear', C= 50.0), VECTORIZER: TF-IDF\n",
      "\n",
      "              precision    recall  f1-score   support\n",
      "\n",
      "           0       0.96      0.97      0.96      3260\n",
      "           1       0.98      0.99      0.98      3244\n",
      "           2       0.95      0.91      0.93      3266\n",
      "           3       0.96      0.95      0.96      3220\n",
      "           5       0.99      0.99      0.99      3250\n",
      "           6       1.00      1.00      1.00      3193\n",
      "           7       0.99      0.98      0.98      3226\n",
      "           8       0.98      0.97      0.98      3201\n",
      "           9       0.99      1.00      0.99      3230\n",
      "          10       0.93      0.97      0.95      3222\n",
      "          12       1.00      1.00      1.00      3213\n",
      "\n",
      "    accuracy                           0.97     35525\n",
      "   macro avg       0.97      0.97      0.97     35525\n",
      "weighted avg       0.97      0.97      0.97     35525\n",
      "\n"
     ]
    }
   ],
   "source": [
    "vectorizer = TfidfVectorizer()\n",
    "vectorizer.fit(X_train)\n",
    "\n",
    "cls = SVC(kernel='linear', C= 50.0)\n",
    "\n",
    "# transform the list of text to tf-idf before passing it to the model\n",
    "cls.fit(vectorizer.transform(X_train), y_train)\n",
    "\n",
    "y_pred = cls.predict(vectorizer.transform(X_train))\n",
    "\n",
    "\n",
    "\n",
    "print(\"DATA: TRAIN + Balanced-Down, MODEL: SVM (kernel='linear', C= 50.0), VECTORIZER: TF-IDF\\n\")\n",
    "print(classification_report(y_train, y_pred))"
   ]
  },
  {
   "cell_type": "code",
   "execution_count": 34,
   "id": "8081f544",
   "metadata": {},
   "outputs": [
    {
     "name": "stdout",
     "output_type": "stream",
     "text": [
      "DATA: TRAIN + Balanced-Down, MODEL: SVM (kernel='linear', C= 1.0), VECTORIZER: TF-IDF\n",
      "\n",
      "              precision    recall  f1-score   support\n",
      "\n",
      "           0       0.84      0.88      0.86      3260\n",
      "           1       0.86      0.90      0.88      3244\n",
      "           2       0.73      0.68      0.70      3266\n",
      "           3       0.83      0.81      0.82      3220\n",
      "           5       0.87      0.88      0.88      3250\n",
      "           6       0.89      0.93      0.91      3193\n",
      "           7       0.87      0.81      0.84      3226\n",
      "           8       0.87      0.81      0.83      3201\n",
      "           9       0.92      0.94      0.93      3230\n",
      "          10       0.83      0.89      0.86      3222\n",
      "          12       0.96      0.97      0.97      3213\n",
      "\n",
      "    accuracy                           0.86     35525\n",
      "   macro avg       0.86      0.86      0.86     35525\n",
      "weighted avg       0.86      0.86      0.86     35525\n",
      "\n"
     ]
    }
   ],
   "source": [
    "vectorizer = TfidfVectorizer()\n",
    "vectorizer.fit(X_train)\n",
    "\n",
    "cls = SVC(kernel='linear', C= 1.0)\n",
    "\n",
    "# transform the list of text to tf-idf before passing it to the model\n",
    "cls.fit(vectorizer.transform(X_train), y_train)\n",
    "\n",
    "y_pred = cls.predict(vectorizer.transform(X_train))\n",
    "\n",
    "\n",
    "\n",
    "print(\"DATA: TRAIN + Balanced-Down, MODEL: SVM (kernel='linear', C= 1.0), VECTORIZER: TF-IDF\\n\")\n",
    "print(classification_report(y_train, y_pred))"
   ]
  },
  {
   "cell_type": "code",
   "execution_count": 35,
   "id": "1b0314a9",
   "metadata": {},
   "outputs": [
    {
     "name": "stdout",
     "output_type": "stream",
     "text": [
      "DATA: Test + Balanced-Down, MODEL: SVM (kernel='linear', C= 0.1), VECTORIZER: TF-IDF\n",
      "\n",
      "              precision    recall  f1-score   support\n",
      "\n",
      "           0       0.73      0.72      0.72       777\n",
      "           1       0.80      0.75      0.78       793\n",
      "           2       0.48      0.54      0.51       771\n",
      "           3       0.70      0.67      0.69       817\n",
      "           5       0.72      0.73      0.73       787\n",
      "           6       0.80      0.80      0.80       844\n",
      "           7       0.68      0.71      0.69       811\n",
      "           8       0.72      0.63      0.67       836\n",
      "           9       0.81      0.89      0.85       807\n",
      "          10       0.77      0.78      0.78       815\n",
      "          12       0.95      0.92      0.93       824\n",
      "\n",
      "    accuracy                           0.74      8882\n",
      "   macro avg       0.74      0.74      0.74      8882\n",
      "weighted avg       0.74      0.74      0.74      8882\n",
      "\n"
     ]
    }
   ],
   "source": [
    "vectorizer = TfidfVectorizer()\n",
    "vectorizer.fit(X_train)\n",
    "\n",
    "cls = SVC(kernel='linear', C= .1)\n",
    "\n",
    "# transform the list of text to tf-idf before passing it to the model\n",
    "cls.fit(vectorizer.transform(X_train), y_train)\n",
    "\n",
    "y_pred = cls.predict(vectorizer.transform(X_test))\n",
    "\n",
    "\n",
    "\n",
    "print(\"DATA: Test + Balanced-Down, MODEL: SVM (kernel='linear', C= 0.1), VECTORIZER: TF-IDF\\n\")\n",
    "print(classification_report(y_test, y_pred))"
   ]
  },
  {
   "cell_type": "code",
   "execution_count": 36,
   "id": "623abcb2",
   "metadata": {},
   "outputs": [
    {
     "name": "stdout",
     "output_type": "stream",
     "text": [
      "DATA: Test + Balanced-Down, MODEL: SVM (kernel='linear', C= 0.1), VECTORIZER: TF-IDF + ngram_range =(1,2) \n",
      "\n",
      "              precision    recall  f1-score   support\n",
      "\n",
      "           0       0.74      0.72      0.73       777\n",
      "           1       0.82      0.73      0.78       793\n",
      "           2       0.48      0.56      0.52       771\n",
      "           3       0.70      0.68      0.69       817\n",
      "           5       0.69      0.73      0.71       787\n",
      "           6       0.81      0.84      0.83       844\n",
      "           7       0.65      0.69      0.67       811\n",
      "           8       0.76      0.64      0.70       836\n",
      "           9       0.81      0.88      0.84       807\n",
      "          10       0.79      0.75      0.77       815\n",
      "          12       0.95      0.91      0.93       824\n",
      "\n",
      "    accuracy                           0.74      8882\n",
      "   macro avg       0.75      0.74      0.74      8882\n",
      "weighted avg       0.75      0.74      0.74      8882\n",
      "\n"
     ]
    }
   ],
   "source": [
    "vectorizer = TfidfVectorizer(ngram_range =(1,2))\n",
    "vectorizer.fit(X_train)\n",
    "\n",
    "cls = SVC(kernel='linear', C= .1)\n",
    "\n",
    "# transform the list of text to tf-idf before passing it to the model\n",
    "cls.fit(vectorizer.transform(X_train), y_train)\n",
    "\n",
    "y_pred = cls.predict(vectorizer.transform(X_test))\n",
    "\n",
    "\n",
    "\n",
    "print(\"DATA: Test + Balanced-Down, MODEL: SVM (kernel='linear', C= 0.1), VECTORIZER: TF-IDF + ngram_range =(1,2) \\n\")\n",
    "print(classification_report(y_test, y_pred))"
   ]
  },
  {
   "cell_type": "code",
   "execution_count": 37,
   "id": "9c3cf2a9",
   "metadata": {},
   "outputs": [
    {
     "name": "stdout",
     "output_type": "stream",
     "text": [
      "DATA: Test + Balanced-Down, MODEL: SVM (kernel='rbf', C= 0.1), VECTORIZER: TF-IDF + ngram_range =(1,2)\n",
      "\n",
      "              precision    recall  f1-score   support\n",
      "\n",
      "           0       0.76      0.65      0.70       777\n",
      "           1       0.86      0.58      0.69       793\n",
      "           2       0.41      0.62      0.50       771\n",
      "           3       0.70      0.64      0.67       817\n",
      "           5       0.54      0.78      0.64       787\n",
      "           6       0.72      0.84      0.78       844\n",
      "           7       0.65      0.65      0.65       811\n",
      "           8       0.71      0.61      0.66       836\n",
      "           9       0.84      0.83      0.84       807\n",
      "          10       0.82      0.59      0.69       815\n",
      "          12       0.96      0.88      0.92       824\n",
      "\n",
      "    accuracy                           0.70      8882\n",
      "   macro avg       0.73      0.70      0.70      8882\n",
      "weighted avg       0.73      0.70      0.70      8882\n",
      "\n"
     ]
    }
   ],
   "source": [
    "vectorizer = TfidfVectorizer(ngram_range =(1,2))\n",
    "vectorizer.fit(X_train)\n",
    "\n",
    "cls = SVC(kernel='rbf', C= .1)\n",
    "\n",
    "# transform the list of text to tf-idf before passing it to the model\n",
    "cls.fit(vectorizer.transform(X_train), y_train)\n",
    "\n",
    "y_pred = cls.predict(vectorizer.transform(X_test))\n",
    "\n",
    "\n",
    "\n",
    "print(\"DATA: Test + Balanced-Down, MODEL: SVM (kernel='rbf', C= 0.1), VECTORIZER: TF-IDF + ngram_range =(1,2)\\n\")\n",
    "print(classification_report(y_test, y_pred))"
   ]
  },
  {
   "cell_type": "code",
   "execution_count": 27,
   "id": "bf5e85cd",
   "metadata": {},
   "outputs": [
    {
     "name": "stdout",
     "output_type": "stream",
     "text": [
      "DATA: Test + Balanced-Down, MODEL: SVM (kernel='poly', C= 0.1), VECTORIZER: TF-IDF + ngram(1,2)\n",
      "\n",
      "              precision    recall  f1-score   support\n",
      "\n",
      "           0       0.75      0.05      0.09       777\n",
      "           1       1.00      0.01      0.01       793\n",
      "           2       0.09      0.99      0.16       771\n",
      "           3       0.00      0.00      0.00       817\n",
      "           5       0.00      0.00      0.00       787\n",
      "           6       0.00      0.00      0.00       844\n",
      "           7       1.00      0.00      0.00       811\n",
      "           8       0.00      0.00      0.00       836\n",
      "           9       0.87      0.03      0.06       807\n",
      "          10       0.93      0.05      0.09       815\n",
      "          12       1.00      0.02      0.05       824\n",
      "\n",
      "    accuracy                           0.10      8882\n",
      "   macro avg       0.51      0.10      0.04      8882\n",
      "weighted avg       0.51      0.10      0.04      8882\n",
      "\n"
     ]
    },
    {
     "name": "stderr",
     "output_type": "stream",
     "text": [
      "c:\\users\\vmshk\\appdata\\local\\programs\\python\\python39\\lib\\site-packages\\sklearn\\metrics\\_classification.py:1334: UndefinedMetricWarning: Precision and F-score are ill-defined and being set to 0.0 in labels with no predicted samples. Use `zero_division` parameter to control this behavior.\n",
      "  _warn_prf(average, modifier, msg_start, len(result))\n",
      "c:\\users\\vmshk\\appdata\\local\\programs\\python\\python39\\lib\\site-packages\\sklearn\\metrics\\_classification.py:1334: UndefinedMetricWarning: Precision and F-score are ill-defined and being set to 0.0 in labels with no predicted samples. Use `zero_division` parameter to control this behavior.\n",
      "  _warn_prf(average, modifier, msg_start, len(result))\n",
      "c:\\users\\vmshk\\appdata\\local\\programs\\python\\python39\\lib\\site-packages\\sklearn\\metrics\\_classification.py:1334: UndefinedMetricWarning: Precision and F-score are ill-defined and being set to 0.0 in labels with no predicted samples. Use `zero_division` parameter to control this behavior.\n",
      "  _warn_prf(average, modifier, msg_start, len(result))\n"
     ]
    }
   ],
   "source": [
    "vectorizer = TfidfVectorizer(ngram_range =(1,2))\n",
    "vectorizer.fit(X_train)\n",
    "\n",
    "cls = SVC(kernel='poly', C= .1)\n",
    "\n",
    "# transform the list of text to tf-idf before passing it to the model\n",
    "cls.fit(vectorizer.transform(X_train), y_train)\n",
    "\n",
    "y_pred = cls.predict(vectorizer.transform(X_test))\n",
    "\n",
    "\n",
    "\n",
    "print(\"DATA: Test + Balanced-Down, MODEL: SVM (kernel='poly', C= 0.1), VECTORIZER: TF-IDF + ngram(1,2)\\n\")\n",
    "print(classification_report(y_test, y_pred))"
   ]
  },
  {
   "cell_type": "code",
   "execution_count": 38,
   "id": "07d05fc0",
   "metadata": {},
   "outputs": [
    {
     "name": "stdout",
     "output_type": "stream",
     "text": [
      "DATA: Train + Balanced-Down, MODEL: SVM (kernel='linear', C= .1, VECTORIZER: TF-IDF + ngram_range =(1,2)\n",
      "\n",
      "              precision    recall  f1-score   support\n",
      "\n",
      "           0       0.81      0.73      0.77      3260\n",
      "           1       0.85      0.75      0.80      3244\n",
      "           2       0.52      0.66      0.58      3266\n",
      "           3       0.72      0.74      0.73      3220\n",
      "           5       0.76      0.81      0.78      3250\n",
      "           6       0.84      0.87      0.86      3193\n",
      "           7       0.70      0.76      0.73      3226\n",
      "           8       0.81      0.67      0.73      3201\n",
      "           9       0.85      0.89      0.87      3230\n",
      "          10       0.82      0.72      0.77      3222\n",
      "          12       0.95      0.92      0.94      3213\n",
      "\n",
      "    accuracy                           0.78     35525\n",
      "   macro avg       0.79      0.78      0.78     35525\n",
      "weighted avg       0.79      0.78      0.78     35525\n",
      "\n"
     ]
    }
   ],
   "source": [
    "vectorizer = TfidfVectorizer(ngram_range =(1,2))\n",
    "vectorizer.fit(X_train)\n",
    "\n",
    "cls = SVC(kernel='linear', C= .1)\n",
    "\n",
    "# transform the list of text to tf-idf before passing it to the model\n",
    "cls.fit(vectorizer.transform(X_train), y_train)\n",
    "\n",
    "y_pred = cls.predict(vectorizer.transform(X_train))\n",
    "\n",
    "\n",
    "\n",
    "print(\"DATA: Train + Balanced-Down, MODEL: SVM (kernel='linear', C= .1, VECTORIZER: TF-IDF + ngram_range =(1,2)\\n\")\n",
    "print(classification_report(y_train, y_pred))"
   ]
  },
  {
   "cell_type": "code",
   "execution_count": 39,
   "id": "a5bb4ae4",
   "metadata": {},
   "outputs": [
    {
     "name": "stdout",
     "output_type": "stream",
     "text": [
      "DATA: TRAIN + Balanced-Down, MODEL: SVM (kernel='linear', C= 50.0), VECTORIZER: TF-IDF\n",
      "\n",
      "              precision    recall  f1-score   support\n",
      "\n",
      "           0       0.78      0.74      0.76      3260\n",
      "           1       0.81      0.77      0.79      3244\n",
      "           2       0.53      0.59      0.56      3266\n",
      "           3       0.72      0.73      0.72      3220\n",
      "           5       0.76      0.77      0.77      3250\n",
      "           6       0.81      0.83      0.82      3193\n",
      "           7       0.71      0.73      0.72      3226\n",
      "           8       0.76      0.67      0.71      3201\n",
      "           9       0.84      0.89      0.87      3230\n",
      "          10       0.79      0.77      0.78      3222\n",
      "          12       0.95      0.93      0.94      3213\n",
      "\n",
      "    accuracy                           0.76     35525\n",
      "   macro avg       0.77      0.77      0.77     35525\n",
      "weighted avg       0.77      0.76      0.77     35525\n",
      "\n"
     ]
    }
   ],
   "source": [
    "vectorizer = TfidfVectorizer()\n",
    "vectorizer.fit(X_train)\n",
    "\n",
    "cls = SVC(kernel='linear', C= .1)\n",
    "\n",
    "# transform the list of text to tf-idf before passing it to the model\n",
    "cls.fit(vectorizer.transform(X_train), y_train)\n",
    "\n",
    "y_pred = cls.predict(vectorizer.transform(X_train))\n",
    "\n",
    "\n",
    "\n",
    "print(\"DATA: TRAIN + Balanced-Down, MODEL: SVM (kernel='linear', C= 50.0), VECTORIZER: TF-IDF\\n\")\n",
    "print(classification_report(y_train, y_pred))"
   ]
  },
  {
   "cell_type": "code",
   "execution_count": null,
   "id": "45ccca6e",
   "metadata": {},
   "outputs": [],
   "source": [
    "from sklearn import svm\n",
    "\n",
    "from sklearn.naive_bayes import MultinomialNB\n",
    "from sklearn.pipeline import Pipeline\n",
    "from sklearn.metrics import classification_report\n",
    "from sklearn.feature_extraction.text import TfidfVectorizer\n",
    "from sklearn.feature_extraction.text import CountVectorizer\n",
    "\n",
    "clf = Pipeline([\n",
    "        ('vectorizer_tf', TfidfVectorizer()),\n",
    "        ('svm', svm.SVC(kernel='rbf', C= 500.0))\n",
    "])\n",
    "\n",
    "clf.fit(X_train, y_train)\n",
    "    \n",
    "\n",
    "y_pred = clf.predict(X_train)\n",
    "\n",
    "print(\"DATA: CLEAN + Balanced-Down, MODEL: SVM, VECTORIZER: TF-IDF\\n\")\n",
    "print(classification_report(y_train, y_pred))\n",
    "print('rdy')"
   ]
  },
  {
   "cell_type": "code",
   "execution_count": 40,
   "id": "7e00d02d",
   "metadata": {},
   "outputs": [],
   "source": [
    "X_train, X_test, y_train, y_test = train_test_split(unbalanced_insurance_df['InjuryDesc'],\n",
    "                                                    unbalanced_insurance_df['injuryCauseDesc_num'],\n",
    "                                                    random_state=0)"
   ]
  },
  {
   "cell_type": "code",
   "execution_count": 41,
   "id": "eee1ff64",
   "metadata": {},
   "outputs": [
    {
     "name": "stdout",
     "output_type": "stream",
     "text": [
      "              precision    recall  f1-score   support\n",
      "\n",
      "           0       0.97      0.98      0.97      3989\n",
      "           1       0.97      0.98      0.97      3684\n",
      "           2       0.96      0.94      0.95      3306\n",
      "\n",
      "    accuracy                           0.97     10979\n",
      "   macro avg       0.97      0.97      0.97     10979\n",
      "weighted avg       0.97      0.97      0.97     10979\n",
      "\n"
     ]
    }
   ],
   "source": [
    "\n",
    "\n",
    "\n",
    "vectorizer = TfidfVectorizer()\n",
    "vectorizer.fit(X_train)\n",
    "\n",
    "cls = SVC()\n",
    "\n",
    "# transform the list of text to tf-idf before passing it to the model\n",
    "cls.fit(vectorizer.transform(X_train), y_train)\n",
    "\n",
    "y_pred = cls.predict(vectorizer.transform(X_test))\n",
    "\n",
    "# Display metrics\n",
    "\n",
    "print(classification_report(y_test, y_pred))"
   ]
  },
  {
   "cell_type": "code",
   "execution_count": 38,
   "id": "c31d9bdf",
   "metadata": {},
   "outputs": [
    {
     "name": "stdout",
     "output_type": "stream",
     "text": [
      "              precision    recall  f1-score   support\n",
      "\n",
      "           0       0.91      0.98      0.95     11924\n",
      "           1       0.93      0.98      0.95     11116\n",
      "           2       0.87      0.90      0.88      9999\n",
      "           3       0.94      0.84      0.89      6657\n",
      "           5       0.95      0.90      0.92      4371\n",
      "           6       0.95      0.95      0.95      4287\n",
      "           7       0.95      0.86      0.91      4234\n",
      "           8       0.93      0.81      0.87      4008\n",
      "           9       0.96      0.97      0.96      3978\n",
      "          10       0.88      0.85      0.86      3812\n",
      "          12       0.95      0.97      0.96      3061\n",
      "\n",
      "    accuracy                           0.92     67447\n",
      "   macro avg       0.93      0.91      0.92     67447\n",
      "weighted avg       0.92      0.92      0.92     67447\n",
      "\n"
     ]
    }
   ],
   "source": [
    "vectorizer = TfidfVectorizer()\n",
    "vectorizer.fit(X_train)\n",
    "\n",
    "cls = SVC()\n",
    "\n",
    "# transform the list of text to tf-idf before passing it to the model\n",
    "cls.fit(vectorizer.transform(X_train), y_train)\n",
    "\n",
    "y_pred = cls.predict(vectorizer.transform(X_train))\n",
    "\n",
    "# Display metrics\n",
    "\n",
    "print(classification_report(y_train, y_pred))"
   ]
  },
  {
   "cell_type": "code",
   "execution_count": 17,
   "id": "c19d181d",
   "metadata": {},
   "outputs": [
    {
     "name": "stdout",
     "output_type": "stream",
     "text": [
      "rdy\n"
     ]
    }
   ],
   "source": [
    "from sklearn.model_selection import train_test_split \n",
    "\n",
    "X_train, X_test, y_train, y_test = train_test_split(\n",
    "    unbalanced_insurance_df.InjuryDesc,\n",
    "    unbalanced_insurance_df.injuryCauseDesc_num,\n",
    "    test_size = 0.3,\n",
    "    random_state = 2022,\n",
    "    #stratify=balanced_insurance_df.injuryCauseDesc_num\n",
    "    )\n",
    "\n",
    "print('rdy')"
   ]
  },
  {
   "cell_type": "code",
   "execution_count": 18,
   "id": "34914990",
   "metadata": {},
   "outputs": [
    {
     "name": "stdout",
     "output_type": "stream",
     "text": [
      "DATA-TEST: UNCLEAN + Unbalanced, MODEL: NB, VECTORIZER: Count \n",
      "\n",
      "              precision    recall  f1-score   support\n",
      "\n",
      "           0       0.71      0.89      0.79      4714\n",
      "           1       0.73      0.90      0.81      4409\n",
      "           2       0.62      0.66      0.64      3971\n",
      "           3       0.64      0.50      0.56      2661\n",
      "           5       0.77      0.47      0.58      1827\n",
      "           6       0.70      0.66      0.68      1717\n",
      "           7       0.76      0.46      0.58      1747\n",
      "           8       0.68      0.43      0.53      1598\n",
      "           9       0.81      0.85      0.83      1624\n",
      "          10       0.63      0.66      0.64      1487\n",
      "          12       0.91      0.89      0.90      1224\n",
      "\n",
      "    accuracy                           0.71     26979\n",
      "   macro avg       0.72      0.67      0.68     26979\n",
      "weighted avg       0.71      0.71      0.70     26979\n",
      "\n"
     ]
    }
   ],
   "source": [
    "from sklearn.naive_bayes import MultinomialNB\n",
    "from sklearn.pipeline import Pipeline\n",
    "from sklearn.metrics import classification_report\n",
    "from sklearn.feature_extraction.text import TfidfVectorizer\n",
    "from sklearn.feature_extraction.text import CountVectorizer\n",
    "\n",
    "clf = Pipeline([\n",
    "        ('vectorizer_tf', CountVectorizer()),\n",
    "        ('Multi NB', MultinomialNB())\n",
    "])\n",
    "\n",
    "clf.fit(X_train, y_train)\n",
    "    \n",
    "\n",
    "y_pred = clf.predict(X_test)\n",
    "\n",
    "print(\"DATA-TEST: UNCLEAN + Unbalanced, MODEL: NB, VECTORIZER: Count \\n\")\n",
    "print(classification_report(y_test, y_pred))"
   ]
  },
  {
   "cell_type": "code",
   "execution_count": 33,
   "id": "ded227d2",
   "metadata": {},
   "outputs": [
    {
     "name": "stdout",
     "output_type": "stream",
     "text": [
      "DATA-TRAINING: UNCLEAN + Unbalanced, MODEL: NB, VECTORIZER: Count \n",
      "\n",
      "              precision    recall  f1-score   support\n",
      "\n",
      "           0       0.75      0.91      0.82     12733\n",
      "           1       0.79      0.92      0.85     11801\n",
      "           2       0.68      0.70      0.69     10656\n",
      "           3       0.73      0.58      0.64      7171\n",
      "           5       0.84      0.60      0.70      4667\n",
      "           6       0.76      0.75      0.76      4669\n",
      "           7       0.83      0.55      0.66      4515\n",
      "           8       0.76      0.54      0.63      4263\n",
      "           9       0.83      0.87      0.85      4199\n",
      "          10       0.66      0.71      0.68      4075\n",
      "          12       0.92      0.92      0.92      3195\n",
      "\n",
      "    accuracy                           0.76     71944\n",
      "   macro avg       0.78      0.73      0.75     71944\n",
      "weighted avg       0.76      0.76      0.75     71944\n",
      "\n"
     ]
    }
   ],
   "source": [
    "from sklearn.naive_bayes import MultinomialNB\n",
    "from sklearn.pipeline import Pipeline\n",
    "from sklearn.metrics import classification_report\n",
    "from sklearn.feature_extraction.text import TfidfVectorizer\n",
    "from sklearn.feature_extraction.text import CountVectorizer\n",
    "\n",
    "clf = Pipeline([\n",
    "        ('vectorizer_tf', CountVectorizer()),\n",
    "        ('Multi NB', MultinomialNB())\n",
    "])\n",
    "\n",
    "clf.fit(X_train, y_train)\n",
    "    \n",
    "\n",
    "y_pred = clf.predict(X_train)\n",
    "\n",
    "print(\"DATA-TRAINING: UNCLEAN + Unbalanced, MODEL: NB, VECTORIZER: Count \\n\")\n",
    "print(classification_report(y_train, y_pred))"
   ]
  },
  {
   "cell_type": "code",
   "execution_count": null,
   "id": "9ea4f6ed",
   "metadata": {},
   "outputs": [],
   "source": [
    "### just SVM"
   ]
  },
  {
   "cell_type": "code",
   "execution_count": 34,
   "id": "5daa8bbe",
   "metadata": {},
   "outputs": [
    {
     "name": "stdout",
     "output_type": "stream",
     "text": [
      "DATA: UNCLEAN , MODEL: SVM, VECTORIZER: CountVectorizer\n",
      "\n",
      "              precision    recall  f1-score   support\n",
      "\n",
      "           0       0.79      0.88      0.83      3149\n",
      "           1       0.74      0.91      0.82      2915\n",
      "           2       0.63      0.73      0.68      2661\n",
      "           3       0.73      0.63      0.68      1782\n",
      "           5       0.79      0.58      0.67      1201\n",
      "           6       0.80      0.74      0.77      1127\n",
      "           7       0.75      0.57      0.65      1158\n",
      "           8       0.73      0.53      0.61      1066\n",
      "           9       0.82      0.82      0.82      1058\n",
      "          10       0.71      0.58      0.64      1027\n",
      "          12       0.90      0.88      0.89       842\n",
      "\n",
      "    accuracy                           0.75     17986\n",
      "   macro avg       0.76      0.71      0.73     17986\n",
      "weighted avg       0.75      0.75      0.74     17986\n",
      "\n",
      "rdy\n"
     ]
    }
   ],
   "source": [
    "from sklearn import svm\n",
    "\n",
    "from sklearn.naive_bayes import MultinomialNB\n",
    "from sklearn.pipeline import Pipeline\n",
    "from sklearn.metrics import classification_report\n",
    "from sklearn.feature_extraction.text import TfidfVectorizer\n",
    "from sklearn.feature_extraction.text import CountVectorizer\n",
    "\n",
    "clf = Pipeline([\n",
    "        ('vectorizer_tf', CountVectorizer()),\n",
    "        ('svm', svm.SVC())\n",
    "])\n",
    "\n",
    "clf.fit(X_train, y_train)\n",
    "    \n",
    "\n",
    "y_pred = clf.predict(X_test)\n",
    "\n",
    "print(\"DATA: UNCLEAN , MODEL: SVM, VECTORIZER: CountVectorizer\\n\")\n",
    "print(classification_report(y_test, y_pred))\n",
    "print('rdy')"
   ]
  },
  {
   "cell_type": "code",
   "execution_count": null,
   "id": "82d27eb8",
   "metadata": {},
   "outputs": [],
   "source": [
    "clf = Pipeline([\n",
    "        ('vectorizer_tf', CountVectorizer()),\n",
    "        ('svm', svm.SVC())\n",
    "])\n",
    "\n",
    "clf.fit(X_train, y_train)\n",
    "    \n",
    "\n",
    "y_pred = clf.predict(X_train)\n",
    "\n",
    "print(\"DATA: UNCLEAN , MODEL: SVM, VECTORIZER: CountVectorizer\\n\")\n",
    "print(classification_report(y_train, y_pred))\n",
    "print('rdy')"
   ]
  },
  {
   "cell_type": "code",
   "execution_count": null,
   "id": "025eb8f1",
   "metadata": {},
   "outputs": [],
   "source": []
  },
  {
   "cell_type": "code",
   "execution_count": null,
   "id": "4ffe0342",
   "metadata": {},
   "outputs": [],
   "source": []
  }
 ],
 "metadata": {
  "kernelspec": {
   "display_name": "Python 3 (ipykernel)",
   "language": "python",
   "name": "python3"
  },
  "language_info": {
   "codemirror_mode": {
    "name": "ipython",
    "version": 3
   },
   "file_extension": ".py",
   "mimetype": "text/x-python",
   "name": "python",
   "nbconvert_exporter": "python",
   "pygments_lexer": "ipython3",
   "version": "3.9.1"
  }
 },
 "nbformat": 4,
 "nbformat_minor": 5
}
